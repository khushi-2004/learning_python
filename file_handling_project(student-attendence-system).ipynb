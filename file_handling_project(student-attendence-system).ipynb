{
 "cells": [
  {
   "cell_type": "markdown",
   "id": "90451528",
   "metadata": {},
   "source": [
    "        date        topic  student1 student2 student3....\n",
    "        02-01-2024  loop    a          p      a"
   ]
  },
  {
   "cell_type": "code",
   "execution_count": 1,
   "id": "928a732f",
   "metadata": {},
   "outputs": [],
   "source": [
    "import datetime"
   ]
  },
  {
   "cell_type": "code",
   "execution_count": 2,
   "id": "3c4c610a",
   "metadata": {},
   "outputs": [
    {
     "name": "stdout",
     "output_type": "stream",
     "text": [
      "['MAXYEAR', 'MINYEAR', 'UTC', '__all__', '__builtins__', '__cached__', '__doc__', '__file__', '__loader__', '__name__', '__package__', '__spec__', 'date', 'datetime', 'datetime_CAPI', 'sys', 'time', 'timedelta', 'timezone', 'tzinfo']\n"
     ]
    }
   ],
   "source": [
    "print(dir(datetime))"
   ]
  },
  {
   "cell_type": "code",
   "execution_count": 8,
   "id": "d7473429",
   "metadata": {},
   "outputs": [
    {
     "name": "stdout",
     "output_type": "stream",
     "text": [
      "2024-01-02\n"
     ]
    }
   ],
   "source": [
    "from datetime import date\n",
    "date=date.today()\n",
    "print(date)"
   ]
  },
  {
   "cell_type": "code",
   "execution_count": 10,
   "id": "394f2dcc",
   "metadata": {},
   "outputs": [
    {
     "name": "stdout",
     "output_type": "stream",
     "text": [
      "2024-01-02 23:55:57.530023\n"
     ]
    }
   ],
   "source": [
    "from datetime import datetime\n",
    "date=datetime.today()\n",
    "print(date)"
   ]
  },
  {
   "cell_type": "code",
   "execution_count": 12,
   "id": "97cf7c3b",
   "metadata": {},
   "outputs": [],
   "source": [
    "# help(datetime)"
   ]
  },
  {
   "cell_type": "code",
   "execution_count": 39,
   "id": "7a07e8eb",
   "metadata": {},
   "outputs": [],
   "source": [
    "file=open('student_attendence.csv','w')\n",
    "header=\"Date,Topic, \"\n",
    "file.write(header)\n",
    "file.close()"
   ]
  },
  {
   "cell_type": "code",
   "execution_count": 40,
   "id": "714840c3",
   "metadata": {},
   "outputs": [],
   "source": [
    "name=['ram','shayam','mohan','radha','krishna']"
   ]
  },
  {
   "cell_type": "code",
   "execution_count": 41,
   "id": "59466ad4",
   "metadata": {},
   "outputs": [],
   "source": [
    "header+=','.join(name)"
   ]
  },
  {
   "cell_type": "code",
   "execution_count": 42,
   "id": "0470a7af",
   "metadata": {},
   "outputs": [
    {
     "data": {
      "text/plain": [
       "'Date,Topic, ram,shayam,mohan,radha,krishna'"
      ]
     },
     "execution_count": 42,
     "metadata": {},
     "output_type": "execute_result"
    }
   ],
   "source": [
    "header"
   ]
  },
  {
   "cell_type": "code",
   "execution_count": null,
   "id": "cb39c7f8",
   "metadata": {},
   "outputs": [],
   "source": []
  },
  {
   "cell_type": "code",
   "execution_count": 43,
   "id": "31a8510d",
   "metadata": {},
   "outputs": [],
   "source": [
    "file=open('student_attendence.csv','w')\n",
    "file.write(header+'\\n')\n",
    "file.close()"
   ]
  },
  {
   "cell_type": "code",
   "execution_count": 51,
   "id": "e3167baf",
   "metadata": {},
   "outputs": [
    {
     "data": {
      "text/plain": [
       "'Date,Topic, ram,shayam,mohan,radha,krishna\\n'"
      ]
     },
     "execution_count": 51,
     "metadata": {},
     "output_type": "execute_result"
    }
   ],
   "source": [
    "file=open('student_attendence.csv','r')\n",
    "data=file.readline()\n",
    "data"
   ]
  },
  {
   "cell_type": "code",
   "execution_count": 52,
   "id": "f855541d",
   "metadata": {},
   "outputs": [],
   "source": [
    "N=data.split(',')[2:]"
   ]
  },
  {
   "cell_type": "code",
   "execution_count": 53,
   "id": "77e8f1a4",
   "metadata": {},
   "outputs": [
    {
     "data": {
      "text/plain": [
       "[' ram', 'shayam', 'mohan', 'radha', 'krishna\\n']"
      ]
     },
     "execution_count": 53,
     "metadata": {},
     "output_type": "execute_result"
    }
   ],
   "source": [
    "N"
   ]
  },
  {
   "cell_type": "code",
   "execution_count": 54,
   "id": "66c06ab5",
   "metadata": {},
   "outputs": [],
   "source": [
    "file.close()"
   ]
  },
  {
   "cell_type": "code",
   "execution_count": 55,
   "id": "10932d96",
   "metadata": {},
   "outputs": [
    {
     "name": "stdout",
     "output_type": "stream",
     "text": [
      "enter topic name: oops\n",
      " ram (A/P)--> a\n",
      "shayam (A/P)--> a\n",
      "mohan (A/P)--> a\n",
      "radha (A/P)--> p\n",
      "krishna\n",
      " (A/P)--> p\n",
      "2024-01-03,oops,a,a,a,p,p\n"
     ]
    }
   ],
   "source": [
    "file=open('student_attendence.csv','a')\n",
    "date=date.today()\n",
    "topic=input(\"enter topic name: \")\n",
    "line=f\"{date},{topic}\"\n",
    "for name in N:\n",
    "    att=input(f'{name} (A/P)--> ')\n",
    "    line+=','+att\n",
    "else:\n",
    "    file.write(line+'\\n')\n",
    "    file.close()\n",
    "print(line)"
   ]
  },
  {
   "cell_type": "code",
   "execution_count": null,
   "id": "470286f2",
   "metadata": {},
   "outputs": [],
   "source": [
    "file=open('student_attendence.csv','r')\n",
    "data=file.read()\n",
    "data"
   ]
  },
  {
   "cell_type": "code",
   "execution_count": null,
   "id": "56dbbd44",
   "metadata": {},
   "outputs": [],
   "source": []
  },
  {
   "cell_type": "code",
   "execution_count": null,
   "id": "b6a0211d",
   "metadata": {},
   "outputs": [],
   "source": []
  },
  {
   "cell_type": "code",
   "execution_count": null,
   "id": "10a33058",
   "metadata": {},
   "outputs": [],
   "source": []
  },
  {
   "cell_type": "code",
   "execution_count": null,
   "id": "276da1fb",
   "metadata": {},
   "outputs": [],
   "source": []
  },
  {
   "cell_type": "code",
   "execution_count": null,
   "id": "b8f93d4e",
   "metadata": {},
   "outputs": [],
   "source": []
  },
  {
   "cell_type": "code",
   "execution_count": 19,
   "id": "59667066",
   "metadata": {},
   "outputs": [],
   "source": [
    "header='Date,topic'"
   ]
  },
  {
   "cell_type": "code",
   "execution_count": 20,
   "id": "3499a164",
   "metadata": {},
   "outputs": [],
   "source": [
    "names=['ram', 'shayam', 'mohan', 'radha', 'krishna']"
   ]
  },
  {
   "cell_type": "code",
   "execution_count": 21,
   "id": "7f169721",
   "metadata": {},
   "outputs": [],
   "source": [
    "file=open('student_attendence.csv','w')\n",
    "for name in names:\n",
    "    header+=','+name\n",
    "else:\n",
    "    file.write(header+'\\n')\n",
    "    file.close()"
   ]
  },
  {
   "cell_type": "code",
   "execution_count": 22,
   "id": "8398a592",
   "metadata": {},
   "outputs": [
    {
     "data": {
      "text/plain": [
       "'Date,topic,ram,shayam,mohan,radha,krishna'"
      ]
     },
     "execution_count": 22,
     "metadata": {},
     "output_type": "execute_result"
    }
   ],
   "source": [
    "header"
   ]
  },
  {
   "cell_type": "code",
   "execution_count": 23,
   "id": "3aecbada",
   "metadata": {},
   "outputs": [],
   "source": [
    "file=open('student_attendence.csv','r')\n",
    "data=file.read()\n",
    "file.close()"
   ]
  },
  {
   "cell_type": "code",
   "execution_count": 24,
   "id": "753020c3",
   "metadata": {},
   "outputs": [
    {
     "data": {
      "text/plain": [
       "'Date,topic,ram,shayam,mohan,radha,krishna\\n'"
      ]
     },
     "execution_count": 24,
     "metadata": {},
     "output_type": "execute_result"
    }
   ],
   "source": [
    "data"
   ]
  },
  {
   "cell_type": "code",
   "execution_count": 28,
   "id": "844fc063",
   "metadata": {},
   "outputs": [],
   "source": [
    "data=data.strip()"
   ]
  },
  {
   "cell_type": "code",
   "execution_count": 30,
   "id": "83f11280",
   "metadata": {},
   "outputs": [
    {
     "data": {
      "text/plain": [
       "['ram', 'shayam', 'mohan', 'radha', 'krishna']"
      ]
     },
     "execution_count": 30,
     "metadata": {},
     "output_type": "execute_result"
    }
   ],
   "source": [
    "data=data.split(',')[2:]\n",
    "data"
   ]
  },
  {
   "cell_type": "code",
   "execution_count": 31,
   "id": "6e3f065a",
   "metadata": {},
   "outputs": [],
   "source": [
    "import datetime"
   ]
  },
  {
   "cell_type": "code",
   "execution_count": 32,
   "id": "a6638fdd",
   "metadata": {},
   "outputs": [],
   "source": [
    "from datetime import date"
   ]
  },
  {
   "cell_type": "code",
   "execution_count": 33,
   "id": "6763b865",
   "metadata": {},
   "outputs": [
    {
     "name": "stdout",
     "output_type": "stream",
     "text": [
      "2024-01-06\n"
     ]
    }
   ],
   "source": [
    "print(date.today())"
   ]
  },
  {
   "cell_type": "code",
   "execution_count": 34,
   "id": "6f3c9dc7",
   "metadata": {},
   "outputs": [
    {
     "name": "stdout",
     "output_type": "stream",
     "text": [
      "2024-01-06\n"
     ]
    }
   ],
   "source": [
    "print(datetime.datetime.now().date())"
   ]
  },
  {
   "cell_type": "code",
   "execution_count": 37,
   "id": "ab2969b8",
   "metadata": {},
   "outputs": [
    {
     "name": "stdout",
     "output_type": "stream",
     "text": [
      "enter topic name: oops\n",
      "ram (A/P)----> a\n",
      "shayam (A/P)----> p\n",
      "mohan (A/P)----> a\n",
      "radha (A/P)----> p\n",
      "krishna (A/P)----> p\n"
     ]
    }
   ],
   "source": [
    "file=open('student_attendence.csv','r')\n",
    "data=file.readline()\n",
    "file.close()\n",
    "file=open('student_attendence.csv','a')\n",
    "data=data.strip().split(',')[2:]\n",
    "date=date.today()\n",
    "topic=input(\"enter topic name: \")\n",
    "row=f\"{date},{topic}\"\n",
    "for name in data:\n",
    "    att=input(f\"{name} (A/P)----> \").upper()\n",
    "    row+=','+att\n",
    "else:\n",
    "    file.write(row+'\\n')\n",
    "    file.close()"
   ]
  },
  {
   "cell_type": "code",
   "execution_count": null,
   "id": "7c69fe99",
   "metadata": {},
   "outputs": [],
   "source": []
  },
  {
   "cell_type": "code",
   "execution_count": null,
   "id": "8a72716e",
   "metadata": {},
   "outputs": [],
   "source": []
  },
  {
   "cell_type": "markdown",
   "id": "d8011c63",
   "metadata": {},
   "source": [
    "# student attendence system"
   ]
  },
  {
   "cell_type": "code",
   "execution_count": 63,
   "id": "da670a78",
   "metadata": {},
   "outputs": [],
   "source": [
    "file=open('student_attendence2.csv','w')\n",
    "header='Date,topic'\n",
    "file.write(header)\n",
    "file.close()"
   ]
  },
  {
   "cell_type": "code",
   "execution_count": 64,
   "id": "8c792206",
   "metadata": {},
   "outputs": [
    {
     "name": "stdout",
     "output_type": "stream",
     "text": [
      "enter the no. of student: 5\n",
      "enter the name: khushi\n",
      "enter the name: ram \n",
      "enter the name: shayam \n",
      "enter the name: mohan\n",
      "enter the name: kukku\n"
     ]
    }
   ],
   "source": [
    "names=[]\n",
    "no_of_student=int(input(\"enter the no. of student: \"))\n",
    "for name in range(no_of_student):\n",
    "    name=input(\"enter the name: \")\n",
    "    names.append(name)"
   ]
  },
  {
   "cell_type": "code",
   "execution_count": 65,
   "id": "583d50be",
   "metadata": {},
   "outputs": [
    {
     "data": {
      "text/plain": [
       "['khushi', 'ram ', 'shayam ', 'mohan', 'kukku']"
      ]
     },
     "execution_count": 65,
     "metadata": {},
     "output_type": "execute_result"
    }
   ],
   "source": [
    "names"
   ]
  },
  {
   "cell_type": "code",
   "execution_count": 66,
   "id": "60a2fbd4",
   "metadata": {},
   "outputs": [],
   "source": [
    "file=open('student_attendence2.csv','w')\n",
    "for name in names:\n",
    "    header+=','+name\n",
    "else:\n",
    "    file.write(header+'\\n')\n",
    "    file.close()"
   ]
  },
  {
   "cell_type": "code",
   "execution_count": 67,
   "id": "8ebb6d97",
   "metadata": {},
   "outputs": [
    {
     "data": {
      "text/plain": [
       "'Date,topic,khushi,ram ,shayam ,mohan,kukku'"
      ]
     },
     "execution_count": 67,
     "metadata": {},
     "output_type": "execute_result"
    }
   ],
   "source": [
    "header"
   ]
  },
  {
   "cell_type": "code",
   "execution_count": 68,
   "id": "5be325c3",
   "metadata": {},
   "outputs": [
    {
     "name": "stdout",
     "output_type": "stream",
     "text": [
      "enter topic name: function\n",
      "khushi (A/P)----> a\n",
      "ram  (A/P)----> p\n",
      "shayam  (A/P)----> a\n",
      "mohan (A/P)----> p\n",
      "kukku (A/P)----> a\n"
     ]
    }
   ],
   "source": [
    "file=open('student_attendence2.csv','r')\n",
    "data=file.readline()\n",
    "file.close()\n",
    "file=open('student_attendence2.csv','a')\n",
    "data=data.strip().split(',')[2:]\n",
    "date=date.today()\n",
    "topic=input(\"enter topic name: \")\n",
    "row=f\"{date},{topic}\"\n",
    "for name in data:\n",
    "    att=input(f\"{name} (A/P)----> \").upper()\n",
    "    row+=','+att\n",
    "else:\n",
    "    file.write(row+'\\n')\n",
    "    file.close()"
   ]
  },
  {
   "cell_type": "code",
   "execution_count": 69,
   "id": "b9e022b1",
   "metadata": {},
   "outputs": [],
   "source": [
    "def read_file(path):\n",
    "    file=open(path,'r')\n",
    "    print(file.read())\n",
    "    file.close()\n",
    "    print(\"file is closed\")"
   ]
  },
  {
   "cell_type": "code",
   "execution_count": 70,
   "id": "8256bec5",
   "metadata": {},
   "outputs": [
    {
     "name": "stdout",
     "output_type": "stream",
     "text": [
      "Date,topic,khushi,ram ,shayam ,mohan,kukku\n",
      "2024-01-06,function,A,P,A,P,A\n",
      "\n",
      "file is closed\n"
     ]
    }
   ],
   "source": [
    "read_file('student_attendence2.csv')"
   ]
  },
  {
   "cell_type": "code",
   "execution_count": 71,
   "id": "b0d41d1e",
   "metadata": {},
   "outputs": [
    {
     "ename": "FileNotFoundError",
     "evalue": "[Errno 2] No such file or directory: 'new1.txt'",
     "output_type": "error",
     "traceback": [
      "\u001b[1;31m---------------------------------------------------------------------------\u001b[0m",
      "\u001b[1;31mFileNotFoundError\u001b[0m                         Traceback (most recent call last)",
      "Cell \u001b[1;32mIn[71], line 1\u001b[0m\n\u001b[1;32m----> 1\u001b[0m read_file(\u001b[38;5;124m'\u001b[39m\u001b[38;5;124mnew1.txt\u001b[39m\u001b[38;5;124m'\u001b[39m)\n",
      "Cell \u001b[1;32mIn[69], line 2\u001b[0m, in \u001b[0;36mread_file\u001b[1;34m(path)\u001b[0m\n\u001b[0;32m      1\u001b[0m \u001b[38;5;28;01mdef\u001b[39;00m \u001b[38;5;21mread_file\u001b[39m(path):\n\u001b[1;32m----> 2\u001b[0m     file\u001b[38;5;241m=\u001b[39m\u001b[38;5;28mopen\u001b[39m(path,\u001b[38;5;124m'\u001b[39m\u001b[38;5;124mr\u001b[39m\u001b[38;5;124m'\u001b[39m)\n\u001b[0;32m      3\u001b[0m     \u001b[38;5;28mprint\u001b[39m(file\u001b[38;5;241m.\u001b[39mread())\n\u001b[0;32m      4\u001b[0m     file\u001b[38;5;241m.\u001b[39mclose()\n",
      "File \u001b[1;32mC:\\ProgramData\\anaconda3\\Lib\\site-packages\\IPython\\core\\interactiveshell.py:286\u001b[0m, in \u001b[0;36m_modified_open\u001b[1;34m(file, *args, **kwargs)\u001b[0m\n\u001b[0;32m    279\u001b[0m \u001b[38;5;28;01mif\u001b[39;00m file \u001b[38;5;129;01min\u001b[39;00m {\u001b[38;5;241m0\u001b[39m, \u001b[38;5;241m1\u001b[39m, \u001b[38;5;241m2\u001b[39m}:\n\u001b[0;32m    280\u001b[0m     \u001b[38;5;28;01mraise\u001b[39;00m \u001b[38;5;167;01mValueError\u001b[39;00m(\n\u001b[0;32m    281\u001b[0m         \u001b[38;5;124mf\u001b[39m\u001b[38;5;124m\"\u001b[39m\u001b[38;5;124mIPython won\u001b[39m\u001b[38;5;124m'\u001b[39m\u001b[38;5;124mt let you open fd=\u001b[39m\u001b[38;5;132;01m{\u001b[39;00mfile\u001b[38;5;132;01m}\u001b[39;00m\u001b[38;5;124m by default \u001b[39m\u001b[38;5;124m\"\u001b[39m\n\u001b[0;32m    282\u001b[0m         \u001b[38;5;124m\"\u001b[39m\u001b[38;5;124mas it is likely to crash IPython. If you know what you are doing, \u001b[39m\u001b[38;5;124m\"\u001b[39m\n\u001b[0;32m    283\u001b[0m         \u001b[38;5;124m\"\u001b[39m\u001b[38;5;124myou can use builtins\u001b[39m\u001b[38;5;124m'\u001b[39m\u001b[38;5;124m open.\u001b[39m\u001b[38;5;124m\"\u001b[39m\n\u001b[0;32m    284\u001b[0m     )\n\u001b[1;32m--> 286\u001b[0m \u001b[38;5;28;01mreturn\u001b[39;00m io_open(file, \u001b[38;5;241m*\u001b[39margs, \u001b[38;5;241m*\u001b[39m\u001b[38;5;241m*\u001b[39mkwargs)\n",
      "\u001b[1;31mFileNotFoundError\u001b[0m: [Errno 2] No such file or directory: 'new1.txt'"
     ]
    }
   ],
   "source": [
    "read_file('new1.txt')"
   ]
  },
  {
   "cell_type": "markdown",
   "id": "515209f8",
   "metadata": {},
   "source": [
    "        try\n",
    "        \n",
    "        except\n",
    "        \n",
    "        else\n",
    "        \n",
    "        finally\n",
    "        "
   ]
  },
  {
   "cell_type": "code",
   "execution_count": 89,
   "id": "d2aa450f",
   "metadata": {},
   "outputs": [],
   "source": [
    "def read_file(path):\n",
    "    while True:\n",
    "        path=input(\"enter path: \")\n",
    "        try:\n",
    "            file=open(path,'r')\n",
    "            print(file.read())\n",
    "            file.close()\n",
    "            print(\"file is closed\")\n",
    "            break\n",
    "        except Exception as e:\n",
    "            print(\"file doesn't exixt\")"
   ]
  },
  {
   "cell_type": "code",
   "execution_count": 90,
   "id": "1c319832",
   "metadata": {},
   "outputs": [
    {
     "name": "stdout",
     "output_type": "stream",
     "text": [
      "enter path: new.txt\n",
      "hello.....new data add new data add , java,c++new data add \n",
      "java\n",
      "c++new data add \n",
      "java\n",
      "c++ \n",
      " hello \n",
      " bye\n",
      "file is closed\n"
     ]
    }
   ],
   "source": [
    "read_file('new1.txt')"
   ]
  },
  {
   "cell_type": "code",
   "execution_count": null,
   "id": "f34435e2",
   "metadata": {},
   "outputs": [],
   "source": []
  }
 ],
 "metadata": {
  "kernelspec": {
   "display_name": "Python 3 (ipykernel)",
   "language": "python",
   "name": "python3"
  },
  "language_info": {
   "codemirror_mode": {
    "name": "ipython",
    "version": 3
   },
   "file_extension": ".py",
   "mimetype": "text/x-python",
   "name": "python",
   "nbconvert_exporter": "python",
   "pygments_lexer": "ipython3",
   "version": "3.11.5"
  }
 },
 "nbformat": 4,
 "nbformat_minor": 5
}
