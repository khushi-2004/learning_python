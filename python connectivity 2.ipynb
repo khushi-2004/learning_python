{
 "cells": [
  {
   "cell_type": "code",
   "execution_count": 1,
   "id": "b8c6b499",
   "metadata": {},
   "outputs": [],
   "source": [
    "import pymysql"
   ]
  },
  {
   "cell_type": "code",
   "execution_count": 4,
   "id": "cc65c9b8",
   "metadata": {},
   "outputs": [
    {
     "data": {
      "text/plain": [
       "<pymysql.connections.Connection at 0x19211699f90>"
      ]
     },
     "execution_count": 4,
     "metadata": {},
     "output_type": "execute_result"
    }
   ],
   "source": [
    "conn=pymysql.connect(host='localhost',user='root',password='',port=3307)\n",
    "conn"
   ]
  },
  {
   "cell_type": "code",
   "execution_count": 5,
   "id": "51ca1cd8",
   "metadata": {},
   "outputs": [
    {
     "name": "stdout",
     "output_type": "stream",
     "text": [
      "['DataError', 'DatabaseError', 'Error', 'IntegrityError', 'InterfaceError', 'InternalError', 'NotSupportedError', 'OperationalError', 'ProgrammingError', 'Warning', '__class__', '__del__', '__delattr__', '__dict__', '__dir__', '__doc__', '__enter__', '__eq__', '__exit__', '__format__', '__ge__', '__getattribute__', '__getstate__', '__gt__', '__hash__', '__init__', '__init_subclass__', '__le__', '__lt__', '__module__', '__ne__', '__new__', '__reduce__', '__reduce_ex__', '__repr__', '__setattr__', '__sizeof__', '__str__', '__subclasshook__', '__weakref__', '_affected_rows', '_auth_plugin_map', '_auth_plugin_name', '_binary_prefix', '_closed', '_connect_attrs', '_create_ssl_ctx', '_execute_command', '_force_close', '_get_auth_plugin_handler', '_get_server_information', '_local_infile', '_next_seq_id', '_process_auth', '_quote_bytes', '_read_bytes', '_read_ok_packet', '_read_packet', '_read_query_result', '_read_timeout', '_request_authentication', '_result', '_rfile', '_secure', '_send_autocommit_mode', '_sock', '_write_bytes', '_write_timeout', 'affected_rows', 'autocommit', 'autocommit_mode', 'begin', 'bind_address', 'character_set_name', 'charset', 'client_flag', 'close', 'collation', 'commit', 'connect', 'connect_timeout', 'cursor', 'cursorclass', 'db', 'decoders', 'encoders', 'encoding', 'escape', 'escape_string', 'get_autocommit', 'get_host_info', 'get_proto_info', 'get_server_info', 'host', 'host_info', 'init_command', 'insert_id', 'kill', 'literal', 'max_allowed_packet', 'next_result', 'open', 'password', 'ping', 'port', 'protocol_version', 'query', 'rollback', 'salt', 'select_db', 'server_capabilities', 'server_charset', 'server_language', 'server_public_key', 'server_status', 'server_thread_id', 'server_version', 'set_character_set', 'set_charset', 'show_warnings', 'sql_mode', 'ssl', 'thread_id', 'unix_socket', 'use_unicode', 'user', 'write_packet']\n"
     ]
    }
   ],
   "source": [
    "print(dir(conn))"
   ]
  },
  {
   "cell_type": "code",
   "execution_count": 7,
   "id": "2ae46297",
   "metadata": {},
   "outputs": [],
   "source": [
    "cur=conn.cursor()"
   ]
  },
  {
   "cell_type": "code",
   "execution_count": 12,
   "id": "4642f022",
   "metadata": {},
   "outputs": [
    {
     "data": {
      "text/plain": [
       "6"
      ]
     },
     "execution_count": 12,
     "metadata": {},
     "output_type": "execute_result"
    }
   ],
   "source": [
    "cur.execute('show databases')"
   ]
  },
  {
   "cell_type": "code",
   "execution_count": 13,
   "id": "92ce8ea7",
   "metadata": {},
   "outputs": [
    {
     "data": {
      "text/plain": [
       "(('college',),\n",
       " ('information_schema',),\n",
       " ('mysql',),\n",
       " ('performance_schema',),\n",
       " ('phpmyadmin',),\n",
       " ('test',))"
      ]
     },
     "execution_count": 13,
     "metadata": {},
     "output_type": "execute_result"
    }
   ],
   "source": [
    "tabels=cur.fetchall()\n",
    "tabels"
   ]
  },
  {
   "cell_type": "code",
   "execution_count": 10,
   "id": "90ce0357",
   "metadata": {},
   "outputs": [],
   "source": [
    "from functools import reduce"
   ]
  },
  {
   "cell_type": "code",
   "execution_count": 14,
   "id": "21d626a8",
   "metadata": {},
   "outputs": [
    {
     "data": {
      "text/plain": [
       "('college',\n",
       " 'information_schema',\n",
       " 'mysql',\n",
       " 'performance_schema',\n",
       " 'phpmyadmin',\n",
       " 'test')"
      ]
     },
     "execution_count": 14,
     "metadata": {},
     "output_type": "execute_result"
    }
   ],
   "source": [
    "reduce(lambda x,y:x+y,tabels)"
   ]
  },
  {
   "cell_type": "code",
   "execution_count": 15,
   "id": "816d3683",
   "metadata": {},
   "outputs": [
    {
     "data": {
      "text/plain": [
       "0"
      ]
     },
     "execution_count": 15,
     "metadata": {},
     "output_type": "execute_result"
    }
   ],
   "source": [
    "cur.execute('use college')"
   ]
  },
  {
   "cell_type": "code",
   "execution_count": 18,
   "id": "df02ef9a",
   "metadata": {},
   "outputs": [
    {
     "data": {
      "text/plain": [
       "0"
      ]
     },
     "execution_count": 18,
     "metadata": {},
     "output_type": "execute_result"
    }
   ],
   "source": [
    "cur.execute('create table student(sid int(5),name varchar(30),age int(5),branch varchar(30))')"
   ]
  },
  {
   "cell_type": "code",
   "execution_count": 20,
   "id": "0d183aeb",
   "metadata": {},
   "outputs": [],
   "source": [
    "sids=[1,2,3,4,5,6,7,8]\n",
    "names=[\"khushi\",\"kukku\",\"ram\",\"sita\",\"rajat\",\"chunnu\",\"rohan\",\"rakesh\"]\n",
    "ages=[21,22,34,23,22,11,45,66]\n",
    "branches=[\"AI7DS\",\"CSE\",\"AI\",\"ML\",\"EE\",\"ME\",\"AI&DS\",\"CSE\"]"
   ]
  },
  {
   "cell_type": "code",
   "execution_count": 21,
   "id": "1e6e4d18",
   "metadata": {},
   "outputs": [],
   "source": [
    "for sid,name,age,branch in zip(sids,names,ages,branches):\n",
    "    cmd=f\"insert into student values('{sid}','{name}','{age}','{branch}')\"\n",
    "    cur.execute(cmd)\n",
    "else:\n",
    "    conn.commit()"
   ]
  },
  {
   "cell_type": "code",
   "execution_count": 22,
   "id": "df0ccdc2",
   "metadata": {},
   "outputs": [
    {
     "data": {
      "text/plain": [
       "8"
      ]
     },
     "execution_count": 22,
     "metadata": {},
     "output_type": "execute_result"
    }
   ],
   "source": [
    "cur.execute('select * from student')"
   ]
  },
  {
   "cell_type": "code",
   "execution_count": 23,
   "id": "7255f681",
   "metadata": {},
   "outputs": [
    {
     "data": {
      "text/plain": [
       "((1, 'khushi', 21, 'AI7DS'),\n",
       " (2, 'kukku', 22, 'CSE'),\n",
       " (3, 'ram', 34, 'AI'),\n",
       " (4, 'sita', 23, 'ML'),\n",
       " (5, 'rajat', 22, 'EE'),\n",
       " (6, 'chunnu', 11, 'ME'),\n",
       " (7, 'rohan', 45, 'AI&DS'),\n",
       " (8, 'rakesh', 66, 'CSE'))"
      ]
     },
     "execution_count": 23,
     "metadata": {},
     "output_type": "execute_result"
    }
   ],
   "source": [
    "cur.fetchall()"
   ]
  },
  {
   "cell_type": "code",
   "execution_count": 24,
   "id": "67ca936b",
   "metadata": {},
   "outputs": [],
   "source": [
    "def db_connect():\n",
    "    conn=pymysql.connect(host='localhost',user='root',password='',port=3307)\n",
    "    cur=conn.cursor()\n",
    "    return conn,cur"
   ]
  },
  {
   "cell_type": "code",
   "execution_count": 25,
   "id": "029c5da9",
   "metadata": {},
   "outputs": [],
   "source": [
    "db,cur=db_connect()"
   ]
  },
  {
   "cell_type": "code",
   "execution_count": 26,
   "id": "8283fdad",
   "metadata": {},
   "outputs": [
    {
     "data": {
      "text/plain": [
       "<pymysql.connections.Connection at 0x19211c26750>"
      ]
     },
     "execution_count": 26,
     "metadata": {},
     "output_type": "execute_result"
    }
   ],
   "source": [
    "db"
   ]
  },
  {
   "cell_type": "code",
   "execution_count": null,
   "id": "2df954f7",
   "metadata": {},
   "outputs": [
    {
     "name": "stdout",
     "output_type": "stream",
     "text": [
      "To use exixting database enter old\n",
      "To create new database enter new\n"
     ]
    }
   ],
   "source": [
    "cur.execute('show databases')\n",
    "database=reduce(lambda x,y:x+y,cur.fetchall())\n",
    "print('To use exixting database enter old')\n",
    "print('To create new database enter new')\n",
    "choice=input('enter your choice: ').lower()\n",
    "if choice=='old':\n",
    "    print(*database,sep='\\n')\n",
    "    db_name=input('enter your database name: ')\n",
    "    if db_name in database:\n",
    "        cur.execute(f'use {db_name}')\n",
    "        cur.execute('show tables')\n",
    "        tables=reduce(lambda x,y:x+y,cur.fetchall())\n",
    "        print(*tables,sep='\\n')\n",
    "        table_name=input(\"enter your table name: \")\n",
    "        cur.execute(f'select * from {table_name}')\n",
    "        print(reduce(lambda x,y:x+y,cur.fetchall()))\n",
    "        \n",
    "#         print(\"select which operation to perform: \")\n",
    "#         print()\n",
    "    else:\n",
    "        print(\"database not exist...\")\n",
    "else:\n",
    "    new_db=input(\"enter new database name: \")\n",
    "    if new_db not in database:\n",
    "        cur.execute(f'create database {new_db}')\n",
    "        cur.execute(f'use {new_db}')\n",
    "        table=input('enter table name: ')\n",
    "#         number_of_column=int(input(\"enter number of1 column: \"))\n",
    "#         col_name=[]\n",
    "#         col_type=[]\n",
    "#         for i in range(number_of_column):\n",
    "#             cname=input(\"enter column name: \")\n",
    "#             l.append(cname)\n",
    "#             ctype=input(\"enter the data type: \")\n",
    "#             col_type.append(ctype)\n",
    "        \n",
    "        cur.execute(f'create table {table}(emp_id int(5),emp_name varchar(30),emp_address varchar(30))')\n",
    "        while input('enter any key to insert row: '):\n",
    "            eid=int(input(\"enter the emp_id: \"))\n",
    "            ename=input(\"enter the emp_name: \")\n",
    "            eaddress=input(\"enter the emp_address: \")\n",
    "            cmd=f\"insert into {table} values('{eid}','{ename}','{eaddress}')\"\n",
    "            cur.execute(cmd)\n",
    "        else: \n",
    "            db.commit()\n",
    "            db.close\n",
    "        \n",
    "    else:\n",
    "        print('Database already exixts...')"
   ]
  },
  {
   "cell_type": "markdown",
   "id": "b716c94e",
   "metadata": {},
   "source": [
    "        sqlite3  ---> server less"
   ]
  },
  {
   "cell_type": "code",
   "execution_count": 6,
   "id": "02e4e53e",
   "metadata": {},
   "outputs": [
    {
     "name": "stdout",
     "output_type": "stream",
     "text": [
      "enter number of1 column: 2\n",
      "enter column name: k\n",
      "enter the data type: in\n",
      "enter column name: j\n",
      "enter the data type: do\n",
      "['k', 'j']\n",
      "['in', 'do']\n",
      "k,in\n",
      "j,do\n"
     ]
    }
   ],
   "source": [
    "number_of_column=int(input(\"enter number of1 column: \"))\n",
    "col_type=[]\n",
    "col=[]\n",
    "for i in range(number_of_column):\n",
    "    cname=input(\"enter column name: \")\n",
    "    col.append(cname)\n",
    "    ctype=input(\"enter the data type: \")\n",
    "    col_type.append(ctype)\n",
    "print(col)\n",
    "print(col_type)\n",
    "for cname,ctype in zip(col,col_type):\n",
    "    print(f'{cname},{ctype}')"
   ]
  },
  {
   "cell_type": "code",
   "execution_count": null,
   "id": "11280577",
   "metadata": {},
   "outputs": [],
   "source": []
  },
  {
   "cell_type": "code",
   "execution_count": 1,
   "id": "9b636758",
   "metadata": {},
   "outputs": [],
   "source": [
    "import pymysql"
   ]
  },
  {
   "cell_type": "code",
   "execution_count": 2,
   "id": "b6606618",
   "metadata": {},
   "outputs": [],
   "source": [
    "conn=pymysql.connect(host='localhost',user='root',password='',port=3307,database='college')\n",
    "cur=conn.cursor()"
   ]
  },
  {
   "cell_type": "code",
   "execution_count": 3,
   "id": "f866e6d2",
   "metadata": {},
   "outputs": [
    {
     "name": "stdout",
     "output_type": "stream",
     "text": [
      "fullNamekhushi\n",
      "phone659849\n",
      "emailkhushijangid643@gmail.com\n",
      "passwordkhushi\n"
     ]
    },
    {
     "data": {
      "text/plain": [
       "()"
      ]
     },
     "execution_count": 3,
     "metadata": {},
     "output_type": "execute_result"
    }
   ],
   "source": [
    "fullname=input('fullName')\n",
    "phone=input('phone')\n",
    "email=input('email')\n",
    "password=input('password')\n",
    "cmd=f\"select * from register where email = '{email}'\"\n",
    "cur.execute(cmd)\n",
    "cur.fetchall()"
   ]
  },
  {
   "cell_type": "code",
   "execution_count": null,
   "id": "b32615b2",
   "metadata": {},
   "outputs": [],
   "source": []
  },
  {
   "cell_type": "code",
   "execution_count": null,
   "id": "33ddc63b",
   "metadata": {},
   "outputs": [],
   "source": []
  }
 ],
 "metadata": {
  "kernelspec": {
   "display_name": "Python 3 (ipykernel)",
   "language": "python",
   "name": "python3"
  },
  "language_info": {
   "codemirror_mode": {
    "name": "ipython",
    "version": 3
   },
   "file_extension": ".py",
   "mimetype": "text/x-python",
   "name": "python",
   "nbconvert_exporter": "python",
   "pygments_lexer": "ipython3",
   "version": "3.11.5"
  }
 },
 "nbformat": 4,
 "nbformat_minor": 5
}
