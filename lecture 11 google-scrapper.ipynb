{
 "cells": [
  {
   "cell_type": "code",
   "execution_count": 6,
   "id": "fa801192",
   "metadata": {},
   "outputs": [
    {
     "name": "stdout",
     "output_type": "stream",
     "text": [
      "Defaulting to user installation because normal site-packages is not writeable\n",
      "Requirement already satisfied: google-play-scraper in c:\\users\\dell\\appdata\\roaming\\python\\python311\\site-packages (1.2.6)\n",
      "Note: you may need to restart the kernel to use updated packages.\n"
     ]
    }
   ],
   "source": [
    "pip install google-play-scraper"
   ]
  },
  {
   "cell_type": "markdown",
   "id": "c234d2ee",
   "metadata": {},
   "source": [
    "## App Detail"
   ]
  },
  {
   "cell_type": "code",
   "execution_count": 46,
   "id": "2ad81728",
   "metadata": {},
   "outputs": [],
   "source": [
    "from google_play_scraper import app"
   ]
  },
  {
   "cell_type": "code",
   "execution_count": 47,
   "id": "d4ae4c8c",
   "metadata": {},
   "outputs": [
    {
     "name": "stdout",
     "output_type": "stream",
     "text": [
      "['__annotations__', '__builtins__', '__call__', '__class__', '__closure__', '__code__', '__defaults__', '__delattr__', '__dict__', '__dir__', '__doc__', '__eq__', '__format__', '__ge__', '__get__', '__getattribute__', '__getstate__', '__globals__', '__gt__', '__hash__', '__init__', '__init_subclass__', '__kwdefaults__', '__le__', '__lt__', '__module__', '__name__', '__ne__', '__new__', '__qualname__', '__reduce__', '__reduce_ex__', '__repr__', '__setattr__', '__sizeof__', '__str__', '__subclasshook__']\n"
     ]
    }
   ],
   "source": [
    "print(dir(app))"
   ]
  },
  {
   "cell_type": "code",
   "execution_count": 48,
   "id": "d6669e90",
   "metadata": {},
   "outputs": [],
   "source": [
    "result=app('com.instagram.android',lang='en',country='in')"
   ]
  },
  {
   "cell_type": "code",
   "execution_count": 49,
   "id": "cbd93b3c",
   "metadata": {},
   "outputs": [
    {
     "data": {
      "text/plain": [
       "{'title': 'Instagram',\n",
       " 'description': \"Little moments lead to big friendships. Share yours on Instagram. \\r\\n—From Meta\\r\\n\\r\\nConnect with friends, find other fans, and see what people around you are up to and into. Explore your interests and post what's going on, from your daily moments to life's highlights.\\r\\n\\r\\nShare what you’re up to and into on Insta®.\\r\\n- Keep up with friends on the fly with Stories and Notes that disappear after 24 hours.\\r\\n- Start group chats and share unfiltered moments with your Close Friends.\\r\\n- Share memories from recent events or trips in Feed.\\r\\n- Turn your life into a movie and discover short, entertaining videos on Instagram with Reels.\\r\\n- Customize your posts with exclusive templates, music, stickers and filters.\\r\\n\\r\\nDive into your interests.\\r\\n- Watch videos from your favorite Creators and discover new content that’s personalized to your interests.\\r\\n- Get inspired by photos and videos from new accounts in Explore.\\r\\n- Discover brands and small businesses, and shop products that are relevant to your personal style.\\r\\n\\r\\nSome Instagram features may not be available in your country or region.\\r\\n\\r\\nTerms and Policies - https://help.instagram.com/581066165581870\",\n",
       " 'descriptionHTML': 'Little moments lead to big friendships. Share yours on Instagram. <br>—From Meta<br><br>Connect with friends, find other fans, and see what people around you are up to and into. Explore your interests and post what&#39;s going on, from your daily moments to life&#39;s highlights.<br><br>Share what you’re up to and into on Insta®.<br>- Keep up with friends on the fly with Stories and Notes that disappear after 24 hours.<br>- Start group chats and share unfiltered moments with your Close Friends.<br>- Share memories from recent events or trips in Feed.<br>- Turn your life into a movie and discover short, entertaining videos on Instagram with Reels.<br>- Customize your posts with exclusive templates, music, stickers and filters.<br><br>Dive into your interests.<br>- Watch videos from your favorite Creators and discover new content that’s personalized to your interests.<br>- Get inspired by photos and videos from new accounts in Explore.<br>- Discover brands and small businesses, and shop products that are relevant to your personal style.<br><br>Some Instagram features may not be available in your country or region.<br><br>Terms and Policies - https://help.instagram.com/581066165581870',\n",
       " 'summary': 'Create & share photos, stories, & reels with friends you love',\n",
       " 'installs': '5,000,000,000+',\n",
       " 'minInstalls': 5000000000,\n",
       " 'realInstalls': 5330407136,\n",
       " 'score': 4.209354,\n",
       " 'ratings': 151677069,\n",
       " 'reviews': 7079169,\n",
       " 'histogram': [17506142, 5905245, 8710476, 14761555, 104793625],\n",
       " 'price': 0,\n",
       " 'free': True,\n",
       " 'currency': 'INR',\n",
       " 'sale': False,\n",
       " 'saleTime': None,\n",
       " 'originalPrice': None,\n",
       " 'saleText': None,\n",
       " 'offersIAP': True,\n",
       " 'inAppProductPrice': '₹5.00 - ₹97,200.00 per item',\n",
       " 'developer': 'Instagram',\n",
       " 'developerId': 'Instagram',\n",
       " 'developerEmail': 'android-support@instagram.com',\n",
       " 'developerWebsite': 'http://help.instagram.com/',\n",
       " 'developerAddress': 'Facebook, Inc.\\n1601 Willow Rd\\nMenlo Park, CA 94025\\nUnited States',\n",
       " 'privacyPolicy': 'http://instagram.com/legal/privacy/',\n",
       " 'genre': 'Social',\n",
       " 'genreId': 'SOCIAL',\n",
       " 'categories': [{'name': 'Social', 'id': 'SOCIAL'}],\n",
       " 'icon': 'https://play-lh.googleusercontent.com/VRMWkE5p3CkWhJs6nv-9ZsLAs1QOg5ob1_3qg-rckwYW7yp1fMrYZqnEFpk0IoVP4LM',\n",
       " 'headerImage': 'https://play-lh.googleusercontent.com/LZdsQGEbRqcZIjvWdiJTjlaGQJQjP097FAIvl4XfOi_XHagmC83Lc04PDxaq8Ml6xJk',\n",
       " 'screenshots': ['https://play-lh.googleusercontent.com/fRvdBTcc5b7pMwXkSEa5-Jm47ZfTt2lc8buw_wbFgF5lkj3GuLyu2B3b4zf7mKXhW3E',\n",
       "  'https://play-lh.googleusercontent.com/W7J_rhJYWt65XQHaZ7N_6Nptu0wC6n4k9WX59qg46KRpe9b5I1LarJqZ7L-Uu9okgA',\n",
       "  'https://play-lh.googleusercontent.com/sn_2xT5NCjg-Km4XiZMAOM6xb4LxDqC_9sd5TENCjbU9D4aXVNrendOmIzHFyQo_kahz',\n",
       "  'https://play-lh.googleusercontent.com/-yPONtQXcCl1ibP7YvXkOLv5O6waJl8AD89La3TvoXnxZR1vbn7oJ1ltuR17RZ7pono',\n",
       "  'https://play-lh.googleusercontent.com/0T3c12jEeO0RZ_D8PCb-Q9pmgLJJs9CFWimCAZixw5qaihNRHdgXUK878gPxSgvglQ',\n",
       "  'https://play-lh.googleusercontent.com/QL9_QFz2viNOULxYwsfUXrUEMImfm86YU9VtiXWI8vEBmiw5zK04l1u46arke3g-Lw'],\n",
       " 'video': None,\n",
       " 'videoImage': None,\n",
       " 'contentRating': 'Rated for 12+',\n",
       " 'contentRatingDescription': 'Parental Guidance Recommended',\n",
       " 'adSupported': True,\n",
       " 'containsAds': True,\n",
       " 'released': 'Apr 3, 2012',\n",
       " 'lastUpdatedOn': 'Jan 30, 2024',\n",
       " 'updated': 1706631994,\n",
       " 'version': None,\n",
       " 'comments': [\"After update the app is getting worse. It shows many features during updation but once we update it doesn't update the features which it showed. They have shown the feature of audience for posting to close friends but I am not getting that even though I have reported n number of times no action is taken so far..! Feeling very frastered about using the Instagram\",\n",
       "  \"The update is getting worse. It doesn't show the albums I have created to select photos from not even the photos that I have I clicked on my own camera given I can't share story neither post photos or update my profile picture. Only WhatsApp images and screenshots are available. I've already the reported the issue twice still no response and the app is updated to date.\",\n",
       "  \"I'm not able to post any stories, be it reels or videos or photos from my gallery and it happens frequently and I'm not able to save videos and photos taken by the instacam as it always say error and sometimes I'm not able to post photos or videos in my feed it's so annoying and irritating. Operators should fix this issue as soon as possible.\",\n",
       "  \"Recently, I have noticed a discrepancy in the time spent data displayed on the app. Even when I use Instagram for a short period, the app reflects a significantly higher time spent in hours. Conversely, on days when I haven't used the app at all, it still shows a substantial amount of time spent. This inconsistency is concerning, as it does not accurately reflect my actual usage patterns. I rely on the time spent feature to monitor and manage my social media activity.\",\n",
       "  \"I've been using Instagram for quite a long time but recently, I've encountered several issues that have significantly impacted my experience. From unexpected crashes to slow loading times, it seems like there are some serious bugs or technical glitches that need to be addressed urgently.I hope to see improvements soon so that I can continue enjoying the platform without interruptions.\",\n",
       "  \"I have recently noticed a lot of bugs in Instagram. When we're on a post or reel, reading the comments, and then try to go back to the post, the entire app reloads, showing a new post on the screen. Additionally, on the recommendation page, if we click on a post with multiple images, the first slide won't load unless we slide to the second and then come back to the first again.\",\n",
       "  'Lately i have been getting a lot of bugs in the app experience. The stories and posts are not uploading with music. The app tells me to connect to high speed internet connection. The internet connection is already at 30-40MBPS. How much more speed do you need. While scrolling through reels the like, comment and sharing button appear anywhere on the side of the screen and not in their designated location. When are these issues going to get fixed?',\n",
       "  \"I also have same problem , since a few months now, I am facing troubles with Instagram which I thought of initially as a technical error. But it's persistent. My Instagram doesn't load fully and properly. It's stuck. Suppose I click a story to view it, it keeps on loading. Same with some accounts and even my feed. Please look into this. Update: Seems to have been fixed. But a few technical glitches seem to be always there.\",\n",
       "  'Reels feature is so so messed up. 1. Every text I put in the reel gets messed up, either changes font size or gets misaligned 2. If I save a reel draft it becomes blank when I publish it. 3. If I choose a cover for my reel from the reel video, it does not include text from the video. 4. And now I have no 30 sec reel option!! I updated my app but still the same. I have reported the problem.',\n",
       "  'It provides a convenient way to share photos and videos, connect with friends, and discover new trends. The user interface is intuitive, making it easy to navigate. However, concerns about privacy and the impact on mental health have been raised. While the platform offers various features, such as stories and IGTV, the algorithmic feed can sometimes be frustrating.',\n",
       "  \"Not well optimised for pixels. Although my pixel 6a device allows 3rd party apps to use all the camera sensors and night mode, Instagram doesn't make use of it, still takes the screenshots instead of actually clicking the pictures. There is also a bug that needs to be fixed. If there is a post with multiple pics or videos in it, when we open it the first photo or video goes black. Unless we swipe to the second and come back to the first, the first one will not be visible.\",\n",
       "  \"Facing few major bugs in which when I try to see someone's story, the video doesn't play and after switching to other person's story, the screen blacks out completely and if I want to share the story with someone by clicking that plane option, it does not open the share menu. This is really irritating as I have already tried all the basic troubleshooting such as logging out, clearing the data of the app and even tried reinstalling the app but the problem still persists.\",\n",
       "  \"This app is so awesome and addictive, it provides very good user experience! No doubt it's a universal BOSS sociàl media app But since last month I'm facing a problem, whenever I open the app and go to the inbox to check or to reply on messages it just shows it's fetchin but i don't see any messages then (I have to clear cache and force stop) once or more than once time then it shows messages. It's happening continuously because of that I feel very frustrated somtimes! Please solve it! Thanks!\",\n",
       "  \"Instagram has become completely useless these days, it doesn't work at all, no videos, photos can be sent to anyone, the gallery is still there, no messages have been shown, this is what buffering is happening. No story is being uploaded, reels are not being uploaded. Even after uninstalling, I still see the same problem. Now I am not trying to use this\",\n",
       "  \"The app has a lot of bugs. If you start to edit a reel it's stuck in between and then you have to restart. Also while selecting photos for post if you choose select multiple the ratio is mismatched for different size of photos. Eventually the photos gets cropped. While posting if you forgot to select one photo and if you have to reselect a photo only select from recent photos is available\",\n",
       "  \"Hello, Instagram support, I would like to suggest you a good suggestion with the development of videos, which has been a great addition to the Instagram application in recent times. Users started writing stories or videos from movies, which were divided into several videos. When a latecomer tries to find the second part of the clip and doesn't find it in large numbers from the videos, you should add the follow option, thanks.✨🥰\",\n",
       "  'Positive: Instagram is a visually appealing platform with a focus on photos and videos. It offers a wide range of creative tools for photo editing and storytelling. The Explore feature helps discover new content and accounts. Negative: Some users have reported issues with the algorithm showing content out of order. The app can be addictive and time-consuming. Privacy concerns have arisen regarding data usage and targeted advertising.',\n",
       "  \"I tried to put a story with music in the background for a viewing duration of 15 seconds. But everytime i tried to upload it ( and i tried numerous times) it would get uploaded with a much shorter duration. Barely 10 seconds. Then at one point i was trying to upload a reel with music in the bg and it got uploaded with a completely different part of the song than the one i selected. It's incredibly IRRITATING. I don't even feel like using the app anymore...\",\n",
       "  \"It's a wonderful app for artists and for also the audience but one problem I'm facing is that I can't use the notes feature on Instagram. It's been more than a year now since this feature has came out and everyone around me are using this feature. I have tried updating, reinstalling, changing account type, privacy status but still can't access it. Please look into the matter. Only I'm having difficulty with this feature or else I'm enjoying the app.\",\n",
       "  \"Unusably unstable app, feed just refuses to load sometimes. Every account and phone has a different set of features (even interactive features like notes), some reels have progress bar some don't. While watching reels, video brightness randomly increases to max (Its just the video not the UI) and some videos are stretched vertically. Randomly blackscreens while watching stories (Goes back to normal when you exit stories). All of this is on stable versions. Reinstalling doesn't work either.\",\n",
       "  \"I've been using VN Video Editor for a while now, and it's become my go-to mobile video editing app. It's incredibly user-friendly, which is perfect for someone like me who doesn't have much experience with video editing. The trimming and merging features are straightforward to use, and I love how easy it is to add transitions, filters, and music to my videos. The selection of stickers and text options allows me to get creative and add a personal touch to my videos. I highly recommend it.\",\n",
       "  \"Recently, I have noticed a discrepancy in the time spent data displayed on the app. Even when I use Instagram for a short period (in minutes), the app reflects a significantly higher time spent in hours. Conversely, on days when I haven't used the app at all, it still shows a substantial amount of time spent. This inconsistency is concerning, as it does not accurately reflect my actual usage patterns. I rely on the time spent feature to monitor and manage my social media activity.\",\n",
       "  \"Overall instagram is a very good social media platform but a glitch has been bothering me for a while. Instagram's new feature of adding music to multiple photo is really cool but i'm unable to add music to a post where there are multiple pictures or so. The option of add music doesn't appear. I've tried updating the app but that isn't helping. I've also tried doing it from my other account but the issues still remains! How can I have access to his new feature?\",\n",
       "  '1. Extremely buggy and slow. 2. Every update seems to break the app further. 3. Cant see the precise date and time of when the reels were uploaded. 4. Can not upload written stories (create mode) without giving permission to access photos and videos 5. Hard to navigate the reel. No double tap to fast forward or backward. Difficult to hold and slide the navigation bar. 6. First hand experience of heavy shadow banning for silly reasons. Need an alternative app run by creators like Nebula.',\n",
       "  \"Recently facing lots of glitches, messages don't show up, there are notifications saying 'you got messages from so and so person during night mode ' but after I open instagram, it's simply not there, later after a certain period of time suddenly I see messages from a friend who texted like 10-15 hrs back. Few of my friends are also facing similar issues. These are leading to huge user experience problems.\",\n",
       "  \"I am extremely disappointed with Instagram's Reels recommendation algorithm. The fact that I keep seeing reels that I have already viewed multiple times is incredibly frustrating. Not only does it waste my time, but it also shows a lack of effort on Instagram's part to provide fresh and relevant content. As a user, I expect better from Instagram. hope they address this problem promptly and streamline their recommendation algorithm to provide a more tailored and engaging experience for all users\",\n",
       "  'I am experiencing wierd bugs 1. Reels or Videos does not play on Feed automatically. Freezes on 1st frame itself. I need to click on the reel, then it plays, it does not autoplay. 2. After i minimise app on phone and lock my phone, the ongoing reel or videos sound keeps on playing even when my phone is locked and i am not surfing on the app. i need to completely remove the app from the minimise section, then it stops playing. kindly fix this asap, doing this daily is kind of frustrating.',\n",
       "  \"It's really a good app ♥︎ this is my one of my favorites app but there are few problems I've been facing 1. When we click our saved audio and then come back to our audio saved page we again come to the top of the page instead of the clicked audio; you need to fix this :( 2. I can't be able to see my proper following account list in order from [EARLIEST] the list keep me showing same accounts. Hope it's help u to make Instagram better >3\",\n",
       "  'I love using insta as it is helpful in many ways to build and market, but this story archive thing has been wreaking my head. So the problem is I can not view the stories in the Archive to put it in highlights. Like I have been reading many other complain about this,but they got it fixed after few days or weeks, but it has been months for me and still nothing is sorted DEAR INSTAGRAM kindly look into it. 🥲',\n",
       "  'Hi, there is a suggestion from my side... as many of us needed. It would be better if you will add an option to delete msgs from the sender and reciever both without unsendind them. Because right now there is an option of deleting the whole chat not the specific message. Just make the chat like regular WhatsApp kind, if you added all of its features. I hope to see it soon.',\n",
       "  \"I need to talk about the elephant in the room. This app is seriously eating up a whopping 43.8GB of my phone's storage. I've tried everything, from clearing the cache to sacrificing my favorite apps, but you're still holding on to that space like it's your own personal kingdom. It's like a never-ending storage nightmare that I can't wake up from So, Instagram, I'm kindly asking for your assistance. Please find a way to free up that space and give my phone some much-needed breathing room\",\n",
       "  'I have been on Instagram for almost 2-3 years. The updates are cool, no lies, the app works normal, no bugs and problems, but.. the reels are extremely disappointing as some reels are copied, reposted, and have stolen pov(s). I get annoyed watching the same reels and the reels of same pov. There is no creativity in the creation of the reels. I suggest to kindly add copyrights in stealing the ideas, reposting, etc. I would expect you to carry the work forward in that direction. Thank you.',\n",
       "  \"Disappointed, Facing an bug for 4 months now of monitization gifts option (ineligible region) although I reside in India. Many times it got activated then it suddenly disappears and appears, sometime it shows, sometimes not. Facing this problem causing me many problems and sometimes it happened to my monitization tab. I have been sending reports to Instagram, but no help from Instagram. If it's solve one bug, then after that brings many new bugs. Very disappointing 👎🏻👎🏻\",\n",
       "  \"Having too many glitches now, Story drafts are overlapping, photos and videos not getting saved. In my mom's phone, clicking a pic in story option is still going automatically as a video to the reels. What the actual hell is going on. Its been weeks and nothing is getting fixed. Many of the stories previously archived are missing now.\",\n",
       "  \"Making reels is a terrible experience! Every time I try to make 1 from my highlights, it never works. The editing tools are difficult & always has errors. It's the worst after you spent so much time working on it and lose everything or can't go further. Editing stories is a nightmare as well. How have they not figured out a better way for us to edit our content within the app?? One of the biggest companies in the world yet they have terrible UX which should be their entire focus.\",\n",
       "  \"This recent update has been extremely buggy. Need to refresh messages to show new ones, can't access any of my albums that are on an SD card. Tried uninstalling and reinstalling, but had yet another issue! When trying to log in to one of my accounts, Instagram kept saying in multiple ways that the account couldn't be found. Had to go through the process of recovering it, even though I was just using it before the reinstall.\",\n",
       "  'Endless ads, getting worse every week. In different accounts I manage you folks keep moving the options to share to story, threads and reels, and it\\'s infuriating. Most recently, SD card files (images and videos) are not properly showing up when looking to upload photos or videos, in any format. Only internal memory and older files are showing with some random cutoff date. This is a major bug that needs to be fixed and we need options to \"see all\" and \"see SD\" folders, too!',\n",
       "  \"There is some glitch right now where it doesn't show captions. If you click into the comments and then back out, the it will finally show up but it's super annoying and inconvenient. Also the auto refresh is getting out of control; you can barely finish looking at something before it's gone. If I want to refresh my feed, guess what, I will refresh it. If I am not initiating it then I don't want it!\",\n",
       "  \"Super glitchy, get notifications for messages that don't exist, when I'm suggested reels I can't choose the ones I get suggested, can't find songs I want to add to stories. Also, a lot of transphobic content that I wouldn't like to see. Wish I could see more of my friend's content and less pages and ads. I deleted cache, uninstalled and reinstalled the app (therefore signing in again) and no change. I really hope you get it together and fix this stuff soon, this is embarrassing for a major app\",\n",
       "  \"Love the app, but it updated itself and now half of my photos don't show. It's really irritating. I've tried everything to get it to show my photos and videos, but nothing has worked, considering uninstalling and then re-installing it. But posting is the most annoying these days. When you select 'add to story' or 'post' it shows 'error' and you have to re-do it and hope it will be successful (which usually it isn't and you have to reset your device) The app is amazing, just a few bugs.🪲 \\U0001fa77🌸\"],\n",
       " 'appId': 'com.instagram.android',\n",
       " 'url': 'https://play.google.com/store/apps/details?id=com.instagram.android&hl=en&gl=in'}"
      ]
     },
     "execution_count": 49,
     "metadata": {},
     "output_type": "execute_result"
    }
   ],
   "source": [
    "result"
   ]
  },
  {
   "cell_type": "code",
   "execution_count": 12,
   "id": "ca2135a1",
   "metadata": {},
   "outputs": [
    {
     "data": {
      "text/plain": [
       "45"
      ]
     },
     "execution_count": 12,
     "metadata": {},
     "output_type": "execute_result"
    }
   ],
   "source": [
    "len(result)"
   ]
  },
  {
   "cell_type": "code",
   "execution_count": 13,
   "id": "ab232cf2",
   "metadata": {},
   "outputs": [
    {
     "data": {
      "text/plain": [
       "dict_keys(['title', 'description', 'descriptionHTML', 'summary', 'installs', 'minInstalls', 'realInstalls', 'score', 'ratings', 'reviews', 'histogram', 'price', 'free', 'currency', 'sale', 'saleTime', 'originalPrice', 'saleText', 'offersIAP', 'inAppProductPrice', 'developer', 'developerId', 'developerEmail', 'developerWebsite', 'developerAddress', 'privacyPolicy', 'genre', 'genreId', 'categories', 'icon', 'headerImage', 'screenshots', 'video', 'videoImage', 'contentRating', 'contentRatingDescription', 'adSupported', 'containsAds', 'released', 'lastUpdatedOn', 'updated', 'version', 'comments', 'appId', 'url'])"
      ]
     },
     "execution_count": 13,
     "metadata": {},
     "output_type": "execute_result"
    }
   ],
   "source": [
    "result.keys()"
   ]
  },
  {
   "cell_type": "markdown",
   "id": "6299c1b7",
   "metadata": {},
   "source": [
    "   \n",
    "           'title', 'summary', 'installs', 'score', 'ratings', 'reviews', 'currency','developerEmail', 'developerWebsite',        'developerAddress', 'genre', 'screenshots', 'contentRating', 'contentRatingDescription','released','appId', 'url'"
   ]
  },
  {
   "cell_type": "code",
   "execution_count": 45,
   "id": "9311a193",
   "metadata": {},
   "outputs": [],
   "source": [
    "# result['title']\n",
    "# result['score']\n",
    "# result['ratings']\n",
    "# result['summary']\n",
    "# result['screenshots'][0]"
   ]
  },
  {
   "cell_type": "code",
   "execution_count": 50,
   "id": "59fd433f",
   "metadata": {},
   "outputs": [],
   "source": [
    "title=[]\n",
    "summary=[]\n",
    "installs=[]\n",
    "score=[]\n",
    "rating=[]\n",
    "review=[]\n",
    "currency=[]\n",
    "developerEmail=[]\n",
    "developerWebsite=[]\n",
    "developerAddress=[]\n",
    "genre=[]\n",
    "screenshots=[]\n",
    "contentRating=[]\n",
    "contentRatingDescription=[]\n",
    "released=[]\n",
    "appId=[]\n",
    "url=[]"
   ]
  },
  {
   "cell_type": "code",
   "execution_count": 51,
   "id": "82ea139d",
   "metadata": {},
   "outputs": [],
   "source": [
    "app_ids=['com.instagram.android','com.snapchat.android','com.whatsapp','com.facebook.katana','com.twitter.android']"
   ]
  },
  {
   "cell_type": "code",
   "execution_count": 52,
   "id": "449cc44a",
   "metadata": {},
   "outputs": [],
   "source": [
    "for app_id in app_ids:\n",
    "    result=app(app_id=app_id,lang='en',country='in')\n",
    "    title.append(result['title'])\n",
    "    summary.append(result['summary'])\n",
    "    installs.append(result['installs'])\n",
    "    score.append(result['score'])\n",
    "    rating.append(result['ratings'])\n",
    "    review.append(result['reviews'])\n",
    "    currency.append(result['currency'])\n",
    "    developerEmail.append(result['developerEmail'])\n",
    "    developerWebsite.append(result['developerWebsite'])\n",
    "    developerAddress.append(result['developerAddress'])\n",
    "    genre.append(result['genre'])\n",
    "    screenshots.append(result['screenshots'])\n",
    "    contentRating.append(result['contentRating'])\n",
    "    contentRatingDescription.append(result['contentRatingDescription'])\n",
    "    released.append(result['released'])\n",
    "    appId.append(result['appId'])\n",
    "    url.append(result['url'])\n",
    "    "
   ]
  },
  {
   "cell_type": "code",
   "execution_count": 53,
   "id": "ee6639ed",
   "metadata": {},
   "outputs": [
    {
     "data": {
      "text/plain": [
       "['Instagram', 'Snapchat', 'WhatsApp Messenger', 'Facebook', 'X']"
      ]
     },
     "execution_count": 53,
     "metadata": {},
     "output_type": "execute_result"
    }
   ],
   "source": [
    "title"
   ]
  },
  {
   "cell_type": "code",
   "execution_count": 55,
   "id": "68657b6b",
   "metadata": {},
   "outputs": [
    {
     "data": {
      "text/plain": [
       "['Create & share photos, stories, & reels with friends you love',\n",
       " 'Share the moment!',\n",
       " 'Simple. Reliable. Private.',\n",
       " 'Explore the things you love',\n",
       " 'The X app is the trusted digital town square for everyone.']"
      ]
     },
     "execution_count": 55,
     "metadata": {},
     "output_type": "execute_result"
    }
   ],
   "source": [
    "summary"
   ]
  },
  {
   "cell_type": "code",
   "execution_count": 56,
   "id": "1a455201",
   "metadata": {},
   "outputs": [
    {
     "data": {
      "text/plain": [
       "[4.209355, 3.905952, 4.051722, 4.030811, 4.1130557]"
      ]
     },
     "execution_count": 56,
     "metadata": {},
     "output_type": "execute_result"
    }
   ],
   "source": [
    "score"
   ]
  },
  {
   "cell_type": "code",
   "execution_count": 57,
   "id": "ea687754",
   "metadata": {},
   "outputs": [
    {
     "data": {
      "text/plain": [
       "['https://play.google.com/store/apps/details?id=com.instagram.android&hl=en&gl=in',\n",
       " 'https://play.google.com/store/apps/details?id=com.snapchat.android&hl=en&gl=in',\n",
       " 'https://play.google.com/store/apps/details?id=com.whatsapp&hl=en&gl=in',\n",
       " 'https://play.google.com/store/apps/details?id=com.facebook.katana&hl=en&gl=in',\n",
       " 'https://play.google.com/store/apps/details?id=com.twitter.android&hl=en&gl=in']"
      ]
     },
     "execution_count": 57,
     "metadata": {},
     "output_type": "execute_result"
    }
   ],
   "source": [
    "url"
   ]
  },
  {
   "cell_type": "code",
   "execution_count": 58,
   "id": "4b3a2385",
   "metadata": {},
   "outputs": [],
   "source": [
    "import pandas as pd"
   ]
  },
  {
   "cell_type": "code",
   "execution_count": 60,
   "id": "954546f0",
   "metadata": {},
   "outputs": [],
   "source": [
    "df=pd.DataFrame({\n",
    "    'name':title,\n",
    "    'score':score,\n",
    "    'rating':rating,\n",
    "    'installs':installs,\n",
    "    'reviews':review,\n",
    "    'currency':currency,\n",
    "    'developerEmail':developerEmail,\n",
    "    'developerWebsite':developerWebsite,\n",
    "    'url':url\n",
    "})"
   ]
  },
  {
   "cell_type": "code",
   "execution_count": 61,
   "id": "2b2119ba",
   "metadata": {},
   "outputs": [],
   "source": [
    "df.to_csv('app_data.csv')"
   ]
  },
  {
   "cell_type": "code",
   "execution_count": 101,
   "id": "191a4bf6",
   "metadata": {},
   "outputs": [],
   "source": [
    "from google_play_scraper import Sort, reviews\n",
    "\n",
    "result, continuation_token = reviews(\n",
    "    'com.instagram.android',\n",
    "    lang='en', # defaults to 'en'\n",
    "    country='us', # defaults to 'us'\n",
    "    sort=Sort.NEWEST, # defaults to Sort.NEWEST\n",
    "    count=10, # defaults to 100\n",
    "    filter_score_with=5 # defaults to None(means all score)\n",
    ")\n",
    "\n",
    "# If you pass `continuation_token` as an argument to the reviews function at this point,\n",
    "# it will crawl the items after 3 review items.\n",
    "\n",
    "result, _ = reviews(\n",
    "    'com.fantome.penguinisle',\n",
    "    continuation_token=continuation_token # defaults to None(load from the beginning)\n",
    ")"
   ]
  },
  {
   "cell_type": "code",
   "execution_count": 102,
   "id": "356dee9b",
   "metadata": {},
   "outputs": [
    {
     "name": "stdout",
     "output_type": "stream",
     "text": [
      "[{'reviewId': '1199f889-5a6b-41d5-9908-32518b5856a5', 'userName': 'Galistar07water', 'userImage': 'https://play-lh.googleusercontent.com/a-/ALV-UjWlEiksEdnElvB0fXxS8CZbJi7NmmfdvgicWa6fAIMtAlU', 'content': \"I'm not a fan of the ads, but still, this is the perfect game for penguin lovers like me. It's very relaxing and the penguins are so cute!\", 'score': 5, 'thumbsUpCount': 0, 'reviewCreatedVersion': '1.68.0', 'at': datetime.datetime(2024, 1, 30, 16, 35, 33), 'replyContent': 'Please try the following steps to recover the ads:\\n1. Clear the cache on Google Play and uninstall the game.\\n2. For Android devices: Go to \"Settings → Google → Ads → Reset Advertising ID.\"\\n3. Reinstall the application.\\n4. If none of these measures work, try switching your network environment and try again.\\n', 'repliedAt': datetime.datetime(2024, 1, 11, 2, 37, 24), 'appVersion': '1.68.0'}, {'reviewId': '3a102ea8-3d4d-4438-aadf-77d1eec2f617', 'userName': 'Ali Rodriguez', 'userImage': 'https://play-lh.googleusercontent.com/a/ACg8ocI_dZAnZVBNvWOIpNkKsHrFCCUJxzp4PA0W0PILPdo0=mo', 'content': 'Very fun and cooll', 'score': 5, 'thumbsUpCount': 0, 'reviewCreatedVersion': '1.67.1', 'at': datetime.datetime(2024, 1, 30, 8, 25, 11), 'replyContent': None, 'repliedAt': None, 'appVersion': '1.67.1'}, {'reviewId': '388901b2-53e1-4faf-bc17-fc5e8b1416ef', 'userName': 'Alex Lawton', 'userImage': 'https://play-lh.googleusercontent.com/a-/ALV-UjXrq9mbK3h6CAeQ1xZIe-aqjB2Tf49qA_qgC5_f1eSfBy4', 'content': 'Super fun. Gorgeous graphics. Me and my friend are competing to see who can get the farthest and shes been slackin recently. 😈🔥‼️', 'score': 5, 'thumbsUpCount': 0, 'reviewCreatedVersion': '1.67.1', 'at': datetime.datetime(2024, 1, 29, 14, 43, 23), 'replyContent': None, 'repliedAt': None, 'appVersion': '1.67.1'}, {'reviewId': 'b1efe6af-dc95-401e-be93-4d8a9d22c32b', 'userName': 'Lera Baikoff', 'userImage': 'https://play-lh.googleusercontent.com/a-/ALV-UjXFeJDgMuXUqu3JpDZhWYtJbnDh1xb00gGQb7h5LMk0LVw', 'content': 'This is so cute omg', 'score': 5, 'thumbsUpCount': 0, 'reviewCreatedVersion': '1.67.1', 'at': datetime.datetime(2024, 1, 29, 12, 28, 32), 'replyContent': None, 'repliedAt': None, 'appVersion': '1.67.1'}, {'reviewId': 'ac5c0f81-2e60-4dda-8a7f-4ccc79f6e12f', 'userName': 'cloudy', 'userImage': 'https://play-lh.googleusercontent.com/a-/ALV-UjWIFU3gP6S4QjHKH6-tQ3RYK9eyobyrVr2fCkiiVDX86THb', 'content': 'this game is adorable and I honestly love everything about it', 'score': 5, 'thumbsUpCount': 0, 'reviewCreatedVersion': '1.67.1', 'at': datetime.datetime(2024, 1, 28, 20, 23, 38), 'replyContent': None, 'repliedAt': None, 'appVersion': '1.67.1'}, {'reviewId': '39062591-f107-4b53-a081-f3242c1041d4', 'userName': 'dantel Tyndell', 'userImage': 'https://play-lh.googleusercontent.com/a-/ALV-UjVfyZ9gt7KDSnulRN0tAqcyhx9eL4MUnKM2QExTHuZc5g', 'content': 'It is a nice calming game', 'score': 5, 'thumbsUpCount': 0, 'reviewCreatedVersion': '1.67.1', 'at': datetime.datetime(2024, 1, 28, 17, 51, 25), 'replyContent': None, 'repliedAt': None, 'appVersion': '1.67.1'}, {'reviewId': '5b6a8446-8d15-4269-ba74-926b87f8185d', 'userName': 'Michael Pierce', 'userImage': 'https://play-lh.googleusercontent.com/a-/ALV-UjUJ_NMaGsugWzxXqCaKcx_et97SanFH6oa69243Mcvw08M', 'content': 'Delightfully distracting at a calming pace with soothing effects.', 'score': 5, 'thumbsUpCount': 0, 'reviewCreatedVersion': '1.67.1', 'at': datetime.datetime(2024, 1, 28, 12, 5, 4), 'replyContent': None, 'repliedAt': None, 'appVersion': '1.67.1'}, {'reviewId': '2d08e17f-4d85-43f1-8168-513c1fa61acb', 'userName': 'SR CREATIONS', 'userImage': 'https://play-lh.googleusercontent.com/a-/ALV-UjWDytJJtdNz80JVJQzIaNLNjL4Zax9rMEB3oPDKA--Cbz8', 'content': 'awesome and feel good game i loved it', 'score': 5, 'thumbsUpCount': 0, 'reviewCreatedVersion': '1.67.1', 'at': datetime.datetime(2024, 1, 27, 14, 23, 7), 'replyContent': None, 'repliedAt': None, 'appVersion': '1.67.1'}, {'reviewId': 'ffca2673-ad97-4ffc-aced-02258a91b668', 'userName': 'Zhi Wang', 'userImage': 'https://play-lh.googleusercontent.com/a-/ALV-UjUWcz2KGjpY5Czd9ZlZ6OfyCJAfmYyGi-RWE14as4R0zFNr', 'content': \"It's cute and relaxing\", 'score': 5, 'thumbsUpCount': 0, 'reviewCreatedVersion': '1.67.1', 'at': datetime.datetime(2024, 1, 27, 6, 17, 10), 'replyContent': None, 'repliedAt': None, 'appVersion': '1.67.1'}, {'reviewId': 'f308abb0-6aa7-4915-9c0a-f12aa91c52f5', 'userName': 'Love Peace', 'userImage': 'https://play-lh.googleusercontent.com/a/ACg8ocI0NJ2Vuow-YIURR3si_0XaZgzhaJ-slHQl6M3e0Toy=mo', 'content': '❤️😃👍', 'score': 5, 'thumbsUpCount': 0, 'reviewCreatedVersion': None, 'at': datetime.datetime(2024, 1, 26, 20, 50, 12), 'replyContent': None, 'repliedAt': None, 'appVersion': None}]\n"
     ]
    }
   ],
   "source": [
    "print(result)"
   ]
  },
  {
   "cell_type": "code",
   "execution_count": 64,
   "id": "37ba29e6",
   "metadata": {},
   "outputs": [
    {
     "data": {
      "text/plain": [
       "3"
      ]
     },
     "execution_count": 64,
     "metadata": {},
     "output_type": "execute_result"
    }
   ],
   "source": [
    "len(result)"
   ]
  },
  {
   "cell_type": "code",
   "execution_count": 98,
   "id": "2a37da72",
   "metadata": {},
   "outputs": [
    {
     "data": {
      "text/plain": [
       "{'reviewId': 'ffca2673-ad97-4ffc-aced-02258a91b668',\n",
       " 'userName': 'Zhi Wang',\n",
       " 'userImage': 'https://play-lh.googleusercontent.com/a-/ALV-UjUWcz2KGjpY5Czd9ZlZ6OfyCJAfmYyGi-RWE14as4R0zFNr',\n",
       " 'content': \"It's cute and relaxing\",\n",
       " 'score': 5,\n",
       " 'thumbsUpCount': 0,\n",
       " 'reviewCreatedVersion': '1.67.1',\n",
       " 'at': datetime.datetime(2024, 1, 27, 6, 17, 10),\n",
       " 'replyContent': None,\n",
       " 'repliedAt': None,\n",
       " 'appVersion': '1.67.1'}"
      ]
     },
     "execution_count": 98,
     "metadata": {},
     "output_type": "execute_result"
    }
   ],
   "source": [
    "result[8]"
   ]
  },
  {
   "cell_type": "code",
   "execution_count": 71,
   "id": "43ed5159",
   "metadata": {},
   "outputs": [
    {
     "name": "stdout",
     "output_type": "stream",
     "text": [
      "https://play-lh.googleusercontent.com/a-/ALV-UjWlEiksEdnElvB0fXxS8CZbJi7NmmfdvgicWa6fAIMtAlU\n"
     ]
    },
    {
     "data": {
      "text/plain": [
       "'Please try the following steps to recover the ads:\\n1. Clear the cache on Google Play and uninstall the game.\\n2. For Android devices: Go to \"Settings → Google → Ads → Reset Advertising ID.\"\\n3. Reinstall the application.\\n4. If none of these measures work, try switching your network environment and try again.\\n'"
      ]
     },
     "execution_count": 71,
     "metadata": {},
     "output_type": "execute_result"
    }
   ],
   "source": [
    "result[0]['userName']\n",
    "print(result[0]['userImage'])\n",
    "result[0]['content']\n",
    "result[0]['score']\n",
    "result[0]['replyContent']"
   ]
  },
  {
   "cell_type": "code",
   "execution_count": 73,
   "id": "86201cfc",
   "metadata": {},
   "outputs": [],
   "source": [
    "app_ids=['com.instagram.android','com.snapchat.android','com.whatsapp','com.facebook.katana','com.twitter.android']"
   ]
  },
  {
   "cell_type": "code",
   "execution_count": 88,
   "id": "70335833",
   "metadata": {},
   "outputs": [],
   "source": [
    "Name=[]\n",
    "userImage=[]\n",
    "content=[]\n",
    "score=[]\n",
    "replyContent=[]"
   ]
  },
  {
   "cell_type": "code",
   "execution_count": 89,
   "id": "2f0630cf",
   "metadata": {},
   "outputs": [],
   "source": [
    "for app_id in app_ids:\n",
    "    result, continuation_token = reviews(\n",
    "        'com.instagram.android',\n",
    "        lang='en', # defaults to 'en'\n",
    "        country='us', # defaults to 'us'\n",
    "        sort=Sort.NEWEST, # defaults to Sort.NEWEST\n",
    "        count=3, # defaults to 100\n",
    "        filter_score_with=5 # defaults to None(means all score)\n",
    "    )\n",
    "    result, _ = reviews(\n",
    "        'com.fantome.penguinisle',\n",
    "        continuation_token=continuation_token # defaults to None(load from the beginning)\n",
    "    )\n",
    "    for i in result:\n",
    "        Name.append(i['userName'])\n",
    "        userImage.append(i['userImage'])\n",
    "        content.append(i['content'])\n",
    "        score.append(i['score'])\n",
    "        replyContent.append(i['replyContent'])"
   ]
  },
  {
   "cell_type": "code",
   "execution_count": 90,
   "id": "0afa21cf",
   "metadata": {},
   "outputs": [
    {
     "name": "stdout",
     "output_type": "stream",
     "text": [
      "['Galistar07water', 'Ali Rodriguez', 'Alex Lawton', 'Galistar07water', 'Ali Rodriguez', 'Alex Lawton', 'Galistar07water', 'Ali Rodriguez', 'Alex Lawton', 'Galistar07water', 'Ali Rodriguez', 'Alex Lawton', 'Galistar07water', 'Ali Rodriguez', 'Alex Lawton']\n"
     ]
    }
   ],
   "source": [
    "print(Name)"
   ]
  },
  {
   "cell_type": "code",
   "execution_count": 84,
   "id": "b732bd53",
   "metadata": {},
   "outputs": [
    {
     "name": "stdout",
     "output_type": "stream",
     "text": [
      "['https://play-lh.googleusercontent.com/a-/ALV-UjWlEiksEdnElvB0fXxS8CZbJi7NmmfdvgicWa6fAIMtAlU', 'https://play-lh.googleusercontent.com/a/ACg8ocI_dZAnZVBNvWOIpNkKsHrFCCUJxzp4PA0W0PILPdo0=mo', 'https://play-lh.googleusercontent.com/a-/ALV-UjXrq9mbK3h6CAeQ1xZIe-aqjB2Tf49qA_qgC5_f1eSfBy4', 'https://play-lh.googleusercontent.com/a-/ALV-UjWlEiksEdnElvB0fXxS8CZbJi7NmmfdvgicWa6fAIMtAlU', 'https://play-lh.googleusercontent.com/a/ACg8ocI_dZAnZVBNvWOIpNkKsHrFCCUJxzp4PA0W0PILPdo0=mo', 'https://play-lh.googleusercontent.com/a-/ALV-UjXrq9mbK3h6CAeQ1xZIe-aqjB2Tf49qA_qgC5_f1eSfBy4', 'https://play-lh.googleusercontent.com/a-/ALV-UjWlEiksEdnElvB0fXxS8CZbJi7NmmfdvgicWa6fAIMtAlU', 'https://play-lh.googleusercontent.com/a/ACg8ocI_dZAnZVBNvWOIpNkKsHrFCCUJxzp4PA0W0PILPdo0=mo', 'https://play-lh.googleusercontent.com/a-/ALV-UjXrq9mbK3h6CAeQ1xZIe-aqjB2Tf49qA_qgC5_f1eSfBy4', 'https://play-lh.googleusercontent.com/a-/ALV-UjWlEiksEdnElvB0fXxS8CZbJi7NmmfdvgicWa6fAIMtAlU', 'https://play-lh.googleusercontent.com/a/ACg8ocI_dZAnZVBNvWOIpNkKsHrFCCUJxzp4PA0W0PILPdo0=mo', 'https://play-lh.googleusercontent.com/a-/ALV-UjXrq9mbK3h6CAeQ1xZIe-aqjB2Tf49qA_qgC5_f1eSfBy4', 'https://play-lh.googleusercontent.com/a-/ALV-UjWlEiksEdnElvB0fXxS8CZbJi7NmmfdvgicWa6fAIMtAlU', 'https://play-lh.googleusercontent.com/a/ACg8ocI_dZAnZVBNvWOIpNkKsHrFCCUJxzp4PA0W0PILPdo0=mo', 'https://play-lh.googleusercontent.com/a-/ALV-UjXrq9mbK3h6CAeQ1xZIe-aqjB2Tf49qA_qgC5_f1eSfBy4']\n"
     ]
    }
   ],
   "source": [
    "print(userImage)"
   ]
  },
  {
   "cell_type": "code",
   "execution_count": 92,
   "id": "b06a9a59",
   "metadata": {},
   "outputs": [
    {
     "name": "stdout",
     "output_type": "stream",
     "text": [
      "15\n",
      "15\n",
      "15\n",
      "15\n",
      "15\n"
     ]
    }
   ],
   "source": [
    "print(len(Name))\n",
    "print(len(userImage))\n",
    "print(len(content))\n",
    "print(len(score))\n",
    "print(len(replyContent))"
   ]
  },
  {
   "cell_type": "code",
   "execution_count": 94,
   "id": "3a102617",
   "metadata": {},
   "outputs": [
    {
     "data": {
      "text/html": [
       "<div>\n",
       "<style scoped>\n",
       "    .dataframe tbody tr th:only-of-type {\n",
       "        vertical-align: middle;\n",
       "    }\n",
       "\n",
       "    .dataframe tbody tr th {\n",
       "        vertical-align: top;\n",
       "    }\n",
       "\n",
       "    .dataframe thead th {\n",
       "        text-align: right;\n",
       "    }\n",
       "</style>\n",
       "<table border=\"1\" class=\"dataframe\">\n",
       "  <thead>\n",
       "    <tr style=\"text-align: right;\">\n",
       "      <th></th>\n",
       "      <th>userName</th>\n",
       "      <th>userImage</th>\n",
       "      <th>content</th>\n",
       "      <th>score</th>\n",
       "      <th>replyContent</th>\n",
       "    </tr>\n",
       "  </thead>\n",
       "  <tbody>\n",
       "    <tr>\n",
       "      <th>0</th>\n",
       "      <td>Galistar07water</td>\n",
       "      <td>https://play-lh.googleusercontent.com/a-/ALV-U...</td>\n",
       "      <td>I'm not a fan of the ads, but still, this is t...</td>\n",
       "      <td>5</td>\n",
       "      <td>Please try the following steps to recover the ...</td>\n",
       "    </tr>\n",
       "    <tr>\n",
       "      <th>1</th>\n",
       "      <td>Ali Rodriguez</td>\n",
       "      <td>https://play-lh.googleusercontent.com/a/ACg8oc...</td>\n",
       "      <td>Very fun and cooll</td>\n",
       "      <td>5</td>\n",
       "      <td>None</td>\n",
       "    </tr>\n",
       "    <tr>\n",
       "      <th>2</th>\n",
       "      <td>Alex Lawton</td>\n",
       "      <td>https://play-lh.googleusercontent.com/a-/ALV-U...</td>\n",
       "      <td>Super fun. Gorgeous graphics. Me and my friend...</td>\n",
       "      <td>5</td>\n",
       "      <td>None</td>\n",
       "    </tr>\n",
       "    <tr>\n",
       "      <th>3</th>\n",
       "      <td>Galistar07water</td>\n",
       "      <td>https://play-lh.googleusercontent.com/a-/ALV-U...</td>\n",
       "      <td>I'm not a fan of the ads, but still, this is t...</td>\n",
       "      <td>5</td>\n",
       "      <td>Please try the following steps to recover the ...</td>\n",
       "    </tr>\n",
       "    <tr>\n",
       "      <th>4</th>\n",
       "      <td>Ali Rodriguez</td>\n",
       "      <td>https://play-lh.googleusercontent.com/a/ACg8oc...</td>\n",
       "      <td>Very fun and cooll</td>\n",
       "      <td>5</td>\n",
       "      <td>None</td>\n",
       "    </tr>\n",
       "    <tr>\n",
       "      <th>5</th>\n",
       "      <td>Alex Lawton</td>\n",
       "      <td>https://play-lh.googleusercontent.com/a-/ALV-U...</td>\n",
       "      <td>Super fun. Gorgeous graphics. Me and my friend...</td>\n",
       "      <td>5</td>\n",
       "      <td>None</td>\n",
       "    </tr>\n",
       "    <tr>\n",
       "      <th>6</th>\n",
       "      <td>Galistar07water</td>\n",
       "      <td>https://play-lh.googleusercontent.com/a-/ALV-U...</td>\n",
       "      <td>I'm not a fan of the ads, but still, this is t...</td>\n",
       "      <td>5</td>\n",
       "      <td>Please try the following steps to recover the ...</td>\n",
       "    </tr>\n",
       "    <tr>\n",
       "      <th>7</th>\n",
       "      <td>Ali Rodriguez</td>\n",
       "      <td>https://play-lh.googleusercontent.com/a/ACg8oc...</td>\n",
       "      <td>Very fun and cooll</td>\n",
       "      <td>5</td>\n",
       "      <td>None</td>\n",
       "    </tr>\n",
       "    <tr>\n",
       "      <th>8</th>\n",
       "      <td>Alex Lawton</td>\n",
       "      <td>https://play-lh.googleusercontent.com/a-/ALV-U...</td>\n",
       "      <td>Super fun. Gorgeous graphics. Me and my friend...</td>\n",
       "      <td>5</td>\n",
       "      <td>None</td>\n",
       "    </tr>\n",
       "    <tr>\n",
       "      <th>9</th>\n",
       "      <td>Galistar07water</td>\n",
       "      <td>https://play-lh.googleusercontent.com/a-/ALV-U...</td>\n",
       "      <td>I'm not a fan of the ads, but still, this is t...</td>\n",
       "      <td>5</td>\n",
       "      <td>Please try the following steps to recover the ...</td>\n",
       "    </tr>\n",
       "    <tr>\n",
       "      <th>10</th>\n",
       "      <td>Ali Rodriguez</td>\n",
       "      <td>https://play-lh.googleusercontent.com/a/ACg8oc...</td>\n",
       "      <td>Very fun and cooll</td>\n",
       "      <td>5</td>\n",
       "      <td>None</td>\n",
       "    </tr>\n",
       "    <tr>\n",
       "      <th>11</th>\n",
       "      <td>Alex Lawton</td>\n",
       "      <td>https://play-lh.googleusercontent.com/a-/ALV-U...</td>\n",
       "      <td>Super fun. Gorgeous graphics. Me and my friend...</td>\n",
       "      <td>5</td>\n",
       "      <td>None</td>\n",
       "    </tr>\n",
       "    <tr>\n",
       "      <th>12</th>\n",
       "      <td>Galistar07water</td>\n",
       "      <td>https://play-lh.googleusercontent.com/a-/ALV-U...</td>\n",
       "      <td>I'm not a fan of the ads, but still, this is t...</td>\n",
       "      <td>5</td>\n",
       "      <td>Please try the following steps to recover the ...</td>\n",
       "    </tr>\n",
       "    <tr>\n",
       "      <th>13</th>\n",
       "      <td>Ali Rodriguez</td>\n",
       "      <td>https://play-lh.googleusercontent.com/a/ACg8oc...</td>\n",
       "      <td>Very fun and cooll</td>\n",
       "      <td>5</td>\n",
       "      <td>None</td>\n",
       "    </tr>\n",
       "    <tr>\n",
       "      <th>14</th>\n",
       "      <td>Alex Lawton</td>\n",
       "      <td>https://play-lh.googleusercontent.com/a-/ALV-U...</td>\n",
       "      <td>Super fun. Gorgeous graphics. Me and my friend...</td>\n",
       "      <td>5</td>\n",
       "      <td>None</td>\n",
       "    </tr>\n",
       "  </tbody>\n",
       "</table>\n",
       "</div>"
      ],
      "text/plain": [
       "           userName                                          userImage  \\\n",
       "0   Galistar07water  https://play-lh.googleusercontent.com/a-/ALV-U...   \n",
       "1     Ali Rodriguez  https://play-lh.googleusercontent.com/a/ACg8oc...   \n",
       "2       Alex Lawton  https://play-lh.googleusercontent.com/a-/ALV-U...   \n",
       "3   Galistar07water  https://play-lh.googleusercontent.com/a-/ALV-U...   \n",
       "4     Ali Rodriguez  https://play-lh.googleusercontent.com/a/ACg8oc...   \n",
       "5       Alex Lawton  https://play-lh.googleusercontent.com/a-/ALV-U...   \n",
       "6   Galistar07water  https://play-lh.googleusercontent.com/a-/ALV-U...   \n",
       "7     Ali Rodriguez  https://play-lh.googleusercontent.com/a/ACg8oc...   \n",
       "8       Alex Lawton  https://play-lh.googleusercontent.com/a-/ALV-U...   \n",
       "9   Galistar07water  https://play-lh.googleusercontent.com/a-/ALV-U...   \n",
       "10    Ali Rodriguez  https://play-lh.googleusercontent.com/a/ACg8oc...   \n",
       "11      Alex Lawton  https://play-lh.googleusercontent.com/a-/ALV-U...   \n",
       "12  Galistar07water  https://play-lh.googleusercontent.com/a-/ALV-U...   \n",
       "13    Ali Rodriguez  https://play-lh.googleusercontent.com/a/ACg8oc...   \n",
       "14      Alex Lawton  https://play-lh.googleusercontent.com/a-/ALV-U...   \n",
       "\n",
       "                                              content  score  \\\n",
       "0   I'm not a fan of the ads, but still, this is t...      5   \n",
       "1                                  Very fun and cooll      5   \n",
       "2   Super fun. Gorgeous graphics. Me and my friend...      5   \n",
       "3   I'm not a fan of the ads, but still, this is t...      5   \n",
       "4                                  Very fun and cooll      5   \n",
       "5   Super fun. Gorgeous graphics. Me and my friend...      5   \n",
       "6   I'm not a fan of the ads, but still, this is t...      5   \n",
       "7                                  Very fun and cooll      5   \n",
       "8   Super fun. Gorgeous graphics. Me and my friend...      5   \n",
       "9   I'm not a fan of the ads, but still, this is t...      5   \n",
       "10                                 Very fun and cooll      5   \n",
       "11  Super fun. Gorgeous graphics. Me and my friend...      5   \n",
       "12  I'm not a fan of the ads, but still, this is t...      5   \n",
       "13                                 Very fun and cooll      5   \n",
       "14  Super fun. Gorgeous graphics. Me and my friend...      5   \n",
       "\n",
       "                                         replyContent  \n",
       "0   Please try the following steps to recover the ...  \n",
       "1                                                None  \n",
       "2                                                None  \n",
       "3   Please try the following steps to recover the ...  \n",
       "4                                                None  \n",
       "5                                                None  \n",
       "6   Please try the following steps to recover the ...  \n",
       "7                                                None  \n",
       "8                                                None  \n",
       "9   Please try the following steps to recover the ...  \n",
       "10                                               None  \n",
       "11                                               None  \n",
       "12  Please try the following steps to recover the ...  \n",
       "13                                               None  \n",
       "14                                               None  "
      ]
     },
     "execution_count": 94,
     "metadata": {},
     "output_type": "execute_result"
    }
   ],
   "source": [
    "pd.DataFrame({\n",
    "    'userName':Name,\n",
    "    'userImage':userImage,\n",
    "    'content':content,\n",
    "    'score':score,\n",
    "    'replyContent':replyContent\n",
    "})"
   ]
  },
  {
   "cell_type": "code",
   "execution_count": null,
   "id": "9b7791a0",
   "metadata": {},
   "outputs": [],
   "source": []
  },
  {
   "cell_type": "code",
   "execution_count": null,
   "id": "89d8ec7d",
   "metadata": {},
   "outputs": [],
   "source": []
  }
 ],
 "metadata": {
  "kernelspec": {
   "display_name": "Python 3 (ipykernel)",
   "language": "python",
   "name": "python3"
  },
  "language_info": {
   "codemirror_mode": {
    "name": "ipython",
    "version": 3
   },
   "file_extension": ".py",
   "mimetype": "text/x-python",
   "name": "python",
   "nbconvert_exporter": "python",
   "pygments_lexer": "ipython3",
   "version": "3.11.5"
  }
 },
 "nbformat": 4,
 "nbformat_minor": 5
}
