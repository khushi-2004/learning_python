{
 "cells": [
  {
   "cell_type": "code",
   "execution_count": 2,
   "id": "5ad9c073",
   "metadata": {},
   "outputs": [],
   "source": [
    "import os"
   ]
  },
  {
   "cell_type": "code",
   "execution_count": 3,
   "id": "7a23223c",
   "metadata": {},
   "outputs": [
    {
     "name": "stdout",
     "output_type": "stream",
     "text": [
      "['DirEntry', 'EX_OK', 'F_OK', 'GenericAlias', 'Mapping', 'MutableMapping', 'O_APPEND', 'O_BINARY', 'O_CREAT', 'O_EXCL', 'O_NOINHERIT', 'O_RANDOM', 'O_RDONLY', 'O_RDWR', 'O_SEQUENTIAL', 'O_SHORT_LIVED', 'O_TEMPORARY', 'O_TEXT', 'O_TRUNC', 'O_WRONLY', 'P_DETACH', 'P_NOWAIT', 'P_NOWAITO', 'P_OVERLAY', 'P_WAIT', 'PathLike', 'R_OK', 'SEEK_CUR', 'SEEK_END', 'SEEK_SET', 'TMP_MAX', 'W_OK', 'X_OK', '_AddedDllDirectory', '_Environ', '__all__', '__builtins__', '__doc__', '__file__', '__loader__', '__name__', '__package__', '__spec__', '_check_methods', '_execvpe', '_exists', '_exit', '_fspath', '_get_exports_list', '_walk', '_wrap_close', 'abc', 'abort', 'access', 'add_dll_directory', 'altsep', 'chdir', 'chmod', 'close', 'closerange', 'cpu_count', 'curdir', 'defpath', 'device_encoding', 'devnull', 'dup', 'dup2', 'environ', 'error', 'execl', 'execle', 'execlp', 'execlpe', 'execv', 'execve', 'execvp', 'execvpe', 'extsep', 'fdopen', 'fsdecode', 'fsencode', 'fspath', 'fstat', 'fsync', 'ftruncate', 'get_exec_path', 'get_handle_inheritable', 'get_inheritable', 'get_terminal_size', 'getcwd', 'getcwdb', 'getenv', 'getlogin', 'getpid', 'getppid', 'isatty', 'kill', 'linesep', 'link', 'listdir', 'lseek', 'lstat', 'makedirs', 'mkdir', 'name', 'open', 'pardir', 'path', 'pathsep', 'pipe', 'popen', 'putenv', 'read', 'readlink', 'remove', 'removedirs', 'rename', 'renames', 'replace', 'rmdir', 'scandir', 'sep', 'set_handle_inheritable', 'set_inheritable', 'spawnl', 'spawnle', 'spawnv', 'spawnve', 'st', 'startfile', 'stat', 'stat_result', 'statvfs_result', 'strerror', 'supports_bytes_environ', 'supports_dir_fd', 'supports_effective_ids', 'supports_fd', 'supports_follow_symlinks', 'symlink', 'sys', 'system', 'terminal_size', 'times', 'times_result', 'truncate', 'umask', 'uname_result', 'unlink', 'unsetenv', 'urandom', 'utime', 'waitpid', 'waitstatus_to_exitcode', 'walk', 'write']\n"
     ]
    }
   ],
   "source": [
    "print(dir(os))"
   ]
  },
  {
   "cell_type": "code",
   "execution_count": 4,
   "id": "2966076f",
   "metadata": {},
   "outputs": [
    {
     "data": {
      "text/plain": [
       "'C:\\\\Users\\\\DELL'"
      ]
     },
     "execution_count": 4,
     "metadata": {},
     "output_type": "execute_result"
    }
   ],
   "source": [
    "os.getcwd()     # current working directory"
   ]
  },
  {
   "cell_type": "code",
   "execution_count": 5,
   "id": "b5aa761a",
   "metadata": {},
   "outputs": [
    {
     "data": {
      "text/plain": [
       "['.anaconda',\n",
       " '.conda',\n",
       " '.condarc',\n",
       " '.continuum',\n",
       " '.ipynb_checkpoints',\n",
       " '.ipython',\n",
       " '.jupyter',\n",
       " '.matplotlib',\n",
       " '.vscode',\n",
       " '3D Objects',\n",
       " 'advance_function.ipynb',\n",
       " 'api.ipynb',\n",
       " 'AppData',\n",
       " 'Application Data',\n",
       " 'basic+question.ipynb',\n",
       " 'class_method.ipynb',\n",
       " 'clg_student.csv',\n",
       " 'Contacts',\n",
       " 'Cookies',\n",
       " 'decorator.ipynb',\n",
       " 'Documents',\n",
       " 'Downloads',\n",
       " 'EDA.ipynb',\n",
       " 'exception_handling.ipynb',\n",
       " 'Favorites',\n",
       " 'file.txt',\n",
       " 'file_handling.ipynb',\n",
       " 'file_handling2.ipynb',\n",
       " 'hello.txt',\n",
       " 'IntelGraphicsProfiles',\n",
       " 'kuku.txt',\n",
       " 'Links',\n",
       " 'list_comprehension.ipynb',\n",
       " 'Local Settings',\n",
       " 'Music',\n",
       " 'My Documents',\n",
       " 'NetHood',\n",
       " 'new.txt',\n",
       " 'NTUSER.DAT',\n",
       " 'ntuser.dat.LOG1',\n",
       " 'ntuser.dat.LOG2',\n",
       " 'NTUSER.DAT{f41abe3e-6098-11ed-be74-080027ec4824}.TM.blf',\n",
       " 'NTUSER.DAT{f41abe3e-6098-11ed-be74-080027ec4824}.TMContainer00000000000000000001.regtrans-ms',\n",
       " 'NTUSER.DAT{f41abe3e-6098-11ed-be74-080027ec4824}.TMContainer00000000000000000002.regtrans-ms',\n",
       " 'ntuser.ini',\n",
       " 'OneDrive',\n",
       " 'oops.ipynb',\n",
       " 'PrintHood',\n",
       " 'Recent',\n",
       " 'Saved Games',\n",
       " 'Searches',\n",
       " 'SendTo',\n",
       " 'Start Menu',\n",
       " 'student.csv',\n",
       " 'student.txt',\n",
       " 'Templates',\n",
       " 'test.json',\n",
       " 'titanic.csv',\n",
       " 'understanding_data.ipynb',\n",
       " 'Untitled.ipynb',\n",
       " 'Untitled1.ipynb',\n",
       " 'Untitled2.ipynb',\n",
       " 'Videos',\n",
       " 'web_scrapping.ipynb',\n",
       " 'work']"
      ]
     },
     "execution_count": 5,
     "metadata": {},
     "output_type": "execute_result"
    }
   ],
   "source": [
    "os.listdir()"
   ]
  },
  {
   "cell_type": "code",
   "execution_count": 8,
   "id": "ac0b5ac4",
   "metadata": {},
   "outputs": [],
   "source": [
    "os.chdir('C:\\\\Users\\\\DELL\\\\OneDrive\\\\Desktop')"
   ]
  },
  {
   "cell_type": "code",
   "execution_count": 9,
   "id": "7d7060c2",
   "metadata": {},
   "outputs": [
    {
     "data": {
      "text/plain": [
       "['desktop.ini',\n",
       " 'fsquirt - Shortcut.lnk',\n",
       " 'hello.txt.txt',\n",
       " 'khushi.txt.txt',\n",
       " 'Microsoft Edge.lnk',\n",
       " 'Music - Shortcut.lnk',\n",
       " 'new',\n",
       " 'Sonma Typing-Expert.lnk',\n",
       " 'Visual Studio Code.lnk']"
      ]
     },
     "execution_count": 9,
     "metadata": {},
     "output_type": "execute_result"
    }
   ],
   "source": [
    "os.listdir()"
   ]
  },
  {
   "cell_type": "code",
   "execution_count": 10,
   "id": "bd394f85",
   "metadata": {},
   "outputs": [
    {
     "data": {
      "text/plain": [
       "'C:\\\\Users\\\\DELL\\\\OneDrive\\\\Desktop'"
      ]
     },
     "execution_count": 10,
     "metadata": {},
     "output_type": "execute_result"
    }
   ],
   "source": [
    "os.getcwd()"
   ]
  },
  {
   "cell_type": "code",
   "execution_count": 11,
   "id": "6408b5e3",
   "metadata": {},
   "outputs": [],
   "source": [
    "os.mkdir('khushi')"
   ]
  },
  {
   "cell_type": "code",
   "execution_count": 14,
   "id": "72869492",
   "metadata": {},
   "outputs": [
    {
     "data": {
      "text/plain": [
       "'C:\\\\Users\\\\DELL\\\\OneDrive\\\\Desktop\\\\new'"
      ]
     },
     "execution_count": 14,
     "metadata": {},
     "output_type": "execute_result"
    }
   ],
   "source": [
    "os.getcwd()+'\\\\new'"
   ]
  },
  {
   "cell_type": "code",
   "execution_count": 17,
   "id": "94914c3a",
   "metadata": {},
   "outputs": [],
   "source": [
    "path=os.path.join(os.getcwd(),'new')"
   ]
  },
  {
   "cell_type": "code",
   "execution_count": 18,
   "id": "6f83bbfa",
   "metadata": {},
   "outputs": [],
   "source": [
    "os.chdir(path)"
   ]
  },
  {
   "cell_type": "code",
   "execution_count": 19,
   "id": "71c071cd",
   "metadata": {},
   "outputs": [
    {
     "data": {
      "text/plain": [
       "[]"
      ]
     },
     "execution_count": 19,
     "metadata": {},
     "output_type": "execute_result"
    }
   ],
   "source": [
    "os.listdir()"
   ]
  },
  {
   "cell_type": "code",
   "execution_count": 20,
   "id": "1b5db1d7",
   "metadata": {},
   "outputs": [
    {
     "data": {
      "text/plain": [
       "'C:\\\\Users\\\\DELL\\\\OneDrive\\\\Desktop\\\\new'"
      ]
     },
     "execution_count": 20,
     "metadata": {},
     "output_type": "execute_result"
    }
   ],
   "source": [
    "os.getcwd()"
   ]
  },
  {
   "cell_type": "code",
   "execution_count": 21,
   "id": "4d93cc10",
   "metadata": {},
   "outputs": [
    {
     "ename": "PermissionError",
     "evalue": "[WinError 32] The process cannot access the file because it is being used by another process: 'C:\\\\Users\\\\DELL\\\\OneDrive\\\\Desktop\\\\new'",
     "output_type": "error",
     "traceback": [
      "\u001b[1;31m---------------------------------------------------------------------------\u001b[0m",
      "\u001b[1;31mPermissionError\u001b[0m                           Traceback (most recent call last)",
      "Cell \u001b[1;32mIn[21], line 1\u001b[0m\n\u001b[1;32m----> 1\u001b[0m os\u001b[38;5;241m.\u001b[39mrmdir(path)\n",
      "\u001b[1;31mPermissionError\u001b[0m: [WinError 32] The process cannot access the file because it is being used by another process: 'C:\\\\Users\\\\DELL\\\\OneDrive\\\\Desktop\\\\new'"
     ]
    }
   ],
   "source": [
    "os.rmdir(path)"
   ]
  },
  {
   "cell_type": "code",
   "execution_count": 22,
   "id": "5d8220d0",
   "metadata": {},
   "outputs": [],
   "source": [
    "os.chdir('C:\\\\Users\\\\DELL\\\\OneDrive\\\\Desktop')"
   ]
  },
  {
   "cell_type": "code",
   "execution_count": 23,
   "id": "6d60a16c",
   "metadata": {},
   "outputs": [
    {
     "data": {
      "text/plain": [
       "'C:\\\\Users\\\\DELL\\\\OneDrive\\\\Desktop'"
      ]
     },
     "execution_count": 23,
     "metadata": {},
     "output_type": "execute_result"
    }
   ],
   "source": [
    "os.getcwd()"
   ]
  },
  {
   "cell_type": "code",
   "execution_count": 24,
   "id": "763bd089",
   "metadata": {},
   "outputs": [],
   "source": [
    "os.rmdir('new')"
   ]
  },
  {
   "cell_type": "code",
   "execution_count": 32,
   "id": "150da896",
   "metadata": {},
   "outputs": [],
   "source": [
    "import os\n",
    "def rm_file(path):\n",
    "    os.rmdir(path)\n",
    "    print(\"folder is deleted\")"
   ]
  },
  {
   "cell_type": "code",
   "execution_count": 26,
   "id": "dac960bd",
   "metadata": {},
   "outputs": [
    {
     "ename": "FileNotFoundError",
     "evalue": "[WinError 2] The system cannot find the file specified: 'new'",
     "output_type": "error",
     "traceback": [
      "\u001b[1;31m---------------------------------------------------------------------------\u001b[0m",
      "\u001b[1;31mFileNotFoundError\u001b[0m                         Traceback (most recent call last)",
      "Cell \u001b[1;32mIn[26], line 1\u001b[0m\n\u001b[1;32m----> 1\u001b[0m rm_file(\u001b[38;5;124m'\u001b[39m\u001b[38;5;124mnew\u001b[39m\u001b[38;5;124m'\u001b[39m)\n",
      "Cell \u001b[1;32mIn[25], line 3\u001b[0m, in \u001b[0;36mrm_file\u001b[1;34m(path)\u001b[0m\n\u001b[0;32m      2\u001b[0m \u001b[38;5;28;01mdef\u001b[39;00m \u001b[38;5;21mrm_file\u001b[39m(path):\n\u001b[1;32m----> 3\u001b[0m     os\u001b[38;5;241m.\u001b[39mrmdir(path)\n",
      "\u001b[1;31mFileNotFoundError\u001b[0m: [WinError 2] The system cannot find the file specified: 'new'"
     ]
    }
   ],
   "source": [
    "rm_file('new')"
   ]
  },
  {
   "cell_type": "code",
   "execution_count": 33,
   "id": "72812dd0",
   "metadata": {},
   "outputs": [],
   "source": [
    "os.mkdir('new')"
   ]
  },
  {
   "cell_type": "code",
   "execution_count": 34,
   "id": "8c2552fa",
   "metadata": {},
   "outputs": [
    {
     "name": "stdout",
     "output_type": "stream",
     "text": [
      "folder is deleted\n"
     ]
    }
   ],
   "source": [
    "rm_file('new')"
   ]
  },
  {
   "cell_type": "code",
   "execution_count": 35,
   "id": "39a8619c",
   "metadata": {},
   "outputs": [],
   "source": [
    "os.mkdir('new')"
   ]
  },
  {
   "cell_type": "code",
   "execution_count": 36,
   "id": "0b67365e",
   "metadata": {},
   "outputs": [
    {
     "ename": "OSError",
     "evalue": "[WinError 145] The directory is not empty: 'new'",
     "output_type": "error",
     "traceback": [
      "\u001b[1;31m---------------------------------------------------------------------------\u001b[0m",
      "\u001b[1;31mOSError\u001b[0m                                   Traceback (most recent call last)",
      "Cell \u001b[1;32mIn[36], line 1\u001b[0m\n\u001b[1;32m----> 1\u001b[0m rm_file(\u001b[38;5;124m'\u001b[39m\u001b[38;5;124mnew\u001b[39m\u001b[38;5;124m'\u001b[39m)\n",
      "Cell \u001b[1;32mIn[32], line 3\u001b[0m, in \u001b[0;36mrm_file\u001b[1;34m(path)\u001b[0m\n\u001b[0;32m      2\u001b[0m \u001b[38;5;28;01mdef\u001b[39;00m \u001b[38;5;21mrm_file\u001b[39m(path):\n\u001b[1;32m----> 3\u001b[0m     os\u001b[38;5;241m.\u001b[39mrmdir(path)\n\u001b[0;32m      4\u001b[0m     \u001b[38;5;28mprint\u001b[39m(\u001b[38;5;124m\"\u001b[39m\u001b[38;5;124mfolder is deleted\u001b[39m\u001b[38;5;124m\"\u001b[39m)\n",
      "\u001b[1;31mOSError\u001b[0m: [WinError 145] The directory is not empty: 'new'"
     ]
    }
   ],
   "source": [
    "rm_file('new')"
   ]
  },
  {
   "cell_type": "code",
   "execution_count": null,
   "id": "81da046d",
   "metadata": {},
   "outputs": [],
   "source": []
  },
  {
   "cell_type": "code",
   "execution_count": 37,
   "id": "8f941dce",
   "metadata": {},
   "outputs": [],
   "source": [
    "import shutil\n",
    "\n",
    "# file creation, deletion,copy,move"
   ]
  },
  {
   "cell_type": "code",
   "execution_count": 38,
   "id": "f1eac5a6",
   "metadata": {},
   "outputs": [
    {
     "name": "stdout",
     "output_type": "stream",
     "text": [
      "['COPY_BUFSIZE', 'Error', 'ExecError', 'ReadError', 'RegistryError', 'SameFileError', 'SpecialFileError', '_ARCHIVE_FORMATS', '_BZ2_SUPPORTED', '_GiveupOnFastCopy', '_HAS_FCOPYFILE', '_LZMA_SUPPORTED', '_UNPACK_FORMATS', '_USE_CP_SENDFILE', '_WINDOWS', '_WIN_DEFAULT_PATHEXT', '_ZLIB_SUPPORTED', '__all__', '__builtins__', '__cached__', '__doc__', '__file__', '__loader__', '__name__', '__package__', '__spec__', '_access_check', '_basename', '_check_unpack_options', '_copyfileobj_readinto', '_copytree', '_copyxattr', '_destinsrc', '_ensure_directory', '_fastcopy_fcopyfile', '_fastcopy_sendfile', '_find_unpack_format', '_get_gid', '_get_uid', '_is_immutable', '_islink', '_make_tarball', '_make_zipfile', '_ntuple_diskusage', '_rmtree_isdir', '_rmtree_islink', '_rmtree_safe_fd', '_rmtree_unsafe', '_samefile', '_stat', '_unpack_tarfile', '_unpack_zipfile', '_use_fd_functions', 'chown', 'collections', 'copy', 'copy2', 'copyfile', 'copyfileobj', 'copymode', 'copystat', 'copytree', 'disk_usage', 'errno', 'fnmatch', 'get_archive_formats', 'get_terminal_size', 'get_unpack_formats', 'ignore_patterns', 'make_archive', 'move', 'nt', 'os', 'posix', 'register_archive_format', 'register_unpack_format', 'rmtree', 'stat', 'sys', 'unpack_archive', 'unregister_archive_format', 'unregister_unpack_format', 'which']\n"
     ]
    }
   ],
   "source": [
    "print(dir(shutil))"
   ]
  },
  {
   "cell_type": "code",
   "execution_count": 39,
   "id": "e525a6e9",
   "metadata": {},
   "outputs": [],
   "source": [
    "shutil.rmtree('new')"
   ]
  },
  {
   "cell_type": "code",
   "execution_count": 42,
   "id": "5f04bb53",
   "metadata": {},
   "outputs": [
    {
     "data": {
      "text/plain": [
       "usage(total=204827783168, used=49162686464, free=155665096704)"
      ]
     },
     "execution_count": 42,
     "metadata": {},
     "output_type": "execute_result"
    }
   ],
   "source": [
    "data=shutil.disk_usage('C:')\n",
    "data"
   ]
  },
  {
   "cell_type": "code",
   "execution_count": 46,
   "id": "fd49b893",
   "metadata": {},
   "outputs": [],
   "source": [
    "def disk_usage(path):\n",
    "    data=shutil.disk_usage(path)\n",
    "    total=data.total/1024/1024/1024\n",
    "    free=data.free/1024/1024/1024\n",
    "    used=data.used/1024/1024/1024\n",
    "    print(f\"total:{total}\")\n",
    "    print(f\"free:{free}\")    \n",
    "    print(f\"used:{used}\")    "
   ]
  },
  {
   "cell_type": "code",
   "execution_count": 47,
   "id": "4cd27bbc",
   "metadata": {},
   "outputs": [
    {
     "name": "stdout",
     "output_type": "stream",
     "text": [
      "total:190.76073837280273\n",
      "free:144.9706687927246\n",
      "used:45.790069580078125\n"
     ]
    }
   ],
   "source": [
    "disk_usage('C:')"
   ]
  },
  {
   "cell_type": "code",
   "execution_count": 49,
   "id": "045df21e",
   "metadata": {},
   "outputs": [
    {
     "name": "stdout",
     "output_type": "stream",
     "text": [
      "total:47.088863372802734\n",
      "free:40.486595153808594\n",
      "used:6.602268218994141\n"
     ]
    }
   ],
   "source": [
    "disk_usage('E:')"
   ]
  },
  {
   "cell_type": "markdown",
   "id": "e320a3cf",
   "metadata": {},
   "source": [
    "  ques:\n",
    "         \n",
    "         with the help of library--\n",
    "                                 copy file"
   ]
  },
  {
   "cell_type": "markdown",
   "id": "db2e725e",
   "metadata": {},
   "source": [
    "# file handling"
   ]
  },
  {
   "cell_type": "markdown",
   "id": "924ca013",
   "metadata": {},
   "source": [
    "open() ---> predefined function to open file"
   ]
  },
  {
   "cell_type": "markdown",
   "id": "465830c1",
   "metadata": {},
   "source": [
    "    mode-->\n",
    "        \n",
    "        't' -> text(human readable file)\n",
    "        'b' -> binary(machine readable file)\n",
    "        \n",
    "        read --> 'rt','rb'\n",
    "        \n",
    "        write  --> 'wt' , 'wb'\n",
    "        \n",
    "        append --> 'at' , 'ab'\n",
    "        \n",
    "        x mode --> 'xt' , 'xb'\n",
    "        "
   ]
  },
  {
   "cell_type": "markdown",
   "id": "3b0c2467",
   "metadata": {},
   "source": [
    "      open()   ----> \n",
    "\n",
    "                file  -> path/file name\n",
    "                    \n",
    "                mode  -> in which mode you want to open your file\n",
    "            \n",
    "                encoding -> utf-8"
   ]
  },
  {
   "cell_type": "markdown",
   "id": "8733a137",
   "metadata": {},
   "source": [
    "       notpad --> content write\n",
    "                       |ctrl+s(save file)\n",
    "                       |\n",
    "                     encoding utf-8"
   ]
  },
  {
   "cell_type": "code",
   "execution_count": 56,
   "id": "03584146",
   "metadata": {},
   "outputs": [
    {
     "name": "stdout",
     "output_type": "stream",
     "text": [
      "['capitalize', 'casefold', 'center', 'count', 'encode', 'endswith', 'expandtabs', 'find', 'format', 'format_map', 'index', 'isalnum', 'isalpha', 'isascii', 'isdecimal', 'isdigit', 'isidentifier', 'islower', 'isnumeric', 'isprintable', 'isspace', 'istitle', 'isupper', 'join', 'ljust', 'lower', 'lstrip', 'maketrans', 'partition', 'removeprefix', 'removesuffix', 'replace', 'rfind', 'rindex', 'rjust', 'rpartition', 'rsplit', 'rstrip', 'split', 'splitlines', 'startswith', 'strip', 'swapcase', 'title', 'translate', 'upper', 'zfill']\n"
     ]
    }
   ],
   "source": [
    "print([i for i in dir(str) if not i.startswith('__')])"
   ]
  },
  {
   "cell_type": "code",
   "execution_count": 57,
   "id": "df1ed134",
   "metadata": {},
   "outputs": [
    {
     "name": "stdout",
     "output_type": "stream",
     "text": [
      "['__add__', '__class__', '__contains__', '__delattr__', '__dir__', '__doc__', '__eq__', '__format__', '__ge__', '__getattribute__', '__getitem__', '__getnewargs__', '__getstate__', '__gt__', '__hash__', '__init__', '__init_subclass__', '__iter__', '__le__', '__len__', '__lt__', '__mod__', '__mul__', '__ne__', '__new__', '__reduce__', '__reduce_ex__', '__repr__', '__rmod__', '__rmul__', '__setattr__', '__sizeof__', '__str__', '__subclasshook__', 'capitalize', 'casefold', 'center', 'count', 'encode', 'endswith', 'expandtabs', 'find', 'format', 'format_map', 'index', 'isalnum', 'isalpha', 'isascii', 'isdecimal', 'isdigit', 'isidentifier', 'islower', 'isnumeric', 'isprintable', 'isspace', 'istitle', 'isupper', 'join', 'ljust', 'lower', 'lstrip', 'maketrans', 'partition', 'removeprefix', 'removesuffix', 'replace', 'rfind', 'rindex', 'rjust', 'rpartition', 'rsplit', 'rstrip', 'split', 'splitlines', 'startswith', 'strip', 'swapcase', 'title', 'translate', 'upper', 'zfill']\n"
     ]
    }
   ],
   "source": [
    "print(dir(str))"
   ]
  },
  {
   "cell_type": "code",
   "execution_count": 61,
   "id": "8200ca36",
   "metadata": {},
   "outputs": [
    {
     "data": {
      "text/plain": [
       "'hello user'"
      ]
     },
     "execution_count": 61,
     "metadata": {},
     "output_type": "execute_result"
    }
   ],
   "source": [
    "s='hello user'\n",
    "s"
   ]
  },
  {
   "cell_type": "code",
   "execution_count": 63,
   "id": "1f74df67",
   "metadata": {},
   "outputs": [
    {
     "data": {
      "text/plain": [
       "b'hello user'"
      ]
     },
     "execution_count": 63,
     "metadata": {},
     "output_type": "execute_result"
    }
   ],
   "source": [
    "s1=s.encode()\n",
    "s1"
   ]
  },
  {
   "cell_type": "code",
   "execution_count": 64,
   "id": "662ae920",
   "metadata": {},
   "outputs": [
    {
     "data": {
      "text/plain": [
       "'hello user'"
      ]
     },
     "execution_count": 64,
     "metadata": {},
     "output_type": "execute_result"
    }
   ],
   "source": [
    "s1.decode()"
   ]
  },
  {
   "cell_type": "code",
   "execution_count": 65,
   "id": "1d98559f",
   "metadata": {},
   "outputs": [
    {
     "data": {
      "text/plain": [
       "'hello user'"
      ]
     },
     "execution_count": 65,
     "metadata": {},
     "output_type": "execute_result"
    }
   ],
   "source": [
    "s"
   ]
  },
  {
   "cell_type": "code",
   "execution_count": 70,
   "id": "2239e826",
   "metadata": {},
   "outputs": [
    {
     "data": {
      "text/plain": [
       "b'\\xff\\xfeh\\x00e\\x00l\\x00l\\x00o\\x00 \\x00u\\x00s\\x00e\\x00r\\x00'"
      ]
     },
     "execution_count": 70,
     "metadata": {},
     "output_type": "execute_result"
    }
   ],
   "source": [
    "encode_data=s.encode(encoding='utf-16')\n",
    "encode_data"
   ]
  },
  {
   "cell_type": "code",
   "execution_count": 69,
   "id": "35a2c7fa",
   "metadata": {},
   "outputs": [
    {
     "data": {
      "text/plain": [
       "'hello user'"
      ]
     },
     "execution_count": 69,
     "metadata": {},
     "output_type": "execute_result"
    }
   ],
   "source": [
    "encode_data.decode('utf-16')"
   ]
  },
  {
   "cell_type": "code",
   "execution_count": 71,
   "id": "0963cdae",
   "metadata": {},
   "outputs": [
    {
     "data": {
      "text/plain": [
       "65"
      ]
     },
     "execution_count": 71,
     "metadata": {},
     "output_type": "execute_result"
    }
   ],
   "source": [
    "ord('A')"
   ]
  },
  {
   "cell_type": "markdown",
   "id": "80229007",
   "metadata": {},
   "source": [
    "# encoding"
   ]
  },
  {
   "cell_type": "code",
   "execution_count": 3,
   "id": "de7fc042",
   "metadata": {},
   "outputs": [
    {
     "data": {
      "text/plain": [
       "'C:\\\\Users\\\\DELL'"
      ]
     },
     "execution_count": 3,
     "metadata": {},
     "output_type": "execute_result"
    }
   ],
   "source": [
    "os.getcwd()"
   ]
  },
  {
   "cell_type": "code",
   "execution_count": 13,
   "id": "41817542",
   "metadata": {},
   "outputs": [],
   "source": [
    "os.chdir('C:\\\\Users\\\\DELL\\\\OneDrive\\\\Desktop')"
   ]
  },
  {
   "cell_type": "code",
   "execution_count": 14,
   "id": "ef4abaee",
   "metadata": {},
   "outputs": [
    {
     "data": {
      "text/plain": [
       "'C:\\\\Users\\\\DELL\\\\OneDrive\\\\Desktop'"
      ]
     },
     "execution_count": 14,
     "metadata": {},
     "output_type": "execute_result"
    }
   ],
   "source": [
    "os.getcwd()"
   ]
  },
  {
   "cell_type": "code",
   "execution_count": 30,
   "id": "ba3ed5f4",
   "metadata": {},
   "outputs": [],
   "source": [
    "path='C:\\\\Users\\\\DELL\\\\OneDrive\\\\Desktop\\\\hello.txt'\n"
   ]
  },
  {
   "cell_type": "code",
   "execution_count": 34,
   "id": "ca730c73",
   "metadata": {},
   "outputs": [],
   "source": [
    "file=open('C:\\\\Users\\\\DELL\\\\OneDrive\\\\Desktop\\\\new\\\\hello.txt')"
   ]
  },
  {
   "cell_type": "code",
   "execution_count": 36,
   "id": "f94c9d59",
   "metadata": {},
   "outputs": [
    {
     "data": {
      "text/plain": [
       "'hello khushi\\n\\n'"
      ]
     },
     "execution_count": 36,
     "metadata": {},
     "output_type": "execute_result"
    }
   ],
   "source": [
    "file.read()"
   ]
  },
  {
   "cell_type": "code",
   "execution_count": null,
   "id": "e47c829e",
   "metadata": {},
   "outputs": [],
   "source": []
  },
  {
   "cell_type": "code",
   "execution_count": null,
   "id": "1d9582df",
   "metadata": {},
   "outputs": [],
   "source": []
  },
  {
   "cell_type": "code",
   "execution_count": null,
   "id": "f4e66fe4",
   "metadata": {},
   "outputs": [],
   "source": []
  }
 ],
 "metadata": {
  "kernelspec": {
   "display_name": "Python 3 (ipykernel)",
   "language": "python",
   "name": "python3"
  },
  "language_info": {
   "codemirror_mode": {
    "name": "ipython",
    "version": 3
   },
   "file_extension": ".py",
   "mimetype": "text/x-python",
   "name": "python",
   "nbconvert_exporter": "python",
   "pygments_lexer": "ipython3",
   "version": "3.11.5"
  }
 },
 "nbformat": 4,
 "nbformat_minor": 5
}
