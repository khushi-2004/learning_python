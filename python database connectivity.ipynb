{
 "cells": [
  {
   "cell_type": "code",
   "execution_count": 1,
   "id": "4ae7ca89",
   "metadata": {},
   "outputs": [
    {
     "name": "stdout",
     "output_type": "stream",
     "text": [
      "Defaulting to user installation because normal site-packages is not writeable\n",
      "Requirement already satisfied: pymysql in c:\\users\\dell\\appdata\\roaming\\python\\python311\\site-packages (1.1.0)\n",
      "Note: you may need to restart the kernel to use updated packages.\n"
     ]
    }
   ],
   "source": [
    "pip install pymysql"
   ]
  },
  {
   "cell_type": "code",
   "execution_count": 5,
   "id": "96e8df0e",
   "metadata": {},
   "outputs": [],
   "source": [
    "import pymysql"
   ]
  },
  {
   "cell_type": "markdown",
   "id": "0e12b987",
   "metadata": {},
   "source": [
    "       mysql -u root -p"
   ]
  },
  {
   "cell_type": "code",
   "execution_count": 8,
   "id": "c0fcb220",
   "metadata": {},
   "outputs": [],
   "source": [
    "conn=pymysql.connect(host=\"localhost\",user=\"root\",password='',port=3307)"
   ]
  },
  {
   "cell_type": "code",
   "execution_count": 9,
   "id": "6323a1fa",
   "metadata": {},
   "outputs": [
    {
     "data": {
      "text/plain": [
       "<pymysql.connections.Connection at 0x2b67d24c910>"
      ]
     },
     "execution_count": 9,
     "metadata": {},
     "output_type": "execute_result"
    }
   ],
   "source": [
    "conn"
   ]
  },
  {
   "cell_type": "code",
   "execution_count": 22,
   "id": "1456360e",
   "metadata": {},
   "outputs": [
    {
     "name": "stdout",
     "output_type": "stream",
     "text": [
      "['DataError', 'DatabaseError', 'Error', 'IntegrityError', 'InterfaceError', 'InternalError', 'NotSupportedError', 'OperationalError', 'ProgrammingError', 'Warning', '__class__', '__del__', '__delattr__', '__dict__', '__dir__', '__doc__', '__enter__', '__eq__', '__exit__', '__format__', '__ge__', '__getattribute__', '__getstate__', '__gt__', '__hash__', '__init__', '__init_subclass__', '__le__', '__lt__', '__module__', '__ne__', '__new__', '__reduce__', '__reduce_ex__', '__repr__', '__setattr__', '__sizeof__', '__str__', '__subclasshook__', '__weakref__', '_affected_rows', '_auth_plugin_map', '_auth_plugin_name', '_binary_prefix', '_closed', '_connect_attrs', '_create_ssl_ctx', '_execute_command', '_force_close', '_get_auth_plugin_handler', '_get_server_information', '_local_infile', '_next_seq_id', '_process_auth', '_quote_bytes', '_read_bytes', '_read_ok_packet', '_read_packet', '_read_query_result', '_read_timeout', '_request_authentication', '_result', '_rfile', '_secure', '_send_autocommit_mode', '_sock', '_write_bytes', '_write_timeout', 'affected_rows', 'autocommit', 'autocommit_mode', 'begin', 'bind_address', 'character_set_name', 'charset', 'client_flag', 'close', 'collation', 'commit', 'connect', 'connect_timeout', 'cursor', 'cursorclass', 'db', 'decoders', 'encoders', 'encoding', 'escape', 'escape_string', 'get_autocommit', 'get_host_info', 'get_proto_info', 'get_server_info', 'host', 'host_info', 'init_command', 'insert_id', 'kill', 'literal', 'max_allowed_packet', 'next_result', 'open', 'password', 'ping', 'port', 'protocol_version', 'query', 'rollback', 'salt', 'select_db', 'server_capabilities', 'server_charset', 'server_language', 'server_public_key', 'server_status', 'server_thread_id', 'server_version', 'set_character_set', 'set_charset', 'show_warnings', 'sql_mode', 'ssl', 'thread_id', 'unix_socket', 'use_unicode', 'user', 'write_packet']\n"
     ]
    }
   ],
   "source": [
    "print(dir(conn))"
   ]
  },
  {
   "cell_type": "code",
   "execution_count": 11,
   "id": "5f887b5b",
   "metadata": {},
   "outputs": [],
   "source": [
    "cur=conn.cursor()"
   ]
  },
  {
   "cell_type": "code",
   "execution_count": 15,
   "id": "8d3be496",
   "metadata": {},
   "outputs": [
    {
     "name": "stdout",
     "output_type": "stream",
     "text": [
      "['__class__', '__delattr__', '__dict__', '__dir__', '__doc__', '__enter__', '__eq__', '__exit__', '__format__', '__ge__', '__getattr__', '__getattribute__', '__getstate__', '__gt__', '__hash__', '__init__', '__init_subclass__', '__iter__', '__le__', '__lt__', '__module__', '__ne__', '__new__', '__next__', '__reduce__', '__reduce_ex__', '__repr__', '__setattr__', '__sizeof__', '__str__', '__subclasshook__', '__weakref__', '_check_executed', '_clear_result', '_conv_row', '_do_execute_many', '_do_get_result', '_escape_args', '_executed', '_get_db', '_nextset', '_query', '_result', '_rows', 'arraysize', 'callproc', 'close', 'connection', 'description', 'execute', 'executemany', 'fetchall', 'fetchmany', 'fetchone', 'lastrowid', 'max_stmt_length', 'mogrify', 'nextset', 'rowcount', 'rownumber', 'scroll', 'setinputsizes', 'setoutputsizes', 'warning_count']\n"
     ]
    }
   ],
   "source": [
    "print(dir(cur))"
   ]
  },
  {
   "cell_type": "code",
   "execution_count": 16,
   "id": "c276abfb",
   "metadata": {},
   "outputs": [
    {
     "data": {
      "text/plain": [
       "7"
      ]
     },
     "execution_count": 16,
     "metadata": {},
     "output_type": "execute_result"
    }
   ],
   "source": [
    "cur.execute('show databases')"
   ]
  },
  {
   "cell_type": "code",
   "execution_count": 17,
   "id": "50094801",
   "metadata": {},
   "outputs": [
    {
     "data": {
      "text/plain": [
       "(('college',),\n",
       " ('information_schema',),\n",
       " ('mysql',),\n",
       " ('performance_schema',),\n",
       " ('phpmyadmin',),\n",
       " ('student',),\n",
       " ('test',))"
      ]
     },
     "execution_count": 17,
     "metadata": {},
     "output_type": "execute_result"
    }
   ],
   "source": [
    "cur.fetchall()"
   ]
  },
  {
   "cell_type": "code",
   "execution_count": 18,
   "id": "1eb14c56",
   "metadata": {},
   "outputs": [
    {
     "data": {
      "text/plain": [
       "0"
      ]
     },
     "execution_count": 18,
     "metadata": {},
     "output_type": "execute_result"
    }
   ],
   "source": [
    "cur.execute('use college')"
   ]
  },
  {
   "cell_type": "code",
   "execution_count": 19,
   "id": "872b038c",
   "metadata": {},
   "outputs": [
    {
     "data": {
      "text/plain": [
       "[]"
      ]
     },
     "execution_count": 19,
     "metadata": {},
     "output_type": "execute_result"
    }
   ],
   "source": [
    "cur.fetchall()"
   ]
  },
  {
   "cell_type": "code",
   "execution_count": 25,
   "id": "a7b8daed",
   "metadata": {},
   "outputs": [
    {
     "data": {
      "text/plain": [
       "4"
      ]
     },
     "execution_count": 25,
     "metadata": {},
     "output_type": "execute_result"
    }
   ],
   "source": [
    "cur.execute('show tables')"
   ]
  },
  {
   "cell_type": "code",
   "execution_count": 26,
   "id": "abb8ae28",
   "metadata": {},
   "outputs": [
    {
     "data": {
      "text/plain": [
       "(('address',), ('employe',), ('fees',), ('student',))"
      ]
     },
     "execution_count": 26,
     "metadata": {},
     "output_type": "execute_result"
    }
   ],
   "source": [
    "tabels=cur.fetchall()\n",
    "tabels"
   ]
  },
  {
   "cell_type": "code",
   "execution_count": 27,
   "id": "e292a506",
   "metadata": {},
   "outputs": [],
   "source": [
    "from functools import reduce"
   ]
  },
  {
   "cell_type": "code",
   "execution_count": 28,
   "id": "a323447f",
   "metadata": {},
   "outputs": [
    {
     "data": {
      "text/plain": [
       "('address', 'employe', 'fees', 'student')"
      ]
     },
     "execution_count": 28,
     "metadata": {},
     "output_type": "execute_result"
    }
   ],
   "source": [
    "reduce(lambda x,y:x+y,tabels)"
   ]
  },
  {
   "cell_type": "code",
   "execution_count": 40,
   "id": "8af6115a",
   "metadata": {},
   "outputs": [
    {
     "data": {
      "text/plain": [
       "10"
      ]
     },
     "execution_count": 40,
     "metadata": {},
     "output_type": "execute_result"
    }
   ],
   "source": [
    "cur.execute('select * from student')"
   ]
  },
  {
   "cell_type": "code",
   "execution_count": 41,
   "id": "141c2953",
   "metadata": {},
   "outputs": [
    {
     "data": {
      "text/plain": [
       "((101, 'khushi', 'AI&DS'),\n",
       " (102, 'kukku', 'ML'),\n",
       " (103, 'ram', 'CSE'),\n",
       " (104, 'rajat', 'AI'),\n",
       " (105, 'chunnu', 'DS'),\n",
       " (106, 'kalam', 'ML'),\n",
       " (107, 'sundri', 'CSE'),\n",
       " (108, 'palak', 'AI'),\n",
       " (109, 'sita', 'AI&DS'),\n",
       " (110, 'khushi', 'AI&DS'))"
      ]
     },
     "execution_count": 41,
     "metadata": {},
     "output_type": "execute_result"
    }
   ],
   "source": [
    "cur.fetchall()"
   ]
  },
  {
   "cell_type": "code",
   "execution_count": 42,
   "id": "622619ac",
   "metadata": {},
   "outputs": [],
   "source": [
    "sid=[111,112,113,114]\n",
    "names=[\"rajat\",\"rohan\",\"kukku\",\"chunnu\"]\n",
    "branch=['ML','AI','DA','CSE']"
   ]
  },
  {
   "cell_type": "code",
   "execution_count": 38,
   "id": "077ec945",
   "metadata": {},
   "outputs": [],
   "source": [
    "cmd='insert into student values(110,\"khushi\",\"AI&DS\")'"
   ]
  },
  {
   "cell_type": "code",
   "execution_count": 39,
   "id": "bccee8c5",
   "metadata": {},
   "outputs": [
    {
     "data": {
      "text/plain": [
       "1"
      ]
     },
     "execution_count": 39,
     "metadata": {},
     "output_type": "execute_result"
    }
   ],
   "source": [
    "cur.execute(cmd)"
   ]
  },
  {
   "cell_type": "code",
   "execution_count": 43,
   "id": "dd1f7110",
   "metadata": {},
   "outputs": [],
   "source": [
    "sid=[111,112,113,114]\n",
    "names=[\"rajat\",\"rohan\",\"kukku\",\"chunnu\"]\n",
    "branch=['ML','AI','DA','CSE']"
   ]
  },
  {
   "cell_type": "code",
   "execution_count": 44,
   "id": "a65367ce",
   "metadata": {},
   "outputs": [],
   "source": [
    "for std_id,std_name,std_branch in zip(sid,names,branch):\n",
    "    cmd=f\"insert into student values('{std_id}','{std_name}','{std_branch}')\"\n",
    "    cur.execute(cmd)\n",
    "else:\n",
    "    conn.commit()"
   ]
  },
  {
   "cell_type": "code",
   "execution_count": 45,
   "id": "c56c23a6",
   "metadata": {},
   "outputs": [
    {
     "data": {
      "text/plain": [
       "14"
      ]
     },
     "execution_count": 45,
     "metadata": {},
     "output_type": "execute_result"
    }
   ],
   "source": [
    "cur.execute('select * from student')"
   ]
  },
  {
   "cell_type": "code",
   "execution_count": 46,
   "id": "cc12f904",
   "metadata": {},
   "outputs": [
    {
     "data": {
      "text/plain": [
       "((101, 'khushi', 'AI&DS'),\n",
       " (102, 'kukku', 'ML'),\n",
       " (103, 'ram', 'CSE'),\n",
       " (104, 'rajat', 'AI'),\n",
       " (105, 'chunnu', 'DS'),\n",
       " (106, 'kalam', 'ML'),\n",
       " (107, 'sundri', 'CSE'),\n",
       " (108, 'palak', 'AI'),\n",
       " (109, 'sita', 'AI&DS'),\n",
       " (110, 'khushi', 'AI&DS'),\n",
       " (111, 'rajat', 'ML'),\n",
       " (112, 'rohan', 'AI'),\n",
       " (113, 'kukku', 'DA'),\n",
       " (114, 'chunnu', 'CSE'))"
      ]
     },
     "execution_count": 46,
     "metadata": {},
     "output_type": "execute_result"
    }
   ],
   "source": [
    "cur.fetchall()"
   ]
  },
  {
   "cell_type": "code",
   "execution_count": 47,
   "id": "1e533753",
   "metadata": {},
   "outputs": [],
   "source": [
    "conn.close()"
   ]
  },
  {
   "cell_type": "code",
   "execution_count": 48,
   "id": "8bf1d32a",
   "metadata": {},
   "outputs": [],
   "source": [
    "def DB_connect():\n",
    "    conn=pymysql.connect(host=\"localhost\",user=\"root\",password='',port=3307) \n",
    "    cur=conn.cursor()    \n",
    "    return conn,cur"
   ]
  },
  {
   "cell_type": "code",
   "execution_count": 49,
   "id": "11e1ef0f",
   "metadata": {},
   "outputs": [],
   "source": [
    "db,cur=DB_connect()"
   ]
  },
  {
   "cell_type": "code",
   "execution_count": 50,
   "id": "497f04d6",
   "metadata": {},
   "outputs": [
    {
     "data": {
      "text/plain": [
       "<pymysql.connections.Connection at 0x2b67d2add90>"
      ]
     },
     "execution_count": 50,
     "metadata": {},
     "output_type": "execute_result"
    }
   ],
   "source": [
    "db"
   ]
  },
  {
   "cell_type": "code",
   "execution_count": 59,
   "id": "c8bb52c1",
   "metadata": {},
   "outputs": [
    {
     "name": "stdout",
     "output_type": "stream",
     "text": [
      "to use exixting database enter old\n",
      "to create new database enter new\n",
      "enter your choice : old\n",
      "college\n",
      "information_schema\n",
      "mysql\n",
      "performance_schema\n",
      "phpmyadmin\n",
      "student\n",
      "test\n",
      "enter database name: colllege\n",
      "database not exists...\n"
     ]
    }
   ],
   "source": [
    "cur.execute('show databases')\n",
    "databases=reduce(lambda x,y:x+y,cur.fetchall())\n",
    "databases\n",
    "print('to use exixting database enter old')\n",
    "print('to create new database enter new')\n",
    "choice=input(\"enter your choice : \").lower()\n",
    "if choice=='old':\n",
    "    print(*databases,sep='\\n')\n",
    "    db_name=input(\"enter database name: \")\n",
    "    if db_name in databases:\n",
    "        cur.execute(f\"use {db_name}\")\n",
    "        cur.execute('show table')\n",
    "        tabels=reduce(lambda x,y:x+y,cur.fetchall())\n",
    "        print(*tables,sep='\\n')\n",
    "    else:\n",
    "        print(\"database not exists...\")\n",
    "else:\n",
    "    pass"
   ]
  },
  {
   "cell_type": "code",
   "execution_count": null,
   "id": "272986bb",
   "metadata": {},
   "outputs": [],
   "source": []
  },
  {
   "cell_type": "code",
   "execution_count": null,
   "id": "aa6fb298",
   "metadata": {},
   "outputs": [],
   "source": []
  },
  {
   "cell_type": "code",
   "execution_count": null,
   "id": "c40161d3",
   "metadata": {},
   "outputs": [],
   "source": []
  }
 ],
 "metadata": {
  "kernelspec": {
   "display_name": "Python 3 (ipykernel)",
   "language": "python",
   "name": "python3"
  },
  "language_info": {
   "codemirror_mode": {
    "name": "ipython",
    "version": 3
   },
   "file_extension": ".py",
   "mimetype": "text/x-python",
   "name": "python",
   "nbconvert_exporter": "python",
   "pygments_lexer": "ipython3",
   "version": "3.11.5"
  }
 },
 "nbformat": 4,
 "nbformat_minor": 5
}
