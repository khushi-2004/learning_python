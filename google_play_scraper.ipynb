{
 "cells": [
  {
   "cell_type": "code",
   "execution_count": 104,
   "id": "393c93e2",
   "metadata": {},
   "outputs": [],
   "source": [
    "from google_play_scraper import search\n",
    "from google_play_scraper import Sort, reviews\n",
    "import pandas as pd\n",
    "\n",
    "app_id=[]\n",
    "screenshots=[]\n",
    "title=[]\n",
    "score=[]\n",
    "genre=[]\n",
    "currency=[]\n",
    "video=[]\n",
    "videoImage=[]\n",
    "description=[]\n",
    "developer=[]\n",
    "\n",
    "Name=[]\n",
    "userImage=[]\n",
    "content=[]\n",
    "score=[]\n",
    "replyContent=[]\n",
    "\n",
    "def search_app(query):\n",
    "    result = search(\n",
    "        query=query,\n",
    "        lang=\"en\",  # defaults to 'en'\n",
    "        country=\"us\",  # defaults to 'us'\n",
    "        n_hits=3  # defaults to 30 (= Google's maximum)\n",
    "    )\n",
    "    for i in result:\n",
    "        app_id.append(i['appId'])\n",
    "        title.append(i['title'])\n",
    "        screenshots.append(i['screenshots'])\n",
    "#         score.append(i['score'])\n",
    "        genre.append(i['genre'])\n",
    "        currency.append(i['currency'])\n",
    "        video.append(i['video'])\n",
    "        videoImage.append(i['videoImage'])\n",
    "        description.append(i['description'])\n",
    "        developer.append(i['developer'])\n",
    "    \n",
    "    data1=pd.DataFrame({\n",
    "        'app_name':query,\n",
    "        'app_id':app_id,\n",
    "        'screenshots':screenshots,\n",
    "        'genre':genre,\n",
    "        'currency':currency,\n",
    "        'video':video,\n",
    "        'videoImage':videoImage,\n",
    "        'description':description,\n",
    "        'developer':developer\n",
    "    })\n",
    "    \n",
    "        \n",
    "    \n",
    "    for appId in app_id:\n",
    "        result, continuation_token = reviews(\n",
    "            app_id=appId,\n",
    "            lang='en', # defaults to 'en'\n",
    "            country='us', # defaults to 'us'\n",
    "            sort=Sort.NEWEST, # defaults to Sort.NEWEST\n",
    "            count=3, # defaults to 100\n",
    "            filter_score_with=5 # defaults to None(means all score)\n",
    "        )\n",
    "        result, _ = reviews(\n",
    "            app_id=appId,\n",
    "            continuation_token=continuation_token # defaults to None(load from the beginning)\n",
    "        )\n",
    "        for i in result:\n",
    "            Name.append(i['userName'])\n",
    "            userImage.append(i['userImage'])\n",
    "            content.append(i['content'])\n",
    "            score.append(i['score'])\n",
    "            replyContent.append(i['replyContent'])\n",
    "\n",
    "    data2=pd.DataFrame({\n",
    "        'app_name':query,\n",
    "        'userName':Name,\n",
    "        'userImage':userImage,\n",
    "        'content':content,\n",
    "#         'score':score,\n",
    "        'replyContent':replyContent\n",
    "    })\n",
    "#     print(data1)\n",
    "    \n",
    "    return data1,data2"
   ]
  },
  {
   "cell_type": "code",
   "execution_count": 105,
   "id": "c2ada9a8",
   "metadata": {},
   "outputs": [],
   "source": [
    "df=search_app('instagram')"
   ]
  },
  {
   "cell_type": "code",
   "execution_count": 106,
   "id": "939331f5",
   "metadata": {},
   "outputs": [
    {
     "data": {
      "text/plain": [
       "(    app_name                   app_id  ...                                        description  developer\n",
       " 0  instagram    com.instagram.android  ...  Little moments lead to big friendships. Share ...  Instagram\n",
       " 1  instagram  com.instagram.barcelona  ...  Say more with Threads — Instagram’s text-based...  Instagram\n",
       " 2  instagram     com.instagram.layout  ...  Instagram's newest app is a better way to make...  Instagram\n",
       " \n",
       " [3 rows x 9 columns],\n",
       "     app_name            userName  ...                                            content replyContent\n",
       " 0  instagram  Natasha lea Little  ...                                    Mctashy locked.         None\n",
       " 1  instagram        Ujjwal Yadav  ...  No words for this app my rating can say all th...         None\n",
       " 2  instagram         Lalit Kumar  ...                    Lalit Kumar Kfjnfjgg the a Gruu         None\n",
       " 3  instagram           Nilam Das  ...                              Like this application         None\n",
       " 4  instagram    Sita Kumari Devi  ...                                               good         None\n",
       " 5  instagram        Dreem Killer  ...                                                🦋🦋🦋         None\n",
       " 6  instagram               Nogsy  ...          I honestly love this app it's a must have         None\n",
       " 7  instagram         Steve Oates  ...   Excellent, allows extra pics usage for the Insta         None\n",
       " 8  instagram         Tommy Walsh  ...                                               Cool         None\n",
       " \n",
       " [9 rows x 5 columns])"
      ]
     },
     "execution_count": 106,
     "metadata": {},
     "output_type": "execute_result"
    }
   ],
   "source": [
    "df"
   ]
  },
  {
   "cell_type": "code",
   "execution_count": null,
   "id": "02559114",
   "metadata": {},
   "outputs": [],
   "source": []
  },
  {
   "cell_type": "code",
   "execution_count": null,
   "id": "88521bb3",
   "metadata": {},
   "outputs": [],
   "source": []
  }
 ],
 "metadata": {
  "kernelspec": {
   "display_name": "Python 3 (ipykernel)",
   "language": "python",
   "name": "python3"
  },
  "language_info": {
   "codemirror_mode": {
    "name": "ipython",
    "version": 3
   },
   "file_extension": ".py",
   "mimetype": "text/x-python",
   "name": "python",
   "nbconvert_exporter": "python",
   "pygments_lexer": "ipython3",
   "version": "3.11.5"
  }
 },
 "nbformat": 4,
 "nbformat_minor": 5
}
