{
 "cells": [
  {
   "cell_type": "code",
   "execution_count": 9,
   "id": "b72938e6",
   "metadata": {},
   "outputs": [
    {
     "name": "stdout",
     "output_type": "stream",
     "text": [
      "['__builtins__', '__cached__', '__doc__', '__file__', '__loader__', '__name__', '__package__', '__spec__', 'place_search', 'requests']\n"
     ]
    }
   ],
   "source": [
    "import place_search\n",
    "print(dir(place_search))"
   ]
  },
  {
   "cell_type": "code",
   "execution_count": 10,
   "id": "3789f797",
   "metadata": {},
   "outputs": [],
   "source": [
    "from place_search import place_search"
   ]
  },
  {
   "cell_type": "code",
   "execution_count": 11,
   "id": "ab260088",
   "metadata": {},
   "outputs": [
    {
     "name": "stdout",
     "output_type": "stream",
     "text": [
      "4bc7875893bdeee12e7c37ae\n",
      "Rambagh Palace\n",
      "----------------------------------------------------------------------------------------------------\n",
      "----------------------------------------------------------------------------------------------------\n",
      "\n",
      "4c4c572d712ac928bb19316e\n",
      "The Oberoi Rajvilas\n",
      "----------------------------------------------------------------------------------------------------\n",
      "----------------------------------------------------------------------------------------------------\n",
      "\n",
      "516c398b498ef9c062170b50\n",
      "Hotel Fairmont Jaipur Golf Course\n",
      "----------------------------------------------------------------------------------------------------\n",
      "----------------------------------------------------------------------------------------------------\n",
      "\n",
      "4bc7875393bdeee12a7c37ae\n",
      "Taj Jai Mahal Palace\n",
      "----------------------------------------------------------------------------------------------------\n",
      "----------------------------------------------------------------------------------------------------\n",
      "\n",
      "4bc8f091762beee173b93d38\n",
      "Trident\n",
      "----------------------------------------------------------------------------------------------------\n",
      "----------------------------------------------------------------------------------------------------\n",
      "\n",
      "4cbc54337a5d9eb0755b31e9\n",
      "Jaipur Pavillion- ITC Rajputana\n",
      "----------------------------------------------------------------------------------------------------\n",
      "----------------------------------------------------------------------------------------------------\n",
      "\n",
      "537b8e8611d2cbd28ac541cf\n",
      "Swimming Pool Crowne Plaza Jaipur Tonk Road\n",
      "----------------------------------------------------------------------------------------------------\n",
      "----------------------------------------------------------------------------------------------------\n",
      "\n",
      "4bcf762d0ffdce72e281b2c0\n",
      "Shahpura House\n",
      "----------------------------------------------------------------------------------------------------\n",
      "----------------------------------------------------------------------------------------------------\n",
      "\n",
      "4bc7875993bdeee12f7c37ae\n",
      "Umaid Bhawan Hotel\n",
      "----------------------------------------------------------------------------------------------------\n",
      "----------------------------------------------------------------------------------------------------\n",
      "\n",
      "4de7812de4cdfedb8a9e9f0e\n",
      "Jaipur Marriott Hotel\n",
      "----------------------------------------------------------------------------------------------------\n",
      "----------------------------------------------------------------------------------------------------\n",
      "\n"
     ]
    }
   ],
   "source": [
    "place_search('hotal',26.8505,75.7628,sort='RaTING')"
   ]
  },
  {
   "cell_type": "code",
   "execution_count": 16,
   "id": "c6123bff",
   "metadata": {},
   "outputs": [
    {
     "name": "stdout",
     "output_type": "stream",
     "text": [
      "[{\"id\":\"5e5a172aba293c0008dfba74\",\"created_at\":\"2020-02-29T07:47:54.000Z\",\"prefix\":\"https://fastly.4sqi.net/img/general/\",\"suffix\":\"/87388367_ZgPK_kBb3HI3ZXzPFBsGUYie974VmnpzNUpAVT4Ypp8.jpg\",\"width\":619,\"height\":412,\"classifications\":[\"indoor\"]},{\"id\":\"5e1c4673452b0b000807fb7f\",\"created_at\":\"2020-01-13T10:29:07.000Z\",\"prefix\":\"https://fastly.4sqi.net/img/general/\",\"suffix\":\"/87388367_CWbJAL0bDqz3JNcylJJfDq7g6ji8p0jUKtoRT5jMEEw.jpg\",\"width\":619,\"height\":412,\"classifications\":[\"indoor\"]},{\"id\":\"5adc96ca029a551a2ecef61e\",\"created_at\":\"2018-04-22T14:06:02.000Z\",\"prefix\":\"https://fastly.4sqi.net/img/general/\",\"suffix\":\"/54273124_t591cLktHqGckjBGDeolswM_nyVnh7_N_wIuDvSJ3ro.jpg\",\"width\":1900,\"height\":1069,\"classifications\":[\"indoor\"]},{\"id\":\"59cba4e8d78f0b3dfe74ca43\",\"created_at\":\"2017-09-27T13:17:28.000Z\",\"prefix\":\"https://fastly.4sqi.net/img/general/\",\"suffix\":\"/349888183_0xlX66g4GSTl38EGqNSrXOGlJNlUWiXenc6Ax-W0CWg.jpg\",\"width\":960,\"height\":540,\"classifications\":[\"indoor\"]},{\"id\":\"58c54e5a52a051100e7f6eab\",\"created_at\":\"2017-03-12T13:34:18.000Z\",\"prefix\":\"https://fastly.4sqi.net/img/general/\",\"suffix\":\"/60830204_QH9eY7e7Z4UsxCNrOAX1Qy6qk3xWEuM1Kd69xsQYGdE.jpg\",\"width\":1440,\"height\":1920,\"classifications\":[\"indoor\"]},{\"id\":\"562cb235498e2ce4e01fa926\",\"created_at\":\"2015-10-25T10:43:01.000Z\",\"prefix\":\"https://fastly.4sqi.net/img/general/\",\"suffix\":\"/232320_BzJbtpqbyvcNs8zGRFaykrLc9Yq_Xw_BTcbS51AriKk.jpg\",\"width\":1920,\"height\":1081,\"classifications\":[\"indoor\"]},{\"id\":\"5319144b498eadd28fde030d\",\"created_at\":\"2014-03-07T00:35:23.000Z\",\"prefix\":\"https://fastly.4sqi.net/img/general/\",\"suffix\":\"/18015993_qN7Ie9Aopro86e-J1yVgP2HzhnDjgfnqJotJk5eEwNA.jpg\",\"width\":960,\"height\":720,\"classifications\":[\"indoor\"]},{\"id\":\"520a74de11d2b607c8c31384\",\"created_at\":\"2013-08-13T18:03:10.000Z\",\"prefix\":\"https://fastly.4sqi.net/img/general/\",\"suffix\":\"/46509235_k8qxAPgxQ8zOCALNRjVqXx4PJA1eMlIhYqLi6IwzXAc.jpg\",\"width\":720,\"height\":960,\"classifications\":[\"indoor\"]},{\"id\":\"520a748b11d2c402186981d5\",\"created_at\":\"2013-08-13T18:01:47.000Z\",\"prefix\":\"https://fastly.4sqi.net/img/general/\",\"suffix\":\"/46509235_4R1rDAkRkpMcff5Bde9HIMNBbtyr1BDGfKD0zFg22EE.jpg\",\"width\":720,\"height\":960,\"classifications\":[\"indoor\"]},{\"id\":\"520a746411d2e8f694b7dd04\",\"created_at\":\"2013-08-13T18:01:08.000Z\",\"prefix\":\"https://fastly.4sqi.net/img/general/\",\"suffix\":\"/46509235_RsUbFOMhEEHo7syvBHyHEGQJGK99XYhQGQtdKWQ5DUM.jpg\",\"width\":720,\"height\":960,\"classifications\":[\"indoor\"]}]\n"
     ]
    }
   ],
   "source": [
    "import requests\n",
    "\n",
    "fsq_id=\"4de7812de4cdfedb8a9e9f0e\"\n",
    "\n",
    "url = f\"https://api.foursquare.com/v3/places/{fsq_id}/photos\"\n",
    "\n",
    "params={\n",
    "    'limit':10,\n",
    "    'sort':'newest',\n",
    "    'classifications':'indoor'\n",
    "}\n",
    "\n",
    "headers = {\"accept\": \"application/json\",\n",
    "          \"Authorization\":\"fsq31a/KD/geG2lMsLoa9J5SytpoYUMalZfqLxSVlkn0fao=\"\n",
    "          }\n",
    "\n",
    "response = requests.get(url,params=params, headers=headers)\n",
    "\n",
    "print(response.text)"
   ]
  },
  {
   "cell_type": "code",
   "execution_count": 19,
   "id": "b055b937",
   "metadata": {},
   "outputs": [
    {
     "data": {
      "text/plain": [
       "[{'id': '5e5a172aba293c0008dfba74',\n",
       "  'created_at': '2020-02-29T07:47:54.000Z',\n",
       "  'prefix': 'https://fastly.4sqi.net/img/general/',\n",
       "  'suffix': '/87388367_ZgPK_kBb3HI3ZXzPFBsGUYie974VmnpzNUpAVT4Ypp8.jpg',\n",
       "  'width': 619,\n",
       "  'height': 412,\n",
       "  'classifications': ['indoor']},\n",
       " {'id': '5e1c4673452b0b000807fb7f',\n",
       "  'created_at': '2020-01-13T10:29:07.000Z',\n",
       "  'prefix': 'https://fastly.4sqi.net/img/general/',\n",
       "  'suffix': '/87388367_CWbJAL0bDqz3JNcylJJfDq7g6ji8p0jUKtoRT5jMEEw.jpg',\n",
       "  'width': 619,\n",
       "  'height': 412,\n",
       "  'classifications': ['indoor']},\n",
       " {'id': '5adc96ca029a551a2ecef61e',\n",
       "  'created_at': '2018-04-22T14:06:02.000Z',\n",
       "  'prefix': 'https://fastly.4sqi.net/img/general/',\n",
       "  'suffix': '/54273124_t591cLktHqGckjBGDeolswM_nyVnh7_N_wIuDvSJ3ro.jpg',\n",
       "  'width': 1900,\n",
       "  'height': 1069,\n",
       "  'classifications': ['indoor']},\n",
       " {'id': '59cba4e8d78f0b3dfe74ca43',\n",
       "  'created_at': '2017-09-27T13:17:28.000Z',\n",
       "  'prefix': 'https://fastly.4sqi.net/img/general/',\n",
       "  'suffix': '/349888183_0xlX66g4GSTl38EGqNSrXOGlJNlUWiXenc6Ax-W0CWg.jpg',\n",
       "  'width': 960,\n",
       "  'height': 540,\n",
       "  'classifications': ['indoor']},\n",
       " {'id': '58c54e5a52a051100e7f6eab',\n",
       "  'created_at': '2017-03-12T13:34:18.000Z',\n",
       "  'prefix': 'https://fastly.4sqi.net/img/general/',\n",
       "  'suffix': '/60830204_QH9eY7e7Z4UsxCNrOAX1Qy6qk3xWEuM1Kd69xsQYGdE.jpg',\n",
       "  'width': 1440,\n",
       "  'height': 1920,\n",
       "  'classifications': ['indoor']},\n",
       " {'id': '562cb235498e2ce4e01fa926',\n",
       "  'created_at': '2015-10-25T10:43:01.000Z',\n",
       "  'prefix': 'https://fastly.4sqi.net/img/general/',\n",
       "  'suffix': '/232320_BzJbtpqbyvcNs8zGRFaykrLc9Yq_Xw_BTcbS51AriKk.jpg',\n",
       "  'width': 1920,\n",
       "  'height': 1081,\n",
       "  'classifications': ['indoor']},\n",
       " {'id': '5319144b498eadd28fde030d',\n",
       "  'created_at': '2014-03-07T00:35:23.000Z',\n",
       "  'prefix': 'https://fastly.4sqi.net/img/general/',\n",
       "  'suffix': '/18015993_qN7Ie9Aopro86e-J1yVgP2HzhnDjgfnqJotJk5eEwNA.jpg',\n",
       "  'width': 960,\n",
       "  'height': 720,\n",
       "  'classifications': ['indoor']},\n",
       " {'id': '520a74de11d2b607c8c31384',\n",
       "  'created_at': '2013-08-13T18:03:10.000Z',\n",
       "  'prefix': 'https://fastly.4sqi.net/img/general/',\n",
       "  'suffix': '/46509235_k8qxAPgxQ8zOCALNRjVqXx4PJA1eMlIhYqLi6IwzXAc.jpg',\n",
       "  'width': 720,\n",
       "  'height': 960,\n",
       "  'classifications': ['indoor']},\n",
       " {'id': '520a748b11d2c402186981d5',\n",
       "  'created_at': '2013-08-13T18:01:47.000Z',\n",
       "  'prefix': 'https://fastly.4sqi.net/img/general/',\n",
       "  'suffix': '/46509235_4R1rDAkRkpMcff5Bde9HIMNBbtyr1BDGfKD0zFg22EE.jpg',\n",
       "  'width': 720,\n",
       "  'height': 960,\n",
       "  'classifications': ['indoor']},\n",
       " {'id': '520a746411d2e8f694b7dd04',\n",
       "  'created_at': '2013-08-13T18:01:08.000Z',\n",
       "  'prefix': 'https://fastly.4sqi.net/img/general/',\n",
       "  'suffix': '/46509235_RsUbFOMhEEHo7syvBHyHEGQJGK99XYhQGQtdKWQ5DUM.jpg',\n",
       "  'width': 720,\n",
       "  'height': 960,\n",
       "  'classifications': ['indoor']}]"
      ]
     },
     "execution_count": 19,
     "metadata": {},
     "output_type": "execute_result"
    }
   ],
   "source": [
    "data=response.json()\n",
    "data"
   ]
  },
  {
   "cell_type": "code",
   "execution_count": 20,
   "id": "c519608d",
   "metadata": {},
   "outputs": [
    {
     "data": {
      "text/plain": [
       "10"
      ]
     },
     "execution_count": 20,
     "metadata": {},
     "output_type": "execute_result"
    }
   ],
   "source": [
    "len(data)"
   ]
  },
  {
   "cell_type": "code",
   "execution_count": 21,
   "id": "bb371e8f",
   "metadata": {},
   "outputs": [
    {
     "data": {
      "text/plain": [
       "{'id': '5e5a172aba293c0008dfba74',\n",
       " 'created_at': '2020-02-29T07:47:54.000Z',\n",
       " 'prefix': 'https://fastly.4sqi.net/img/general/',\n",
       " 'suffix': '/87388367_ZgPK_kBb3HI3ZXzPFBsGUYie974VmnpzNUpAVT4Ypp8.jpg',\n",
       " 'width': 619,\n",
       " 'height': 412,\n",
       " 'classifications': ['indoor']}"
      ]
     },
     "execution_count": 21,
     "metadata": {},
     "output_type": "execute_result"
    }
   ],
   "source": [
    "data[0]"
   ]
  },
  {
   "cell_type": "code",
   "execution_count": 24,
   "id": "617da706",
   "metadata": {},
   "outputs": [
    {
     "name": "stdout",
     "output_type": "stream",
     "text": [
      "https://fastly.4sqi.net/img/general/original/87388367_ZgPK_kBb3HI3ZXzPFBsGUYie974VmnpzNUpAVT4Ypp8.jpg\n"
     ]
    }
   ],
   "source": [
    "prefix=data[0]['prefix']\n",
    "suffix=data[0]['suffix']\n",
    "url=prefix+'original'+suffix\n",
    "print(url)"
   ]
  },
  {
   "cell_type": "code",
   "execution_count": 26,
   "id": "ad08d0f8",
   "metadata": {},
   "outputs": [],
   "source": [
    "l=[]\n",
    "for i in data:\n",
    "    prefix=i['prefix']\n",
    "    suffix=i['suffix']\n",
    "    url=prefix+'original'+suffix\n",
    "    l.append(url)"
   ]
  },
  {
   "cell_type": "code",
   "execution_count": 27,
   "id": "029bbd22",
   "metadata": {},
   "outputs": [
    {
     "data": {
      "text/plain": [
       "['https://fastly.4sqi.net/img/general/original/87388367_ZgPK_kBb3HI3ZXzPFBsGUYie974VmnpzNUpAVT4Ypp8.jpg',\n",
       " 'https://fastly.4sqi.net/img/general/original/87388367_CWbJAL0bDqz3JNcylJJfDq7g6ji8p0jUKtoRT5jMEEw.jpg',\n",
       " 'https://fastly.4sqi.net/img/general/original/54273124_t591cLktHqGckjBGDeolswM_nyVnh7_N_wIuDvSJ3ro.jpg',\n",
       " 'https://fastly.4sqi.net/img/general/original/349888183_0xlX66g4GSTl38EGqNSrXOGlJNlUWiXenc6Ax-W0CWg.jpg',\n",
       " 'https://fastly.4sqi.net/img/general/original/60830204_QH9eY7e7Z4UsxCNrOAX1Qy6qk3xWEuM1Kd69xsQYGdE.jpg',\n",
       " 'https://fastly.4sqi.net/img/general/original/232320_BzJbtpqbyvcNs8zGRFaykrLc9Yq_Xw_BTcbS51AriKk.jpg',\n",
       " 'https://fastly.4sqi.net/img/general/original/18015993_qN7Ie9Aopro86e-J1yVgP2HzhnDjgfnqJotJk5eEwNA.jpg',\n",
       " 'https://fastly.4sqi.net/img/general/original/46509235_k8qxAPgxQ8zOCALNRjVqXx4PJA1eMlIhYqLi6IwzXAc.jpg',\n",
       " 'https://fastly.4sqi.net/img/general/original/46509235_4R1rDAkRkpMcff5Bde9HIMNBbtyr1BDGfKD0zFg22EE.jpg',\n",
       " 'https://fastly.4sqi.net/img/general/original/46509235_RsUbFOMhEEHo7syvBHyHEGQJGK99XYhQGQtdKWQ5DUM.jpg']"
      ]
     },
     "execution_count": 27,
     "metadata": {},
     "output_type": "execute_result"
    }
   ],
   "source": [
    "l"
   ]
  },
  {
   "cell_type": "code",
   "execution_count": 30,
   "id": "0f840d1c",
   "metadata": {},
   "outputs": [
    {
     "name": "stdout",
     "output_type": "stream",
     "text": [
      "enter folder name: rambagh place\n"
     ]
    }
   ],
   "source": [
    "import requests\n",
    "import os \n",
    "\n",
    "c=1\n",
    "folder=input(\"enter folder name: \")\n",
    "os.mkdir(folder)\n",
    "os.chdir(folder)\n",
    "\n",
    "for i in l:\n",
    "    resp=requests.get(i)\n",
    "    if resp.status_code==200:\n",
    "        data=resp.content\n",
    "        \n",
    "        with open(f'imag{c}.jpeg','wb') as f:\n",
    "            f.write(data)\n",
    "        c+=1\n",
    "    else:\n",
    "        print(f'error occure status code: {resp.status_code} reason:{resp.reason}')"
   ]
  },
  {
   "cell_type": "code",
   "execution_count": null,
   "id": "25e4ae28",
   "metadata": {},
   "outputs": [],
   "source": []
  }
 ],
 "metadata": {
  "kernelspec": {
   "display_name": "Python 3 (ipykernel)",
   "language": "python",
   "name": "python3"
  },
  "language_info": {
   "codemirror_mode": {
    "name": "ipython",
    "version": 3
   },
   "file_extension": ".py",
   "mimetype": "text/x-python",
   "name": "python",
   "nbconvert_exporter": "python",
   "pygments_lexer": "ipython3",
   "version": "3.11.5"
  }
 },
 "nbformat": 4,
 "nbformat_minor": 5
}
