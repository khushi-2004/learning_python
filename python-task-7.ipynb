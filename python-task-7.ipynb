{
 "cells": [
  {
   "cell_type": "markdown",
   "id": "1a84c323",
   "metadata": {},
   "source": [
    "    1.\tWhat does the code for an empty dictionary look like?"
   ]
  },
  {
   "cell_type": "code",
   "execution_count": 1,
   "id": "de4806ac",
   "metadata": {},
   "outputs": [
    {
     "data": {
      "text/plain": [
       "dict"
      ]
     },
     "execution_count": 1,
     "metadata": {},
     "output_type": "execute_result"
    }
   ],
   "source": [
    "dict={}\n",
    "type(dict)"
   ]
  },
  {
   "cell_type": "markdown",
   "id": "8d25cc50",
   "metadata": {},
   "source": [
    "    2.\tWhat does a dictionary value with a key 'foo' and a value 42 look like?"
   ]
  },
  {
   "cell_type": "code",
   "execution_count": 2,
   "id": "73e6ace6",
   "metadata": {},
   "outputs": [],
   "source": [
    "dict={'foo':42}"
   ]
  },
  {
   "cell_type": "markdown",
   "id": "c2c95b64",
   "metadata": {},
   "source": [
    "    3.\t What is the main difference between a dictionary and a list?\n",
    "\n"
   ]
  },
  {
   "cell_type": "markdown",
   "id": "b666cf0b",
   "metadata": {},
   "source": [
    "    dict: it is a collection of key value pair\n",
    "\n",
    "    list: it is a collection of elements,set,tuple,dict"
   ]
  },
  {
   "cell_type": "code",
   "execution_count": 6,
   "id": "109054b0",
   "metadata": {},
   "outputs": [
    {
     "name": "stdout",
     "output_type": "stream",
     "text": [
      "<class 'list'>\n",
      "<class 'dict'>\n"
     ]
    }
   ],
   "source": [
    "l=[2,3,4,{'hello':'hi'}]\n",
    "print(type(l))\n",
    "\n",
    "dict={'name':'khushi'}\n",
    "print(type(dict))"
   ]
  },
  {
   "cell_type": "markdown",
   "id": "9f15008e",
   "metadata": {},
   "source": [
    "    4.\t What happens if you try to access spam['foo'] if spam is {'bar': 100}?"
   ]
  },
  {
   "cell_type": "code",
   "execution_count": 7,
   "id": "3e859780",
   "metadata": {},
   "outputs": [
    {
     "ename": "KeyError",
     "evalue": "'foo'",
     "output_type": "error",
     "traceback": [
      "\u001b[1;31m---------------------------------------------------------------------------\u001b[0m",
      "\u001b[1;31mKeyError\u001b[0m                                  Traceback (most recent call last)",
      "Cell \u001b[1;32mIn[7], line 2\u001b[0m\n\u001b[0;32m      1\u001b[0m spam\u001b[38;5;241m=\u001b[39m{\u001b[38;5;124m'\u001b[39m\u001b[38;5;124mbar\u001b[39m\u001b[38;5;124m'\u001b[39m:\u001b[38;5;241m100\u001b[39m}\n\u001b[1;32m----> 2\u001b[0m spam[\u001b[38;5;124m'\u001b[39m\u001b[38;5;124mfoo\u001b[39m\u001b[38;5;124m'\u001b[39m]\n",
      "\u001b[1;31mKeyError\u001b[0m: 'foo'"
     ]
    }
   ],
   "source": [
    "spam={'bar':100}\n",
    "spam['foo']\n"
   ]
  },
  {
   "cell_type": "markdown",
   "id": "fe8670eb",
   "metadata": {},
   "source": [
    "    \n",
    "    5.\tIf a dictionary is stored in spam, what is the difference between the expressions 'cat' in spam and 'cat' in spam.keys()?\n",
    "\n"
   ]
  },
  {
   "cell_type": "code",
   "execution_count": 11,
   "id": "afe27eab",
   "metadata": {},
   "outputs": [],
   "source": [
    "spam={'cat'}\n",
    "# spam.keys()\n",
    "# spam.values()"
   ]
  },
  {
   "cell_type": "markdown",
   "id": "9bce567c",
   "metadata": {},
   "source": [
    "    7.\t What is a shortcut for the following code?\n",
    "    if 'color' not in spam:\n",
    "        spam['color'] = 'black'\n"
   ]
  },
  {
   "cell_type": "markdown",
   "id": "e3a25f22",
   "metadata": {},
   "source": [
    "    8.\tWhat module and function can be used to “pretty print” dictionary values?\n",
    "\n",
    "    \t   pprint module’s pprint function \n"
   ]
  },
  {
   "cell_type": "markdown",
   "id": "a62fd19f",
   "metadata": {},
   "source": [
    "    9.\tWhat are escape characters?"
   ]
  },
  {
   "cell_type": "markdown",
   "id": "466e615c",
   "metadata": {},
   "source": [
    "    a backslash \\ followed by the character you want to insert."
   ]
  },
  {
   "cell_type": "markdown",
   "id": "b1b16bfb",
   "metadata": {},
   "source": [
    "    10.\t What do the \\n and \\t escape characters represent?"
   ]
  },
  {
   "cell_type": "markdown",
   "id": "79044546",
   "metadata": {},
   "source": [
    "    \\n ---> move to next line\n",
    "    \\t ---> use for tab"
   ]
  },
  {
   "cell_type": "markdown",
   "id": "46e35b06",
   "metadata": {},
   "source": [
    "    11.\tHow can you put a \\ backslash character in a string?"
   ]
  },
  {
   "cell_type": "code",
   "execution_count": 13,
   "id": "a1e4dbf4",
   "metadata": {},
   "outputs": [
    {
     "name": "stdout",
     "output_type": "stream",
     "text": [
      "hello khushi \n",
      "you need to break\n"
     ]
    }
   ],
   "source": [
    "string=\"hello khushi \\nyou need to break\"\n",
    "print(string)"
   ]
  },
  {
   "cell_type": "markdown",
   "id": "aa24e534",
   "metadata": {},
   "source": [
    "    12.\tThe string value \"Howl's Moving Castle\" is a valid string. Why isn’t it a problem that the single quote character in the word Howl's isn’t escaped?"
   ]
  },
  {
   "cell_type": "markdown",
   "id": "a08fe16b",
   "metadata": {},
   "source": [
    "    13.\tIf you don’t want to put \\n in your string, how can you write a string with newlines in it?"
   ]
  },
  {
   "cell_type": "code",
   "execution_count": 14,
   "id": "410f979f",
   "metadata": {},
   "outputs": [
    {
     "name": "stdout",
     "output_type": "stream",
     "text": [
      "hello good morning\n",
      "now i am learning python\n"
     ]
    }
   ],
   "source": [
    "string='''hello good morning\n",
    "now i am learning python'''\n",
    "print(string)"
   ]
  },
  {
   "cell_type": "markdown",
   "id": "ee19eb50",
   "metadata": {},
   "source": [
    "    What do the following expressions evaluate to?\n",
    "\n",
    "    a)\t'Hello world!'[1]\n",
    "\n",
    "    'e'\n",
    "\n",
    "    b)\t'Hello world!'[0:5]\n",
    "\n",
    "    'Hello '\n",
    "\n",
    "    c)\t'Hello world!'[:5]\n",
    "\n",
    "    'Hello'\n",
    "\n",
    "    d)\t'Hello world!'[3:]\n",
    "\n",
    "    'lo world!'\n",
    "\n"
   ]
  },
  {
   "cell_type": "code",
   "execution_count": 15,
   "id": "cbde4092",
   "metadata": {},
   "outputs": [
    {
     "data": {
      "text/plain": [
       "'e'"
      ]
     },
     "execution_count": 15,
     "metadata": {},
     "output_type": "execute_result"
    }
   ],
   "source": [
    "'Hello world!'[1]\n"
   ]
  },
  {
   "cell_type": "markdown",
   "id": "995060f1",
   "metadata": {},
   "source": [
    "    15.\tWhat do the following expressions evaluate to?\n",
    "\n",
    "    a)\t'Hello'.upper()\n",
    "\n",
    "    'HELLO'\n",
    "\n",
    "    b)\t'Hello'.upper().isupper()\n",
    "\n",
    "    True\n",
    "\n",
    "    c)\t'Hello'.upper().lower()\n",
    "\n",
    "    ‘hello\n",
    "\n"
   ]
  },
  {
   "cell_type": "code",
   "execution_count": 16,
   "id": "dfe88da4",
   "metadata": {},
   "outputs": [
    {
     "data": {
      "text/plain": [
       "'hello'"
      ]
     },
     "execution_count": 16,
     "metadata": {},
     "output_type": "execute_result"
    }
   ],
   "source": [
    "'Hello'.upper().lower()"
   ]
  },
  {
   "cell_type": "markdown",
   "id": "c5b41699",
   "metadata": {},
   "source": [
    "    What do the following expressions evaluate to?\n",
    "\n",
    "    a)\t'Remember, remember, the fifth of November.'.split()\n",
    "\n",
    "    [ 'Remember,',  'remember,', 'the', 'fifth', 'of', 'November.'  ]\n",
    "\n",
    "    b)\t'-'.join('There can be only one.'.split())\n",
    "\n",
    "    'There-can-be-only-one.'\n",
    "\n",
    "\n"
   ]
  },
  {
   "cell_type": "markdown",
   "id": "05e16c25",
   "metadata": {},
   "source": [
    "    What string methods can you use to right-justify, left-justify, and center a string?\n",
    "\n",
    "    rjust(width, fillchar=''), ljust(width, fillchar=''), center(width, fillchar='')\n",
    "\n"
   ]
  },
  {
   "cell_type": "code",
   "execution_count": null,
   "id": "1aea80c5",
   "metadata": {},
   "outputs": [],
   "source": []
  },
  {
   "cell_type": "markdown",
   "id": "64920661",
   "metadata": {},
   "source": [
    "    How can you trim whitespace characters from the beginning or end of a string?\n",
    "\t\n",
    "    Ans18:  We can use strip() method to trim whitespace characters from the beginning or end of a string.\n",
    "\n"
   ]
  },
  {
   "cell_type": "code",
   "execution_count": null,
   "id": "d66f2ed4",
   "metadata": {},
   "outputs": [],
   "source": []
  }
 ],
 "metadata": {
  "kernelspec": {
   "display_name": "Demo",
   "language": "python",
   "name": "demo"
  },
  "language_info": {
   "codemirror_mode": {
    "name": "ipython",
    "version": 3
   },
   "file_extension": ".py",
   "mimetype": "text/x-python",
   "name": "python",
   "nbconvert_exporter": "python",
   "pygments_lexer": "ipython3",
   "version": "3.11.5"
  }
 },
 "nbformat": 4,
 "nbformat_minor": 5
}
