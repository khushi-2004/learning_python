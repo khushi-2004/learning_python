{
 "cells": [
  {
   "cell_type": "code",
   "execution_count": 1,
   "id": "927ee117",
   "metadata": {},
   "outputs": [],
   "source": [
    "import os"
   ]
  },
  {
   "cell_type": "code",
   "execution_count": 8,
   "id": "746597d9",
   "metadata": {},
   "outputs": [
    {
     "data": {
      "text/plain": [
       "'C:\\\\Users\\\\DELL'"
      ]
     },
     "execution_count": 8,
     "metadata": {},
     "output_type": "execute_result"
    }
   ],
   "source": [
    "os.getcwd()"
   ]
  },
  {
   "cell_type": "code",
   "execution_count": 2,
   "id": "905dcc04",
   "metadata": {},
   "outputs": [
    {
     "data": {
      "text/plain": [
       "'C:\\\\Users\\\\DELL'"
      ]
     },
     "execution_count": 2,
     "metadata": {},
     "output_type": "execute_result"
    }
   ],
   "source": [
    "pwd()"
   ]
  },
  {
   "cell_type": "code",
   "execution_count": 21,
   "id": "33accd3e",
   "metadata": {},
   "outputs": [],
   "source": [
    "file=open('new.txt','r')   # relative path"
   ]
  },
  {
   "cell_type": "code",
   "execution_count": 7,
   "id": "7a091716",
   "metadata": {},
   "outputs": [
    {
     "name": "stdout",
     "output_type": "stream",
     "text": [
      "<_io.TextIOWrapper name='new.txt' mode='r' encoding='cp1252'>\n"
     ]
    }
   ],
   "source": [
    "print(file)  # file object / buffer"
   ]
  },
  {
   "cell_type": "code",
   "execution_count": 22,
   "id": "9ed2f182",
   "metadata": {},
   "outputs": [
    {
     "data": {
      "text/plain": [
       "'hello.....new data add new data add , java,c++new data add \\njava\\nc++new data add \\njava\\nc++ \\n hello \\n bye'"
      ]
     },
     "execution_count": 22,
     "metadata": {},
     "output_type": "execute_result"
    }
   ],
   "source": [
    "file.read()"
   ]
  },
  {
   "cell_type": "code",
   "execution_count": 23,
   "id": "b2eba21c",
   "metadata": {},
   "outputs": [],
   "source": [
    "file.close()"
   ]
  },
  {
   "cell_type": "code",
   "execution_count": 11,
   "id": "a66a51fd",
   "metadata": {},
   "outputs": [],
   "source": [
    "path='C:\\\\Users\\\\DELL\\\\OneDrive\\\\Desktop\\\\hello.txt'"
   ]
  },
  {
   "cell_type": "code",
   "execution_count": 24,
   "id": "90eb85e3",
   "metadata": {},
   "outputs": [],
   "source": [
    "file=open('C:\\\\Users\\\\DELL\\\\OneDrive\\\\Desktop\\\\new\\\\hello.txt',mode='r')"
   ]
  },
  {
   "cell_type": "code",
   "execution_count": 25,
   "id": "cac463f0",
   "metadata": {},
   "outputs": [
    {
     "name": "stdout",
     "output_type": "stream",
     "text": [
      "hello khushi\n",
      "\n",
      "\n"
     ]
    }
   ],
   "source": [
    "data=file.read()\n",
    "print(data)"
   ]
  },
  {
   "cell_type": "code",
   "execution_count": 26,
   "id": "1a523cb0",
   "metadata": {},
   "outputs": [],
   "source": [
    "file.close()"
   ]
  },
  {
   "cell_type": "code",
   "execution_count": 27,
   "id": "df9d751f",
   "metadata": {},
   "outputs": [
    {
     "name": "stdout",
     "output_type": "stream",
     "text": [
      "hello.....new data add new data add , java,c++new data add \n",
      "java\n",
      "c++new data add \n",
      "java\n",
      "c++ \n",
      " hello \n",
      " bye\n"
     ]
    }
   ],
   "source": [
    "file=open('new.txt','r')\n",
    "data=file.read()\n",
    "print(data)\n",
    "file.close()"
   ]
  },
  {
   "cell_type": "code",
   "execution_count": 28,
   "id": "23a6b7b1",
   "metadata": {},
   "outputs": [],
   "source": [
    "file=open('new.txt','r')"
   ]
  },
  {
   "cell_type": "code",
   "execution_count": 29,
   "id": "2fcbb472",
   "metadata": {},
   "outputs": [
    {
     "data": {
      "text/plain": [
       "'hello.....new data add new data add , java,c++new data add \\n'"
      ]
     },
     "execution_count": 29,
     "metadata": {},
     "output_type": "execute_result"
    }
   ],
   "source": [
    "file.readline()   # read data line by line"
   ]
  },
  {
   "cell_type": "code",
   "execution_count": 34,
   "id": "e56622c2",
   "metadata": {},
   "outputs": [
    {
     "data": {
      "text/plain": [
       "''"
      ]
     },
     "execution_count": 34,
     "metadata": {},
     "output_type": "execute_result"
    }
   ],
   "source": [
    "file.readline()"
   ]
  },
  {
   "cell_type": "code",
   "execution_count": 35,
   "id": "46f5e15a",
   "metadata": {},
   "outputs": [
    {
     "data": {
      "text/plain": [
       "110"
      ]
     },
     "execution_count": 35,
     "metadata": {},
     "output_type": "execute_result"
    }
   ],
   "source": [
    "file.tell()    # curser position"
   ]
  },
  {
   "cell_type": "code",
   "execution_count": 38,
   "id": "772e2de2",
   "metadata": {},
   "outputs": [
    {
     "data": {
      "text/plain": [
       "'new data add new data add , java,c++new data add \\njava\\nc++new data add \\njava\\nc++ \\n hello \\n bye'"
      ]
     },
     "execution_count": 38,
     "metadata": {},
     "output_type": "execute_result"
    }
   ],
   "source": [
    "file.read()"
   ]
  },
  {
   "cell_type": "code",
   "execution_count": 37,
   "id": "8f45bd37",
   "metadata": {},
   "outputs": [
    {
     "data": {
      "text/plain": [
       "10"
      ]
     },
     "execution_count": 37,
     "metadata": {},
     "output_type": "execute_result"
    }
   ],
   "source": [
    "file.seek(10)   # curser move the zeroth position"
   ]
  },
  {
   "cell_type": "code",
   "execution_count": 29,
   "id": "7873b7c2",
   "metadata": {},
   "outputs": [
    {
     "data": {
      "text/plain": [
       "0"
      ]
     },
     "execution_count": 29,
     "metadata": {},
     "output_type": "execute_result"
    }
   ],
   "source": [
    "file.tell()"
   ]
  },
  {
   "cell_type": "code",
   "execution_count": 30,
   "id": "fa7e6bc6",
   "metadata": {},
   "outputs": [
    {
     "data": {
      "text/plain": [
       "'hello everyone how are you\\n'"
      ]
     },
     "execution_count": 30,
     "metadata": {},
     "output_type": "execute_result"
    }
   ],
   "source": [
    "file.readline()"
   ]
  },
  {
   "cell_type": "code",
   "execution_count": 31,
   "id": "20583ff2",
   "metadata": {},
   "outputs": [],
   "source": [
    "file.close()"
   ]
  },
  {
   "cell_type": "code",
   "execution_count": 33,
   "id": "43fccc86",
   "metadata": {},
   "outputs": [],
   "source": [
    "def open_file(path,mode='r'):\n",
    "    file=open(path,mode)\n",
    "    return file"
   ]
  },
  {
   "cell_type": "code",
   "execution_count": 39,
   "id": "1d9fda89",
   "metadata": {},
   "outputs": [],
   "source": [
    "file=open_file('new.txt')"
   ]
  },
  {
   "cell_type": "code",
   "execution_count": 40,
   "id": "9a74055d",
   "metadata": {},
   "outputs": [
    {
     "data": {
      "text/plain": [
       "'hello everyone how are you\\n'"
      ]
     },
     "execution_count": 40,
     "metadata": {},
     "output_type": "execute_result"
    }
   ],
   "source": [
    "file.read()"
   ]
  },
  {
   "cell_type": "code",
   "execution_count": 41,
   "id": "9c024197",
   "metadata": {},
   "outputs": [
    {
     "data": {
      "text/plain": [
       "True"
      ]
     },
     "execution_count": 41,
     "metadata": {},
     "output_type": "execute_result"
    }
   ],
   "source": [
    "file.readable()"
   ]
  },
  {
   "cell_type": "code",
   "execution_count": 42,
   "id": "fac67edf",
   "metadata": {},
   "outputs": [
    {
     "data": {
      "text/plain": [
       "False"
      ]
     },
     "execution_count": 42,
     "metadata": {},
     "output_type": "execute_result"
    }
   ],
   "source": [
    "file.writable()"
   ]
  },
  {
   "cell_type": "markdown",
   "id": "542b19bb",
   "metadata": {},
   "source": [
    "        w mode --> to write files"
   ]
  },
  {
   "cell_type": "code",
   "execution_count": 43,
   "id": "ad3bc967",
   "metadata": {},
   "outputs": [],
   "source": [
    "file=open('file.txt','w')"
   ]
  },
  {
   "cell_type": "code",
   "execution_count": 45,
   "id": "561083b5",
   "metadata": {},
   "outputs": [
    {
     "data": {
      "text/plain": [
       "False"
      ]
     },
     "execution_count": 45,
     "metadata": {},
     "output_type": "execute_result"
    }
   ],
   "source": [
    "file.readable()"
   ]
  },
  {
   "cell_type": "code",
   "execution_count": 46,
   "id": "a371a101",
   "metadata": {},
   "outputs": [
    {
     "data": {
      "text/plain": [
       "True"
      ]
     },
     "execution_count": 46,
     "metadata": {},
     "output_type": "execute_result"
    }
   ],
   "source": [
    "file.writable()"
   ]
  },
  {
   "cell_type": "code",
   "execution_count": 47,
   "id": "38848d1b",
   "metadata": {},
   "outputs": [
    {
     "data": {
      "text/plain": [
       "79"
      ]
     },
     "execution_count": 47,
     "metadata": {},
     "output_type": "execute_result"
    }
   ],
   "source": [
    "file.write('lkjfjjesijfolmlsleijoejkmmdiweojijlakmmddaiejdojiedkjkjalwokkdoojjsjdoijjoejijo')"
   ]
  },
  {
   "cell_type": "code",
   "execution_count": 50,
   "id": "b75e3259",
   "metadata": {},
   "outputs": [],
   "source": [
    "file=open('new.txt','w')\n",
    "file.write('hello.....')\n",
    "file.close()"
   ]
  },
  {
   "cell_type": "markdown",
   "id": "258cc658",
   "metadata": {},
   "source": [
    "        a append mode --> to append data into exixting file"
   ]
  },
  {
   "cell_type": "code",
   "execution_count": 52,
   "id": "60bd6741",
   "metadata": {},
   "outputs": [],
   "source": [
    "file=open('new.txt','a')\n",
    "file.write('new data add ')\n",
    "file.close()"
   ]
  },
  {
   "cell_type": "code",
   "execution_count": 55,
   "id": "43ce0c58",
   "metadata": {},
   "outputs": [],
   "source": [
    "file=open('new.txt','a')\n",
    "file.writelines(['new data add \\njava\\nc++ \\n hello \\n bye'])\n",
    "file.close()"
   ]
  },
  {
   "cell_type": "markdown",
   "id": "a72fe828",
   "metadata": {},
   "source": [
    "        x mode --> to create a new file\n",
    "      "
   ]
  },
  {
   "cell_type": "code",
   "execution_count": 40,
   "id": "37008291",
   "metadata": {},
   "outputs": [],
   "source": [
    "file=open('kukk.txt','x')\n"
   ]
  },
  {
   "cell_type": "code",
   "execution_count": 61,
   "id": "0f273ee4",
   "metadata": {},
   "outputs": [],
   "source": [
    "file.write('hello')\n",
    "file.close()"
   ]
  },
  {
   "cell_type": "markdown",
   "id": "399fdbb8",
   "metadata": {},
   "source": [
    "        write a program to print table and store in file"
   ]
  },
  {
   "cell_type": "code",
   "execution_count": 70,
   "id": "7e58899b",
   "metadata": {},
   "outputs": [],
   "source": [
    "def table(n):\n",
    "    file=open('file.txt','w')\n",
    "    for i in range(1,11):\n",
    "        file.write(f'{n*i}\\n')\n",
    "    file.close()"
   ]
  },
  {
   "cell_type": "code",
   "execution_count": 71,
   "id": "9ffc92bb",
   "metadata": {},
   "outputs": [],
   "source": [
    "table(5)"
   ]
  },
  {
   "cell_type": "code",
   "execution_count": 81,
   "id": "1654c343",
   "metadata": {},
   "outputs": [],
   "source": [
    "file=open('clg_student.csv','w')"
   ]
  },
  {
   "cell_type": "code",
   "execution_count": 82,
   "id": "c089df78",
   "metadata": {},
   "outputs": [],
   "source": [
    "header=\"rollno,name,age,course\\n\""
   ]
  },
  {
   "cell_type": "code",
   "execution_count": 83,
   "id": "1f30c88d",
   "metadata": {},
   "outputs": [],
   "source": [
    "file.write(header)\n",
    "file.close()"
   ]
  },
  {
   "cell_type": "code",
   "execution_count": 86,
   "id": "76604c3f",
   "metadata": {},
   "outputs": [
    {
     "name": "stdout",
     "output_type": "stream",
     "text": [
      "enter number of student3\n",
      "enter rollno: 1\n",
      "enter name: khushi\n",
      "enter age: 18\n",
      "enter course: AI&DS\n",
      "enter rollno: 2\n",
      "enter name: rajat\n",
      "enter age: 19\n",
      "enter course: CSE\n",
      "enter rollno: 3\n",
      "enter name: anjali\n",
      "enter age: 17\n",
      "enter course: BIO\n"
     ]
    }
   ],
   "source": [
    "no_of_student=int(input(\"enter number of student\"))\n",
    "\n",
    "file=open('clg_student.csv','a')\n",
    "\n",
    "data=\"\"\n",
    "for i in range(no_of_student):\n",
    "    rollno=int(input(\"enter rollno: \"))\n",
    "    name=input(\"enter name: \")    \n",
    "    age=int(input(\"enter age: \"))    \n",
    "    course=input(\"enter course: \")\n",
    "    line=f'{rollno},{name},{age},{course}\\n'\n",
    "    data+=line\n",
    "else:\n",
    "    file.write(data)\n",
    "    file.close()"
   ]
  },
  {
   "cell_type": "markdown",
   "id": "32b73ad9",
   "metadata": {},
   "source": [
    "## with ---> context manager\n",
    "\n",
    "            autometic close the file"
   ]
  },
  {
   "cell_type": "code",
   "execution_count": 3,
   "id": "df71a597",
   "metadata": {},
   "outputs": [
    {
     "name": "stdout",
     "output_type": "stream",
     "text": [
      "hello.....new data add new data add , java,c++new data add \n",
      "java\n",
      "c++new data add \n",
      "java\n",
      "c++ \n",
      " hello \n",
      " bye\n"
     ]
    }
   ],
   "source": [
    "file=open('new.txt')\n",
    "data=file.read()\n",
    "print(data)\n",
    "file.close()"
   ]
  },
  {
   "cell_type": "code",
   "execution_count": 5,
   "id": "458a8ccc",
   "metadata": {},
   "outputs": [
    {
     "name": "stdout",
     "output_type": "stream",
     "text": [
      "hello.....new data add new data add , java,c++new data add \n",
      "java\n",
      "c++new data add \n",
      "java\n",
      "c++ \n",
      " hello \n",
      " bye\n"
     ]
    }
   ],
   "source": [
    "with open('new.txt') as f:\n",
    "    data=f.read()\n",
    "    print(data)"
   ]
  },
  {
   "cell_type": "code",
   "execution_count": 6,
   "id": "c2558623",
   "metadata": {},
   "outputs": [
    {
     "ename": "ValueError",
     "evalue": "I/O operation on closed file.",
     "output_type": "error",
     "traceback": [
      "\u001b[1;31m---------------------------------------------------------------------------\u001b[0m",
      "\u001b[1;31mValueError\u001b[0m                                Traceback (most recent call last)",
      "Cell \u001b[1;32mIn[6], line 1\u001b[0m\n\u001b[1;32m----> 1\u001b[0m f\u001b[38;5;241m.\u001b[39mread()\n",
      "\u001b[1;31mValueError\u001b[0m: I/O operation on closed file."
     ]
    }
   ],
   "source": [
    "f.read()"
   ]
  },
  {
   "cell_type": "markdown",
   "id": "7d45a83a",
   "metadata": {},
   "source": [
    "        mail sending"
   ]
  },
  {
   "cell_type": "code",
   "execution_count": 17,
   "id": "9189b1b9",
   "metadata": {},
   "outputs": [],
   "source": [
    "file=open('student.csv','w')\n",
    "header=\"rollno,name,age,course\\n\"\n",
    "file.write(header)\n",
    "file.close()"
   ]
  },
  {
   "cell_type": "code",
   "execution_count": 20,
   "id": "932688e1",
   "metadata": {},
   "outputs": [
    {
     "name": "stdout",
     "output_type": "stream",
     "text": [
      "enter the number of student: 4\n",
      "enter the rollno: 1\n",
      "enter the name: khushi\n",
      "enter the age: 17\n",
      "enter the course: AI&DS\n",
      "enter the rollno: 2\n",
      "enter the name: rajat\n",
      "enter the age: 19\n",
      "enter the course: CSE\n",
      "enter the rollno: 3\n",
      "enter the name: anjali\n",
      "enter the age: 19\n",
      "enter the course: CSE\n",
      "enter the rollno: 4\n",
      "enter the name: kuku\n",
      "enter the age: 19\n",
      "enter the course: CS\n"
     ]
    }
   ],
   "source": [
    "with open('student.csv','a') as file:\n",
    "    no_of_student=int(input(\"enter the number of student: \"))\n",
    "    data=\"\"\n",
    "    for i in range(no_of_student):\n",
    "        rollno=int(input(\"enter the rollno: \"))\n",
    "        name=input(\"enter the name: \")\n",
    "        age=int(input(\"enter the age: \"))\n",
    "        course=input(\"enter the course: \")\n",
    "        line=f'{rollno},{name},{age},{course}\\n'\n",
    "        data+=line\n",
    "    else:\n",
    "        file.write(data)"
   ]
  },
  {
   "cell_type": "code",
   "execution_count": 45,
   "id": "ef1001c8",
   "metadata": {},
   "outputs": [],
   "source": [
    "from random import randint"
   ]
  },
  {
   "cell_type": "code",
   "execution_count": 46,
   "id": "fad3ece6",
   "metadata": {},
   "outputs": [
    {
     "data": {
      "text/plain": [
       "50"
      ]
     },
     "execution_count": 46,
     "metadata": {},
     "output_type": "execute_result"
    }
   ],
   "source": [
    "random.randint(1,50)"
   ]
  },
  {
   "cell_type": "code",
   "execution_count": 47,
   "id": "7efd0b53",
   "metadata": {},
   "outputs": [],
   "source": [
    "names=['mohit','arun','ashish','khushi','rajat']"
   ]
  },
  {
   "cell_type": "markdown",
   "id": "18151955",
   "metadata": {},
   "source": [
    "    [['mohit',25,26,34],[arun ,45,67,56]]"
   ]
  },
  {
   "cell_type": "code",
   "execution_count": 49,
   "id": "6c4cd282",
   "metadata": {},
   "outputs": [
    {
     "data": {
      "text/plain": [
       "[['mohit', 44, 35, 45],\n",
       " ['arun', 37, 43, 41],\n",
       " ['ashish', 35, 40, 39],\n",
       " ['khushi', 45, 41, 37],\n",
       " ['rajat', 44, 35, 38]]"
      ]
     },
     "execution_count": 49,
     "metadata": {},
     "output_type": "execute_result"
    }
   ],
   "source": [
    "random_data=[[name,randint(35,45),randint(35,45),randint(35,45)]for name in names]\n",
    "random_data"
   ]
  },
  {
   "cell_type": "code",
   "execution_count": 76,
   "id": "4a543796",
   "metadata": {},
   "outputs": [],
   "source": [
    "# file=open('student_marks.csv','w')\n",
    "# header=\"name,physic,chemistry,math\\n\"\n",
    "# file.write(header)\n",
    "# file.close()"
   ]
  },
  {
   "cell_type": "code",
   "execution_count": 85,
   "id": "fd83f3c9",
   "metadata": {},
   "outputs": [
    {
     "name": "stdout",
     "output_type": "stream",
     "text": [
      "mohit,44,35,45\n",
      "\n",
      "arun,37,43,41\n",
      "\n",
      "ashish,35,40,39\n",
      "\n",
      "khushi,45,41,37\n",
      "\n",
      "rajat,44,35,38\n",
      "\n"
     ]
    }
   ],
   "source": [
    "file=open('student_marks.csv','a')\n",
    "data=\"\"\n",
    "for name,p,c,m in random_data:\n",
    "    row=f'{name},{p},{c},{m}\\n'\n",
    "    print(row)\n",
    "    data+=row\n",
    "else:\n",
    "    file.write(data)\n",
    "    file.close()"
   ]
  },
  {
   "cell_type": "markdown",
   "id": "98d7fda3",
   "metadata": {},
   "source": [
    "        input file---> process ---> output ---> student_persentage.csv"
   ]
  },
  {
   "cell_type": "code",
   "execution_count": 86,
   "id": "87b3c746",
   "metadata": {},
   "outputs": [
    {
     "name": "stdout",
     "output_type": "stream",
     "text": [
      "mohit,44,35,45\n",
      "arun,37,43,41\n",
      "ashish,35,40,39\n",
      "khushi,45,41,37\n",
      "rajat,44,35,38\n",
      "\n"
     ]
    }
   ],
   "source": [
    "file=open('student_marks.csv')\n",
    "data=file.read()\n",
    "print(data)"
   ]
  },
  {
   "cell_type": "code",
   "execution_count": 82,
   "id": "8e7f86fa",
   "metadata": {},
   "outputs": [
    {
     "name": "stdout",
     "output_type": "stream",
     "text": [
      "name,physic,chemistry,math\n",
      "mohit,44,35,45\n",
      "arun,37,43,41\n",
      "ashish,35,40,39\n",
      "khushi,45,41,37\n",
      "rajat,44,35,38\n",
      "\n"
     ]
    }
   ],
   "source": [
    "for i in data.split('\\n'):\n",
    "    print(i)"
   ]
  },
  {
   "cell_type": "code",
   "execution_count": 89,
   "id": "81911037",
   "metadata": {},
   "outputs": [
    {
     "data": {
      "text/plain": [
       "['mohit,44,35,45',\n",
       " 'arun,37,43,41',\n",
       " 'ashish,35,40,39',\n",
       " 'khushi,45,41,37',\n",
       " 'rajat,44,35,38']"
      ]
     },
     "execution_count": 89,
     "metadata": {},
     "output_type": "execute_result"
    }
   ],
   "source": [
    "data.split()"
   ]
  },
  {
   "cell_type": "code",
   "execution_count": 92,
   "id": "406dbd65",
   "metadata": {},
   "outputs": [
    {
     "data": {
      "text/plain": [
       "['44', '35', '45']"
      ]
     },
     "execution_count": 92,
     "metadata": {},
     "output_type": "execute_result"
    }
   ],
   "source": [
    "marks='mohit,44,35,45'.split(',')[1:]\n",
    "marks"
   ]
  },
  {
   "cell_type": "code",
   "execution_count": 93,
   "id": "c49c00ab",
   "metadata": {},
   "outputs": [
    {
     "data": {
      "text/plain": [
       "[44, 35, 45]"
      ]
     },
     "execution_count": 93,
     "metadata": {},
     "output_type": "execute_result"
    }
   ],
   "source": [
    "list(map(int,marks))"
   ]
  },
  {
   "cell_type": "code",
   "execution_count": 94,
   "id": "a108aca6",
   "metadata": {},
   "outputs": [
    {
     "data": {
      "text/plain": [
       "124"
      ]
     },
     "execution_count": 94,
     "metadata": {},
     "output_type": "execute_result"
    }
   ],
   "source": [
    "sum(list(map(int,marks)))/300*100"
   ]
  },
  {
   "cell_type": "code",
   "execution_count": 95,
   "id": "1938a862",
   "metadata": {},
   "outputs": [],
   "source": [
    "file=open('student_marks.csv','a')\n",
    "data1=\"\"\n",
    "for i in data.split():\n",
    "    name=i.split(',')[0]\n",
    "    percentage=sum(list(map(int,i.split(',')[1:])))/300*100\n",
    "    row=f'{name},{percentage}\\n'\n",
    "    data1+=row\n",
    "else:\n",
    "    file.write(data1)\n",
    "    file.close()"
   ]
  },
  {
   "cell_type": "code",
   "execution_count": 74,
   "id": "9a1f8ac8",
   "metadata": {},
   "outputs": [],
   "source": [
    "file=open('students_marks.csv','w')\n",
    "header=\"name,physic,chemistry,math,persentage\\n\"\n",
    "file.write(header)\n",
    "file.close()"
   ]
  },
  {
   "cell_type": "code",
   "execution_count": 75,
   "id": "14ec0068",
   "metadata": {},
   "outputs": [
    {
     "name": "stdout",
     "output_type": "stream",
     "text": [
      "enter the no. of student: 5\n",
      "enter the student name: khushi\n",
      "physice mark: 56\n",
      "chemistry mark: 78\n",
      "math mark: 89\n",
      "enter the student name: anjali\n",
      "physice mark: 56\n",
      "chemistry mark: 78\n",
      "math mark: 97\n",
      "enter the student name: kuku\n",
      "physice mark: 45\n",
      "chemistry mark: 78\n",
      "math mark: 67\n",
      "enter the student name: ram\n",
      "physice mark: 56\n",
      "chemistry mark: 89\n",
      "math mark: 78\n",
      "enter the student name: shayam\n",
      "physice mark: 56\n",
      "chemistry mark: 89\n",
      "math mark: 67\n"
     ]
    }
   ],
   "source": [
    "file=open('students_marks.csv','a')\n",
    "no_of_student_details=int(input(\"enter the no. of student: \"))\n",
    "data=\"\"\n",
    "for i in range(no_of_student_details):\n",
    "    name=input(\"enter the student name: \")\n",
    "    physice_mark=int(input(\"physice mark: \"))\n",
    "    chemistry_mark=int(input(\"chemistry mark: \"))    \n",
    "    math_mark=int(input(\"math mark: \")) \n",
    "    persentage=(physice_mark+chemistry_mark+math_mark)/3\n",
    "    line=f'{name},{physice_mark},{chemistry_mark},{math_mark},{persentage}\\n'\n",
    "    data+=line\n",
    "else:\n",
    "    file.write(data)\n",
    "    file.close()"
   ]
  },
  {
   "cell_type": "code",
   "execution_count": null,
   "id": "aae763bc",
   "metadata": {},
   "outputs": [],
   "source": []
  },
  {
   "cell_type": "code",
   "execution_count": null,
   "id": "060cf2ed",
   "metadata": {},
   "outputs": [],
   "source": []
  }
 ],
 "metadata": {
  "kernelspec": {
   "display_name": "Python 3 (ipykernel)",
   "language": "python",
   "name": "python3"
  },
  "language_info": {
   "codemirror_mode": {
    "name": "ipython",
    "version": 3
   },
   "file_extension": ".py",
   "mimetype": "text/x-python",
   "name": "python",
   "nbconvert_exporter": "python",
   "pygments_lexer": "ipython3",
   "version": "3.11.5"
  }
 },
 "nbformat": 4,
 "nbformat_minor": 5
}
