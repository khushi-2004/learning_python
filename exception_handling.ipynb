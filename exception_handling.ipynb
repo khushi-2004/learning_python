{
 "cells": [
  {
   "cell_type": "markdown",
   "id": "ef204d39",
   "metadata": {},
   "source": [
    "# Exception handling"
   ]
  },
  {
   "cell_type": "markdown",
   "id": "c231989e",
   "metadata": {},
   "source": [
    "    an exception is an event which occur during the execution of program that disrupts normal flow of coontrol\n",
    "    \n",
    "    exception can be handled using exception handling syntax"
   ]
  },
  {
   "cell_type": "code",
   "execution_count": 1,
   "id": "3246b583",
   "metadata": {},
   "outputs": [
    {
     "ename": "ZeroDivisionError",
     "evalue": "division by zero",
     "output_type": "error",
     "traceback": [
      "\u001b[1;31m---------------------------------------------------------------------------\u001b[0m",
      "\u001b[1;31mZeroDivisionError\u001b[0m                         Traceback (most recent call last)",
      "Cell \u001b[1;32mIn[1], line 3\u001b[0m\n\u001b[0;32m      1\u001b[0m a\u001b[38;5;241m=\u001b[39m\u001b[38;5;241m10\u001b[39m\n\u001b[0;32m      2\u001b[0m b\u001b[38;5;241m=\u001b[39m\u001b[38;5;241m0\u001b[39m\n\u001b[1;32m----> 3\u001b[0m c\u001b[38;5;241m=\u001b[39ma\u001b[38;5;241m/\u001b[39mb\n\u001b[0;32m      4\u001b[0m \u001b[38;5;28mprint\u001b[39m(c)\n",
      "\u001b[1;31mZeroDivisionError\u001b[0m: division by zero"
     ]
    }
   ],
   "source": [
    "a=10\n",
    "b=0\n",
    "c=a/b\n",
    "print(c)"
   ]
  },
  {
   "cell_type": "markdown",
   "id": "409f5974",
   "metadata": {},
   "source": [
    "# how to handel Exception\n",
    "\n",
    "        there are four block\n",
    "             \n",
    "             1) try block\n",
    "             2) except block\n",
    "             3) else block\n",
    "             4) finally block\n",
    "             \n",
    "          \n",
    "            syntax: \n",
    "                    try:\n",
    "                    \n",
    "                        code containing exception\n",
    "                        \n",
    "                    expect(exception name):\n",
    "                    \n",
    "                        code to handle exception(if occured)\n",
    "                        \n",
    "                    else:\n",
    "                    \n",
    "                        code to execute if no exception occured\n",
    "                        \n",
    "                    finally:\n",
    "                    \n",
    "                        always executed\n",
    "                    "
   ]
  },
  {
   "cell_type": "code",
   "execution_count": 4,
   "id": "942020e2",
   "metadata": {},
   "outputs": [],
   "source": [
    "from keyword import kwlist"
   ]
  },
  {
   "cell_type": "code",
   "execution_count": 6,
   "id": "fa424015",
   "metadata": {},
   "outputs": [
    {
     "name": "stdout",
     "output_type": "stream",
     "text": [
      "['__all__', '__builtins__', '__cached__', '__doc__', '__file__', '__loader__', '__name__', '__package__', '__spec__', 'iskeyword', 'issoftkeyword', 'kwlist', 'softkwlist']\n"
     ]
    }
   ],
   "source": [
    "print(dir(keyword))"
   ]
  },
  {
   "cell_type": "code",
   "execution_count": 10,
   "id": "857aacfa",
   "metadata": {},
   "outputs": [
    {
     "name": "stdout",
     "output_type": "stream",
     "text": [
      "enter first number: 12\n",
      "enter second number: 0\n"
     ]
    },
    {
     "ename": "ZeroDivisionError",
     "evalue": "division by zero",
     "output_type": "error",
     "traceback": [
      "\u001b[1;31m---------------------------------------------------------------------------\u001b[0m",
      "\u001b[1;31mZeroDivisionError\u001b[0m                         Traceback (most recent call last)",
      "Cell \u001b[1;32mIn[10], line 4\u001b[0m\n\u001b[0;32m      1\u001b[0m x\u001b[38;5;241m=\u001b[39m\u001b[38;5;28mint\u001b[39m(\u001b[38;5;28minput\u001b[39m(\u001b[38;5;124m\"\u001b[39m\u001b[38;5;124menter first number: \u001b[39m\u001b[38;5;124m\"\u001b[39m))\n\u001b[0;32m      2\u001b[0m y\u001b[38;5;241m=\u001b[39m\u001b[38;5;28mint\u001b[39m(\u001b[38;5;28minput\u001b[39m(\u001b[38;5;124m\"\u001b[39m\u001b[38;5;124menter second number: \u001b[39m\u001b[38;5;124m\"\u001b[39m))\n\u001b[1;32m----> 4\u001b[0m result\u001b[38;5;241m=\u001b[39mx\u001b[38;5;241m/\u001b[39my\n\u001b[0;32m      5\u001b[0m \u001b[38;5;28mprint\u001b[39m(\u001b[38;5;124mf\u001b[39m\u001b[38;5;124m'\u001b[39m\u001b[38;5;124mresult is \u001b[39m\u001b[38;5;132;01m{\u001b[39;00mresult\u001b[38;5;132;01m}\u001b[39;00m\u001b[38;5;124m'\u001b[39m)\n",
      "\u001b[1;31mZeroDivisionError\u001b[0m: division by zero"
     ]
    }
   ],
   "source": [
    "x=int(input(\"enter first number: \"))\n",
    "y=int(input(\"enter second number: \"))\n",
    "\n",
    "result=x/y\n",
    "print(f'result is {result}')"
   ]
  },
  {
   "cell_type": "code",
   "execution_count": 9,
   "id": "98a2078e",
   "metadata": {},
   "outputs": [
    {
     "name": "stdout",
     "output_type": "stream",
     "text": [
      "enter first number: 12\n",
      "enter second number: 3\n"
     ]
    },
    {
     "ename": "NameError",
     "evalue": "name 'res' is not defined",
     "output_type": "error",
     "traceback": [
      "\u001b[1;31m---------------------------------------------------------------------------\u001b[0m",
      "\u001b[1;31mNameError\u001b[0m                                 Traceback (most recent call last)",
      "Cell \u001b[1;32mIn[9], line 5\u001b[0m\n\u001b[0;32m      2\u001b[0m y\u001b[38;5;241m=\u001b[39m\u001b[38;5;28mint\u001b[39m(\u001b[38;5;28minput\u001b[39m(\u001b[38;5;124m\"\u001b[39m\u001b[38;5;124menter second number: \u001b[39m\u001b[38;5;124m\"\u001b[39m))\n\u001b[0;32m      4\u001b[0m result\u001b[38;5;241m=\u001b[39mx\u001b[38;5;241m/\u001b[39my\n\u001b[1;32m----> 5\u001b[0m \u001b[38;5;28mprint\u001b[39m(\u001b[38;5;124mf\u001b[39m\u001b[38;5;124m'\u001b[39m\u001b[38;5;124mresult is \u001b[39m\u001b[38;5;132;01m{\u001b[39;00mres\u001b[38;5;132;01m}\u001b[39;00m\u001b[38;5;124m'\u001b[39m)\n",
      "\u001b[1;31mNameError\u001b[0m: name 'res' is not defined"
     ]
    }
   ],
   "source": [
    "x=int(input(\"enter first number: \"))\n",
    "y=int(input(\"enter second number: \"))\n",
    "\n",
    "result=x/y\n",
    "print(f'result is {res}')"
   ]
  },
  {
   "cell_type": "code",
   "execution_count": 11,
   "id": "0e718d7a",
   "metadata": {},
   "outputs": [
    {
     "name": "stdout",
     "output_type": "stream",
     "text": [
      "enter first number: 12\n",
      "enter second number: y\n"
     ]
    },
    {
     "ename": "ValueError",
     "evalue": "invalid literal for int() with base 10: 'y'",
     "output_type": "error",
     "traceback": [
      "\u001b[1;31m---------------------------------------------------------------------------\u001b[0m",
      "\u001b[1;31mValueError\u001b[0m                                Traceback (most recent call last)",
      "Cell \u001b[1;32mIn[11], line 2\u001b[0m\n\u001b[0;32m      1\u001b[0m x\u001b[38;5;241m=\u001b[39m\u001b[38;5;28mint\u001b[39m(\u001b[38;5;28minput\u001b[39m(\u001b[38;5;124m\"\u001b[39m\u001b[38;5;124menter first number: \u001b[39m\u001b[38;5;124m\"\u001b[39m))\n\u001b[1;32m----> 2\u001b[0m y\u001b[38;5;241m=\u001b[39m\u001b[38;5;28mint\u001b[39m(\u001b[38;5;28minput\u001b[39m(\u001b[38;5;124m\"\u001b[39m\u001b[38;5;124menter second number: \u001b[39m\u001b[38;5;124m\"\u001b[39m))\n\u001b[0;32m      4\u001b[0m result\u001b[38;5;241m=\u001b[39mx\u001b[38;5;241m/\u001b[39my\n\u001b[0;32m      5\u001b[0m \u001b[38;5;28mprint\u001b[39m(\u001b[38;5;124mf\u001b[39m\u001b[38;5;124m'\u001b[39m\u001b[38;5;124mresult is \u001b[39m\u001b[38;5;132;01m{\u001b[39;00mresult\u001b[38;5;132;01m}\u001b[39;00m\u001b[38;5;124m'\u001b[39m)\n",
      "\u001b[1;31mValueError\u001b[0m: invalid literal for int() with base 10: 'y'"
     ]
    }
   ],
   "source": [
    "x=int(input(\"enter first number: \"))\n",
    "y=int(input(\"enter second number: \"))\n",
    "\n",
    "result=x/y\n",
    "print(f'result is {result}')"
   ]
  },
  {
   "cell_type": "code",
   "execution_count": 12,
   "id": "e4afd738",
   "metadata": {},
   "outputs": [
    {
     "name": "stdout",
     "output_type": "stream",
     "text": [
      "enter first number: 12\n",
      "enter second number: 0\n",
      "you can't divide by zero\n"
     ]
    }
   ],
   "source": [
    "try:\n",
    "    x=int(input(\"enter first number: \"))\n",
    "    y=int(input(\"enter second number: \"))\n",
    "\n",
    "    result=x/y\n",
    "    print(f'result is {result}')\n",
    "    \n",
    "except ZeroDivisionError:\n",
    "    print(\"you can't divide by zero\")"
   ]
  },
  {
   "cell_type": "code",
   "execution_count": 19,
   "id": "e49f2ce4",
   "metadata": {},
   "outputs": [
    {
     "name": "stdout",
     "output_type": "stream",
     "text": [
      "4\n",
      "3\n",
      "2\n",
      "5\n",
      "6\n",
      "3\n",
      "2\n",
      "6\n",
      "4\n",
      "3\n",
      "2\n",
      "5\n",
      "3\n",
      "1\n",
      "5\n",
      "2\n",
      "1\n",
      "4\n",
      "3\n",
      "1\n",
      "2\n",
      "1\n",
      "1\n",
      "2\n",
      "5\n",
      "2\n",
      "5\n",
      "4\n",
      "3\n",
      "6\n"
     ]
    }
   ],
   "source": [
    "sum=0\n",
    "for i in range(30):\n",
    "    n=int(input())\n",
    "    c=(n-3.2)**2\n",
    "    sum=sum+c"
   ]
  },
  {
   "cell_type": "code",
   "execution_count": 23,
   "id": "7bf9f801",
   "metadata": {},
   "outputs": [
    {
     "name": "stdout",
     "output_type": "stream",
     "text": [
      "2.648275862068966\n"
     ]
    }
   ],
   "source": [
    "print(sum/29)"
   ]
  },
  {
   "cell_type": "code",
   "execution_count": null,
   "id": "e207e9b5",
   "metadata": {},
   "outputs": [],
   "source": []
  }
 ],
 "metadata": {
  "kernelspec": {
   "display_name": "Python 3 (ipykernel)",
   "language": "python",
   "name": "python3"
  },
  "language_info": {
   "codemirror_mode": {
    "name": "ipython",
    "version": 3
   },
   "file_extension": ".py",
   "mimetype": "text/x-python",
   "name": "python",
   "nbconvert_exporter": "python",
   "pygments_lexer": "ipython3",
   "version": "3.11.5"
  }
 },
 "nbformat": 4,
 "nbformat_minor": 5
}
