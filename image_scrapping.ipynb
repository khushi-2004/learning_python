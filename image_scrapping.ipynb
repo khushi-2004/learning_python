{
 "cells": [
  {
   "cell_type": "code",
   "execution_count": 25,
   "id": "962e15eb",
   "metadata": {},
   "outputs": [],
   "source": [
    "import requests\n",
    "from bs4 import BeautifulSoup\n",
    "from urllib.request import urlopen as uReq\n",
    "import os"
   ]
  },
  {
   "cell_type": "code",
   "execution_count": 26,
   "id": "dc7affa9",
   "metadata": {},
   "outputs": [],
   "source": [
    "save_dir=\"images/\"\n",
    "if not os.path.exists(save_dir):\n",
    "    os.makedirs(save_dir)"
   ]
  },
  {
   "cell_type": "code",
   "execution_count": 27,
   "id": "e5245ed1",
   "metadata": {},
   "outputs": [],
   "source": [
    "headers = {\"User-Agent\": \"Mozilla/5.0 (Windows NT 10.0; Win64; x64) AppleWebKit/537.36 (KHTML, like Gecko) Chrome/58.0.3029.110 Safari/537.36\"}"
   ]
  },
  {
   "cell_type": "code",
   "execution_count": 28,
   "id": "3120aab8",
   "metadata": {},
   "outputs": [],
   "source": [
    "query=\"blackpentharanimal\"\n",
    "response=requests.get(f'https://www.google.com/search?q={query}&tbm=isch&ved=2ahUKEwj2yPj00fqEAxUuyDgGHSi-AfwQ2-cCegQIABAA&oq=black+panther+an&gs_lp=EgNpbWciEGJsYWNrIHBhbnRoZXIgYW4qAggAMg0QABiABBiKBRhDGLEDMgUQABiABDIFEAAYgAQyBRAAGIAEMgUQABiABDIFEAAYgAQyBRAAGIAEMgUQABiABDIFEAAYgAQyBRAAGIAESOM0UMAgWPwmcAB4AJABAJgBhQGgAYAEqgEDMC40uAEByAEA-AEBigILZ3dzLXdpei1pbWfCAgQQIxgnwgIIEAAYgAQYsQPCAgoQABiABBiKBRhDiAYB&sclient=img&ei=son2ZfanN66Q4-EPqPyG4A8&bih=664&biw=708')"
   ]
  },
  {
   "cell_type": "code",
   "execution_count": 29,
   "id": "75858755",
   "metadata": {},
   "outputs": [],
   "source": [
    "soup=BeautifulSoup(response.content,'html.parser')\n"
   ]
  },
  {
   "cell_type": "code",
   "execution_count": 30,
   "id": "57ddee79",
   "metadata": {},
   "outputs": [],
   "source": [
    "img_tags=soup.find_all('img')"
   ]
  },
  {
   "cell_type": "code",
   "execution_count": null,
   "id": "90edbce1",
   "metadata": {},
   "outputs": [],
   "source": []
  },
  {
   "cell_type": "code",
   "execution_count": 31,
   "id": "d8edcae5",
   "metadata": {},
   "outputs": [],
   "source": [
    "del img_tags[0]"
   ]
  },
  {
   "cell_type": "code",
   "execution_count": 32,
   "id": "28b1bb43",
   "metadata": {},
   "outputs": [],
   "source": [
    "img_data_mongo=[]\n",
    "for i in img_tags:\n",
    "    img_url=i['src']\n",
    "    img_data=requests.get(img_url).content\n",
    "    my_dict={\n",
    "        \"index\":img_url,\n",
    "        \"image\":img_data\n",
    "    }\n",
    "    img_data_mongo.append(my_dict)\n",
    "    with open(os.path.join(save_dir,f\"{query}_{img_tags.index(i)}.jpg\"),\"wb\") as f:\n",
    "        f.write(img_data)\n",
    "    \n",
    "    "
   ]
  },
  {
   "cell_type": "code",
   "execution_count": null,
   "id": "bf5c9de9",
   "metadata": {},
   "outputs": [],
   "source": []
  }
 ],
 "metadata": {
  "kernelspec": {
   "display_name": "Python 3 (ipykernel)",
   "language": "python",
   "name": "python3"
  },
  "language_info": {
   "codemirror_mode": {
    "name": "ipython",
    "version": 3
   },
   "file_extension": ".py",
   "mimetype": "text/x-python",
   "name": "python",
   "nbconvert_exporter": "python",
   "pygments_lexer": "ipython3",
   "version": "3.11.5"
  }
 },
 "nbformat": 4,
 "nbformat_minor": 5
}
