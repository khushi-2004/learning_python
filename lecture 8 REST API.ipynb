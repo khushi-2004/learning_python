{
 "cells": [
  {
   "cell_type": "markdown",
   "id": "709c04e4",
   "metadata": {},
   "source": [
    "# REST API"
   ]
  },
  {
   "cell_type": "code",
   "execution_count": 69,
   "id": "aeaea071",
   "metadata": {},
   "outputs": [],
   "source": [
    "import requests"
   ]
  },
  {
   "cell_type": "code",
   "execution_count": 70,
   "id": "31acf112",
   "metadata": {},
   "outputs": [],
   "source": [
    "lat='27.8012'\n",
    "lon='76.6442'\n",
    "API_key='14250b0f12aa38bc6e0bb2ad3de9d8ec'\n",
    "\n",
    "url=f'https://api.openweathermap.org/data/2.5/weather?lat={lat}&lon={lon}&appid={API_key}'\n"
   ]
  },
  {
   "cell_type": "code",
   "execution_count": 71,
   "id": "79e45d97",
   "metadata": {},
   "outputs": [
    {
     "name": "stdout",
     "output_type": "stream",
     "text": [
      "https://api.openweathermap.org/data/2.5/weather?lat=27.8012&lon=76.6442&appid=14250b0f12aa38bc6e0bb2ad3de9d8ec\n"
     ]
    }
   ],
   "source": [
    "print(url)"
   ]
  },
  {
   "cell_type": "code",
   "execution_count": 72,
   "id": "e921b1b9",
   "metadata": {},
   "outputs": [
    {
     "data": {
      "text/plain": [
       "200"
      ]
     },
     "execution_count": 72,
     "metadata": {},
     "output_type": "execute_result"
    }
   ],
   "source": [
    "resp=requests.get(url)\n",
    "resp.status_code"
   ]
  },
  {
   "cell_type": "code",
   "execution_count": 11,
   "id": "eea0c813",
   "metadata": {},
   "outputs": [
    {
     "data": {
      "text/plain": [
       "b'{\"coord\":{\"lon\":76.6442,\"lat\":27.8012},\"weather\":[{\"id\":800,\"main\":\"Clear\",\"description\":\"clear sky\",\"icon\":\"01d\"}],\"base\":\"stations\",\"main\":{\"temp\":295.19,\"feels_like\":294.02,\"temp_min\":295.19,\"temp_max\":295.19,\"pressure\":1019,\"humidity\":22,\"sea_level\":1019,\"grnd_level\":984},\"visibility\":10000,\"wind\":{\"speed\":2.77,\"deg\":303,\"gust\":3.44},\"clouds\":{\"all\":0},\"dt\":1706338354,\"sys\":{\"country\":\"IN\",\"sunrise\":1706319771,\"sunset\":1706358532},\"timezone\":19800,\"id\":1266484,\"name\":\"Kishangarh\",\"cod\":200}'"
      ]
     },
     "execution_count": 11,
     "metadata": {},
     "output_type": "execute_result"
    }
   ],
   "source": [
    "cont=resp.content\n",
    "cont"
   ]
  },
  {
   "cell_type": "code",
   "execution_count": 14,
   "id": "0c2849a5",
   "metadata": {},
   "outputs": [
    {
     "data": {
      "text/plain": [
       "{'coord': {'lon': 76.6442, 'lat': 27.8012},\n",
       " 'weather': [{'id': 800,\n",
       "   'main': 'Clear',\n",
       "   'description': 'clear sky',\n",
       "   'icon': '01d'}],\n",
       " 'base': 'stations',\n",
       " 'main': {'temp': 295.19,\n",
       "  'feels_like': 294.02,\n",
       "  'temp_min': 295.19,\n",
       "  'temp_max': 295.19,\n",
       "  'pressure': 1019,\n",
       "  'humidity': 22,\n",
       "  'sea_level': 1019,\n",
       "  'grnd_level': 984},\n",
       " 'visibility': 10000,\n",
       " 'wind': {'speed': 2.77, 'deg': 303, 'gust': 3.44},\n",
       " 'clouds': {'all': 0},\n",
       " 'dt': 1706338354,\n",
       " 'sys': {'country': 'IN', 'sunrise': 1706319771, 'sunset': 1706358532},\n",
       " 'timezone': 19800,\n",
       " 'id': 1266484,\n",
       " 'name': 'Kishangarh',\n",
       " 'cod': 200}"
      ]
     },
     "execution_count": 14,
     "metadata": {},
     "output_type": "execute_result"
    }
   ],
   "source": [
    "data=resp.json()\n",
    "data"
   ]
  },
  {
   "cell_type": "code",
   "execution_count": 15,
   "id": "0b67f888",
   "metadata": {},
   "outputs": [
    {
     "name": "stdout",
     "output_type": "stream",
     "text": [
      "<class 'dict'>\n"
     ]
    }
   ],
   "source": [
    "print(type(data))"
   ]
  },
  {
   "cell_type": "code",
   "execution_count": 17,
   "id": "7419934c",
   "metadata": {},
   "outputs": [
    {
     "data": {
      "text/plain": [
       "dict_keys(['coord', 'weather', 'base', 'main', 'visibility', 'wind', 'clouds', 'dt', 'sys', 'timezone', 'id', 'name', 'cod'])"
      ]
     },
     "execution_count": 17,
     "metadata": {},
     "output_type": "execute_result"
    }
   ],
   "source": [
    "data.keys()"
   ]
  },
  {
   "cell_type": "code",
   "execution_count": 20,
   "id": "164b3fed",
   "metadata": {},
   "outputs": [
    {
     "data": {
      "text/plain": [
       "{'temp': 295.19,\n",
       " 'feels_like': 294.02,\n",
       " 'temp_min': 295.19,\n",
       " 'temp_max': 295.19,\n",
       " 'pressure': 1019,\n",
       " 'humidity': 22,\n",
       " 'sea_level': 1019,\n",
       " 'grnd_level': 984}"
      ]
     },
     "execution_count": 20,
     "metadata": {},
     "output_type": "execute_result"
    }
   ],
   "source": [
    "data['main']"
   ]
  },
  {
   "cell_type": "code",
   "execution_count": 22,
   "id": "fa884960",
   "metadata": {},
   "outputs": [],
   "source": [
    "temp=data['main']['temp']\n",
    "min_temp=data['main']['temp_min']\n",
    "max_temp=data['main']['temp_max']"
   ]
  },
  {
   "cell_type": "code",
   "execution_count": 23,
   "id": "8c84ef2e",
   "metadata": {},
   "outputs": [
    {
     "data": {
      "text/plain": [
       "295.19"
      ]
     },
     "execution_count": 23,
     "metadata": {},
     "output_type": "execute_result"
    }
   ],
   "source": [
    "temp"
   ]
  },
  {
   "cell_type": "code",
   "execution_count": 37,
   "id": "0a8e6d18",
   "metadata": {},
   "outputs": [],
   "source": [
    "# For temperature in Celsius use units=metric\n",
    "\n",
    "lat='27.8012'\n",
    "lon='76.6442'\n",
    "API_key='14250b0f12aa38bc6e0bb2ad3de9d8ec'\n",
    "units='metric'\n",
    "\n",
    "url2=f'https://api.openweathermap.org/data/2.5/weather?lat={lat}&lon={lon}&appid={API_key}&units={units}'\n",
    "\n",
    "resp1=requests.get(url2)"
   ]
  },
  {
   "cell_type": "code",
   "execution_count": null,
   "id": "833960a3",
   "metadata": {},
   "outputs": [],
   "source": []
  },
  {
   "cell_type": "code",
   "execution_count": 38,
   "id": "d8e19bfe",
   "metadata": {},
   "outputs": [
    {
     "data": {
      "text/plain": [
       "{'coord': {'lon': 76.6442, 'lat': 27.8012},\n",
       " 'weather': [{'id': 800,\n",
       "   'main': 'Clear',\n",
       "   'description': 'clear sky',\n",
       "   'icon': '01d'}],\n",
       " 'base': 'stations',\n",
       " 'main': {'temp': 23.19,\n",
       "  'feels_like': 22.11,\n",
       "  'temp_min': 23.19,\n",
       "  'temp_max': 23.19,\n",
       "  'pressure': 1018,\n",
       "  'humidity': 21,\n",
       "  'sea_level': 1018,\n",
       "  'grnd_level': 983},\n",
       " 'visibility': 10000,\n",
       " 'wind': {'speed': 3.15, 'deg': 306, 'gust': 4.04},\n",
       " 'clouds': {'all': 1},\n",
       " 'dt': 1706343453,\n",
       " 'sys': {'country': 'IN', 'sunrise': 1706319771, 'sunset': 1706358532},\n",
       " 'timezone': 19800,\n",
       " 'id': 1266484,\n",
       " 'name': 'Kishangarh',\n",
       " 'cod': 200}"
      ]
     },
     "execution_count": 38,
     "metadata": {},
     "output_type": "execute_result"
    }
   ],
   "source": [
    "data=resp1.json()\n",
    "data"
   ]
  },
  {
   "cell_type": "code",
   "execution_count": 39,
   "id": "8a85b37b",
   "metadata": {},
   "outputs": [],
   "source": [
    "temp=data['main']['temp']\n",
    "min_temp=data['main']['temp_min']\n",
    "max_temp=data['main']['temp_max']"
   ]
  },
  {
   "cell_type": "code",
   "execution_count": 40,
   "id": "8e4a418f",
   "metadata": {},
   "outputs": [
    {
     "data": {
      "text/plain": [
       "23.19"
      ]
     },
     "execution_count": 40,
     "metadata": {},
     "output_type": "execute_result"
    }
   ],
   "source": [
    "temp"
   ]
  },
  {
   "cell_type": "code",
   "execution_count": 41,
   "id": "05475ac5",
   "metadata": {},
   "outputs": [
    {
     "data": {
      "text/plain": [
       "23.19"
      ]
     },
     "execution_count": 41,
     "metadata": {},
     "output_type": "execute_result"
    }
   ],
   "source": [
    "min_temp"
   ]
  },
  {
   "cell_type": "code",
   "execution_count": 42,
   "id": "9c423d58",
   "metadata": {},
   "outputs": [
    {
     "data": {
      "text/plain": [
       "23.19"
      ]
     },
     "execution_count": 42,
     "metadata": {},
     "output_type": "execute_result"
    }
   ],
   "source": [
    "max_temp"
   ]
  },
  {
   "cell_type": "code",
   "execution_count": null,
   "id": "e2fb78ee",
   "metadata": {},
   "outputs": [],
   "source": []
  },
  {
   "cell_type": "code",
   "execution_count": 57,
   "id": "07fb33f9",
   "metadata": {},
   "outputs": [],
   "source": [
    "import requests\n",
    "\n",
    "def get_temp(lat,long,api_key,units='standard'):\n",
    "    '''\n",
    "    lat: Required argument\n",
    "    long: Required argument\n",
    "    api_key: Required argument\n",
    "    units: optional argument\n",
    "            by default: standared\n",
    "            optional--->metric,imperial\n",
    "            \n",
    "            standared---> kelvin\n",
    "            mertic --> Celsius\n",
    "            imperial --> Fahrenheit\n",
    "    '''\n",
    "    url=f'https://api.openweathermap.org/data/2.5/weather?lat={lat}&lon={lon}&appid={API_key}&units={units}'\n",
    "    resp=requests.get(url)\n",
    "    if resp.status_code==200:\n",
    "        data=resp.json()\n",
    "        temp=data['main']['temp']\n",
    "        min_temp=data['main']['temp_min']\n",
    "        max_temp=data['main']['temp_max']\n",
    "        print(f'current temp: {temp} kelvin ')\n",
    "        print(f'min temp: {min_temp} kelvin')\n",
    "        print(f'max temp: {max_temp} kelvin') \n",
    "        \n",
    "    else:\n",
    "        print(f\"error occured ---> status code :{resp.status_code} reson:{resp.reason}\")\n",
    "        "
   ]
  },
  {
   "cell_type": "code",
   "execution_count": 53,
   "id": "b2eef642",
   "metadata": {},
   "outputs": [],
   "source": [
    "lat='27.8012'\n",
    "lon='76.6442'\n",
    "API_key='14250b0f12aa38bc6e0bb2ad3de9d8ec'\n"
   ]
  },
  {
   "cell_type": "code",
   "execution_count": 54,
   "id": "a2b1a0d7",
   "metadata": {},
   "outputs": [
    {
     "name": "stdout",
     "output_type": "stream",
     "text": [
      "current temp: 296.87 kelvin \n",
      "min temp: 296.87 kelvin\n",
      "max temp: 296.87 kelvin\n"
     ]
    }
   ],
   "source": [
    "get_temp(lat,lon,API_key)"
   ]
  },
  {
   "cell_type": "code",
   "execution_count": 81,
   "id": "94c2b9f0",
   "metadata": {},
   "outputs": [],
   "source": [
    "import requests\n",
    "\n",
    "def get_temp_city_name(city_name,units='standard'):\n",
    "    '''\n",
    "    lat: Required argument\n",
    "    long: Required argument\n",
    "    api_key: Required argument\n",
    "    units: optional argument\n",
    "            by default: standared\n",
    "            optional--->metric,imperial\n",
    "            \n",
    "            standared---> kelvin\n",
    "            mertic --> Celsius\n",
    "            imperial --> Fahrenheit\n",
    "    '''\n",
    "    API_key='14250b0f12aa38bc6e0bb2ad3de9d8ec'\n",
    "    url=f'https://api.openweathermap.org/data/2.5/weather?q={city_name}&appid={API_key}'\n",
    "    resp=requests.get(url)\n",
    "    if resp.status_code==200:\n",
    "        data=resp.json()\n",
    "        temp=data['main']['temp']\n",
    "        min_temp=data['main']['temp_min']\n",
    "        max_temp=data['main']['temp_max']\n",
    "        print(f'current temp: {temp} kelvin ')\n",
    "        print(f'min temp: {min_temp} kelvin')\n",
    "        print(f'max temp: {max_temp} kelvin') \n",
    "        \n",
    "        \n",
    "    else:\n",
    "        print(f\"error occured ---> status code :{resp.status_code} reson:{resp.reason}\")\n",
    "        "
   ]
  },
  {
   "cell_type": "code",
   "execution_count": 82,
   "id": "876f050a",
   "metadata": {},
   "outputs": [
    {
     "name": "stdout",
     "output_type": "stream",
     "text": [
      "enter city name: alwar\n",
      "current temp: 287.87 kelvin \n",
      "min temp: 287.87 kelvin\n",
      "max temp: 287.87 kelvin\n"
     ]
    }
   ],
   "source": [
    "get_temp_city_name(input(\"enter city name: \"))"
   ]
  },
  {
   "cell_type": "code",
   "execution_count": null,
   "id": "7be35a7c",
   "metadata": {},
   "outputs": [],
   "source": []
  },
  {
   "cell_type": "code",
   "execution_count": 77,
   "id": "276ff5d3",
   "metadata": {},
   "outputs": [
    {
     "name": "stdout",
     "output_type": "stream",
     "text": [
      "200\n"
     ]
    }
   ],
   "source": [
    "import requests\n",
    "\n",
    "lat = \"27.5530\"\n",
    "lon = \"76.6346\"\n",
    "api_key = '14250b0f12aa38bc6e0bb2ad3de9d8ec'\n",
    "\n",
    "url = f'http://api.openweathermap.org/data/2.5/forecast?lat={lat}&lon={lon}&appid={api_key}'\n",
    "resp = requests.get(url)\n",
    "status_code = resp.status_code\n",
    "\n",
    "print(status_code)"
   ]
  },
  {
   "cell_type": "code",
   "execution_count": 79,
   "id": "35ab6224",
   "metadata": {},
   "outputs": [
    {
     "name": "stdout",
     "output_type": "stream",
     "text": [
      "401\n"
     ]
    }
   ],
   "source": [
    "import requests\n",
    "\n",
    "lat = \"27.5530\"\n",
    "lon = \"76.6346\"\n",
    "api_key = '14250b0f12aa38bc6e0bb2ad3de9d8ec'\n",
    "\n",
    "url = f'https://pro.openweathermap.org/data/2.5/forecast/hourly?lat={lat}&lon={lon}&appid={api_key}'\n",
    "resp = requests.get(url)\n",
    "status_code = resp.status_code\n",
    "\n",
    "print(status_code)"
   ]
  },
  {
   "cell_type": "code",
   "execution_count": null,
   "id": "2f54db65",
   "metadata": {},
   "outputs": [],
   "source": []
  }
 ],
 "metadata": {
  "kernelspec": {
   "display_name": "Python 3 (ipykernel)",
   "language": "python",
   "name": "python3"
  },
  "language_info": {
   "codemirror_mode": {
    "name": "ipython",
    "version": 3
   },
   "file_extension": ".py",
   "mimetype": "text/x-python",
   "name": "python",
   "nbconvert_exporter": "python",
   "pygments_lexer": "ipython3",
   "version": "3.11.5"
  }
 },
 "nbformat": 4,
 "nbformat_minor": 5
}
