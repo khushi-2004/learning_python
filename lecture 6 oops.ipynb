{
 "cells": [
  {
   "cell_type": "markdown",
   "id": "f90c9c76",
   "metadata": {},
   "source": [
    "# inheritance"
   ]
  },
  {
   "cell_type": "code",
   "execution_count": 1,
   "id": "39978264",
   "metadata": {},
   "outputs": [],
   "source": [
    "class A:\n",
    "    \n",
    "    def feature1(self):\n",
    "        print('feature 1 is working')\n",
    "        \n",
    "    def feature2(self):\n",
    "        print('feature 2 is working')\n",
    "    \n",
    "class B:\n",
    "    \n",
    "    def feature3(self):\n",
    "        print('feature 3 is working')\n",
    "        \n",
    "    def feature4(self):\n",
    "        print('feature 4 is working')\n",
    "    "
   ]
  },
  {
   "cell_type": "code",
   "execution_count": 2,
   "id": "e9e03566",
   "metadata": {},
   "outputs": [],
   "source": [
    "b1=B()"
   ]
  },
  {
   "cell_type": "code",
   "execution_count": 3,
   "id": "e58da6f9",
   "metadata": {},
   "outputs": [
    {
     "name": "stdout",
     "output_type": "stream",
     "text": [
      "feature 3 is working\n"
     ]
    }
   ],
   "source": [
    "b1.feature3()"
   ]
  },
  {
   "cell_type": "code",
   "execution_count": 4,
   "id": "fff89276",
   "metadata": {},
   "outputs": [
    {
     "ename": "AttributeError",
     "evalue": "'B' object has no attribute 'feature1'",
     "output_type": "error",
     "traceback": [
      "\u001b[1;31m---------------------------------------------------------------------------\u001b[0m",
      "\u001b[1;31mAttributeError\u001b[0m                            Traceback (most recent call last)",
      "Cell \u001b[1;32mIn[4], line 1\u001b[0m\n\u001b[1;32m----> 1\u001b[0m b1\u001b[38;5;241m.\u001b[39mfeature1()\n",
      "\u001b[1;31mAttributeError\u001b[0m: 'B' object has no attribute 'feature1'"
     ]
    }
   ],
   "source": [
    "b1.feature1()"
   ]
  },
  {
   "cell_type": "code",
   "execution_count": 5,
   "id": "212f8ed3",
   "metadata": {},
   "outputs": [],
   "source": [
    "# single level inheritance\n",
    "\n",
    "class A:  #parent class\n",
    "    \n",
    "    def feature1(self):\n",
    "        print('feature 1 is working')\n",
    "        \n",
    "    def feature2(self):\n",
    "        print('feature 2 is working')\n",
    "    \n",
    "class B(A):  # child class\n",
    "    \n",
    "    def feature3(self):\n",
    "        print('feature 3 is working')\n",
    "        \n",
    "    def feature4(self):\n",
    "        print('feature 4 is working')\n",
    "    "
   ]
  },
  {
   "cell_type": "code",
   "execution_count": 6,
   "id": "213dc782",
   "metadata": {},
   "outputs": [],
   "source": [
    "b1=B()"
   ]
  },
  {
   "cell_type": "code",
   "execution_count": 7,
   "id": "8c9e8495",
   "metadata": {},
   "outputs": [
    {
     "name": "stdout",
     "output_type": "stream",
     "text": [
      "feature 1 is working\n"
     ]
    }
   ],
   "source": [
    "b1.feature1()"
   ]
  },
  {
   "cell_type": "code",
   "execution_count": 10,
   "id": "1db0992e",
   "metadata": {},
   "outputs": [],
   "source": [
    "# multilevel inheritance\n",
    "\n",
    "class A:\n",
    "    \n",
    "    def feature1(self):\n",
    "        print('feature 1 is working')\n",
    "        \n",
    "    def feature2(self):\n",
    "        print('feature 2 is working')\n",
    "    \n",
    "class B(A):\n",
    "    \n",
    "    def feature3(self):\n",
    "        print('feature 3 is working')\n",
    "        \n",
    "    def feature4(self):\n",
    "        print('feature 4 is working')\n",
    "\n",
    "class C(B):\n",
    "    \n",
    "    def feature5(self):\n",
    "        print('feature 5 is working')\n",
    "        \n",
    "    def feature6(self):\n",
    "        print('feature 6 is working')\n",
    "    "
   ]
  },
  {
   "cell_type": "code",
   "execution_count": 11,
   "id": "61092f38",
   "metadata": {},
   "outputs": [],
   "source": [
    "c1=C()"
   ]
  },
  {
   "cell_type": "code",
   "execution_count": 12,
   "id": "6efc688f",
   "metadata": {},
   "outputs": [
    {
     "name": "stdout",
     "output_type": "stream",
     "text": [
      "feature 3 is working\n"
     ]
    }
   ],
   "source": [
    "c1.feature3()"
   ]
  },
  {
   "cell_type": "code",
   "execution_count": 13,
   "id": "78975b88",
   "metadata": {},
   "outputs": [],
   "source": [
    "# multiple inheritance\n",
    "\n",
    "class A:\n",
    "    \n",
    "    def feature1(self):\n",
    "        print('feature 1 is working')\n",
    "        \n",
    "    def feature2(self):\n",
    "        print('feature 2 is working')\n",
    "    \n",
    "class B:\n",
    "    \n",
    "    def feature3(self):\n",
    "        print('feature 3 is working')\n",
    "        \n",
    "    def feature4(self):\n",
    "        print('feature 4 is working')\n",
    "\n",
    "class C(A,B):\n",
    "    \n",
    "    def feature5(self):\n",
    "        print('feature 5 is working')\n",
    "        \n",
    "    def feature6(self):\n",
    "        print('feature 6 is working')\n",
    "    "
   ]
  },
  {
   "cell_type": "code",
   "execution_count": 14,
   "id": "81a16348",
   "metadata": {},
   "outputs": [],
   "source": [
    "c1=C()"
   ]
  },
  {
   "cell_type": "code",
   "execution_count": 15,
   "id": "e9f1a739",
   "metadata": {},
   "outputs": [
    {
     "name": "stdout",
     "output_type": "stream",
     "text": [
      "feature 2 is working\n"
     ]
    }
   ],
   "source": [
    "c1.feature2()"
   ]
  },
  {
   "cell_type": "code",
   "execution_count": 19,
   "id": "f01d562b",
   "metadata": {},
   "outputs": [],
   "source": [
    "class A:  # parent class\n",
    "    \n",
    "    def feature1(self):\n",
    "        print('feature 1-A is working')\n",
    "        \n",
    "    def feature2(self):\n",
    "        print('feature 2 is working')\n",
    "    \n",
    "class B:   # child class \\ sub class\n",
    "    \n",
    "    def feature3(self):\n",
    "        print('feature 3 is working')\n",
    "        \n",
    "    def feature1(self):\n",
    "        print('feature 1-B is working')\n",
    "\n",
    "class C(A,B):      # method resolution order(mro)\n",
    "    \n",
    "    def feature5(self):\n",
    "        print('feature 5 is working')\n",
    "        \n",
    "    def feature6(self):\n",
    "        print('feature 6 is working')\n",
    "    "
   ]
  },
  {
   "cell_type": "code",
   "execution_count": 20,
   "id": "e0588ded",
   "metadata": {},
   "outputs": [],
   "source": [
    "c1=C()"
   ]
  },
  {
   "cell_type": "code",
   "execution_count": 21,
   "id": "776bc63e",
   "metadata": {},
   "outputs": [
    {
     "name": "stdout",
     "output_type": "stream",
     "text": [
      "feature 1-A is working\n"
     ]
    }
   ],
   "source": [
    "c1.feature1()"
   ]
  },
  {
   "cell_type": "code",
   "execution_count": 23,
   "id": "41b7498b",
   "metadata": {},
   "outputs": [
    {
     "data": {
      "text/plain": [
       "[__main__.C, __main__.A, __main__.B, object]"
      ]
     },
     "execution_count": 23,
     "metadata": {},
     "output_type": "execute_result"
    }
   ],
   "source": [
    "C.mro()"
   ]
  },
  {
   "cell_type": "code",
   "execution_count": null,
   "id": "c134758d",
   "metadata": {},
   "outputs": [],
   "source": [
    "class A:  # parent class\n",
    "    \n",
    "    def feature1(self):\n",
    "        print('feature 1-A is working')\n",
    "        \n",
    "    def feature2(self):\n",
    "        print('feature 2 is working')\n",
    "    \n",
    "class B:   # child class \\ sub class\n",
    "    \n",
    "    def feature3(self):\n",
    "        print('feature 3 is working')\n",
    "        \n",
    "    def feature1(self):\n",
    "        print('feature 1-B is working')\n",
    "\n",
    "class C(B,A):      # method resolution order(mro)\n",
    "    \n",
    "    def feature5(self):\n",
    "        print('feature 5 is working')\n",
    "        \n",
    "    def feature6(self):\n",
    "        print('feature 6 is working')\n",
    "    "
   ]
  },
  {
   "cell_type": "code",
   "execution_count": 26,
   "id": "c478c75d",
   "metadata": {},
   "outputs": [],
   "source": [
    "c1=C()"
   ]
  },
  {
   "cell_type": "code",
   "execution_count": 27,
   "id": "63e7bacc",
   "metadata": {},
   "outputs": [
    {
     "data": {
      "text/plain": [
       "[__main__.C, __main__.B, __main__.A, object]"
      ]
     },
     "execution_count": 27,
     "metadata": {},
     "output_type": "execute_result"
    }
   ],
   "source": [
    "C.mro()"
   ]
  },
  {
   "cell_type": "code",
   "execution_count": 29,
   "id": "c62fcdf5",
   "metadata": {},
   "outputs": [
    {
     "name": "stdout",
     "output_type": "stream",
     "text": [
      "feature 1-B is working\n"
     ]
    }
   ],
   "source": [
    "c1.feature1()"
   ]
  },
  {
   "cell_type": "markdown",
   "id": "1e09f468",
   "metadata": {},
   "source": [
    "# constructor in inheritance"
   ]
  },
  {
   "cell_type": "code",
   "execution_count": 33,
   "id": "1a0d077c",
   "metadata": {},
   "outputs": [],
   "source": [
    "class A:  # parent class\n",
    "    \n",
    "    def __init__(self):\n",
    "        print('A init')\n",
    "        \n",
    "    def feature1(self):\n",
    "        print('feature 1-A is working')\n",
    "        \n",
    "    def feature2(self):\n",
    "        print('feature 2 is working')\n",
    "    \n",
    "class B:   # child class \\ sub class\n",
    "    \n",
    "    def __init__(self):\n",
    "        print('B init')\n",
    "        \n",
    "    def feature3(self):\n",
    "        print('feature 3 is working')\n",
    "        \n",
    "    def feature4(self):\n",
    "        print('feature 4 is working')\n",
    "        \n",
    "    def feature1(self):\n",
    "        print('feature 1-B is working')\n",
    "\n",
    "class C:      # method resolution order(mro)\n",
    "    \n",
    "    def __init__(self):\n",
    "        print('C init')\n",
    "        \n",
    "    def feature5(self):\n",
    "        print('feature 5 is working')\n",
    "        \n",
    "    def feature6(self):\n",
    "        print('feature 6 is working')\n",
    "    "
   ]
  },
  {
   "cell_type": "code",
   "execution_count": 34,
   "id": "6481707b",
   "metadata": {},
   "outputs": [
    {
     "name": "stdout",
     "output_type": "stream",
     "text": [
      "B init\n"
     ]
    }
   ],
   "source": [
    "b1=B()"
   ]
  },
  {
   "cell_type": "code",
   "execution_count": 35,
   "id": "17feb904",
   "metadata": {},
   "outputs": [
    {
     "name": "stdout",
     "output_type": "stream",
     "text": [
      "feature 1-B is working\n"
     ]
    }
   ],
   "source": [
    "b1.feature1()"
   ]
  },
  {
   "cell_type": "code",
   "execution_count": 36,
   "id": "d7ce4ff1",
   "metadata": {},
   "outputs": [],
   "source": [
    "class A:  # parent class\n",
    "    \n",
    "    def __init__(self):\n",
    "        print('A init')\n",
    "        \n",
    "    def feature1(self):\n",
    "        print('feature 1-A is working')\n",
    "        \n",
    "    def feature2(self):\n",
    "        print('feature 2 is working')\n",
    "    \n",
    "class B:   # child class \\ sub class\n",
    "    \n",
    "    def __init__(self):\n",
    "        print('B init')\n",
    "        \n",
    "    def feature3(self):\n",
    "        print('feature 3 is working')\n",
    "        \n",
    "    def feature4(self):\n",
    "        print('feature 4 is working')\n",
    "        \n",
    "    def feature1(self):\n",
    "        print('feature 1-B is working')\n",
    "\n",
    "class C(A):      # method resolution order(mro)\n",
    "    \n",
    "    def feature5(self):\n",
    "        print('feature 5 is working')\n",
    "        \n",
    "    def feature6(self):\n",
    "        print('feature 6 is working')\n",
    "    "
   ]
  },
  {
   "cell_type": "code",
   "execution_count": 37,
   "id": "2dd85536",
   "metadata": {},
   "outputs": [
    {
     "name": "stdout",
     "output_type": "stream",
     "text": [
      "A init\n"
     ]
    }
   ],
   "source": [
    "c1=C()"
   ]
  },
  {
   "cell_type": "markdown",
   "id": "5f0712d9",
   "metadata": {},
   "source": [
    "## super()"
   ]
  },
  {
   "cell_type": "code",
   "execution_count": 38,
   "id": "ec3d0126",
   "metadata": {},
   "outputs": [],
   "source": [
    "class A:  # parent class\n",
    "    \n",
    "    def __init__(self):\n",
    "        print('A init')\n",
    "        \n",
    "    def feature1(self):\n",
    "        print('feature 1-A is working')\n",
    "        \n",
    "    def feature2(self):\n",
    "        print('feature 2 is working')\n",
    "    \n",
    "class B:   # child class \\ sub class\n",
    "    \n",
    "    def __init__(self):\n",
    "        print('B init')\n",
    "        \n",
    "    def feature3(self):\n",
    "        print('feature 3 is working')\n",
    "        \n",
    "    def feature4(self):\n",
    "        print('feature 4 is working')\n",
    "        \n",
    "    def feature1(self):\n",
    "        print('feature 1-B is working')\n",
    "\n",
    "class C(A,B):      # method resolution order(mro)\n",
    "    \n",
    "    def __init__(self):\n",
    "        super().__init__()\n",
    "        print('C init')\n",
    "        \n",
    "    def feature5(self):\n",
    "        print('feature 5 is working')\n",
    "        \n",
    "    def feature6(self):\n",
    "        print('feature 6 is working')\n",
    "    "
   ]
  },
  {
   "cell_type": "code",
   "execution_count": 39,
   "id": "f66bbed0",
   "metadata": {},
   "outputs": [
    {
     "name": "stdout",
     "output_type": "stream",
     "text": [
      "A init\n",
      "C init\n"
     ]
    }
   ],
   "source": [
    "c1=C()"
   ]
  },
  {
   "cell_type": "code",
   "execution_count": 40,
   "id": "e5b7dd13",
   "metadata": {},
   "outputs": [],
   "source": [
    "class A:  # parent class\n",
    "    \n",
    "    def __init__(self):\n",
    "        print('A init')\n",
    "        \n",
    "    def feature1(self):\n",
    "        print('feature 1-A is working')\n",
    "        \n",
    "    def feature2(self):\n",
    "        print('feature 2 is working')\n",
    "    \n",
    "class B:   # child class \\ sub class\n",
    "    \n",
    "    def __init__(self):\n",
    "        print('B init')\n",
    "        \n",
    "    def feature3(self):\n",
    "        print('feature 3 is working')\n",
    "        \n",
    "    def feature4(self):\n",
    "        print('feature 4 is working')\n",
    "        \n",
    "    def feature1(self):\n",
    "        print('feature 1-B is working')\n",
    "\n",
    "class C(A,B):      # method resolution order(mro)\n",
    "    \n",
    "    def __init__(self):\n",
    "        super().__init__()\n",
    "        print('C init')\n",
    "        \n",
    "    def feature5(self):\n",
    "        super().feature3()\n",
    "        print('feature 5 is working')\n",
    "        \n",
    "    def feature6(self):\n",
    "        print('feature 6 is working')\n",
    "    "
   ]
  },
  {
   "cell_type": "code",
   "execution_count": 41,
   "id": "429f729b",
   "metadata": {},
   "outputs": [
    {
     "name": "stdout",
     "output_type": "stream",
     "text": [
      "A init\n",
      "C init\n"
     ]
    }
   ],
   "source": [
    "c1=C()"
   ]
  },
  {
   "cell_type": "code",
   "execution_count": 42,
   "id": "39339e6d",
   "metadata": {},
   "outputs": [
    {
     "name": "stdout",
     "output_type": "stream",
     "text": [
      "feature 3 is working\n",
      "feature 5 is working\n"
     ]
    }
   ],
   "source": [
    "c1.feature5()"
   ]
  },
  {
   "cell_type": "markdown",
   "id": "13e9a7ee",
   "metadata": {},
   "source": [
    "# Polymorphism\n",
    "\n",
    "            poly --> many\n",
    "            morph --> forms\n",
    "            \n",
    "          one thing have many forms"
   ]
  },
  {
   "cell_type": "code",
   "execution_count": 1,
   "id": "6990caee",
   "metadata": {},
   "outputs": [],
   "source": [
    "def show():\n",
    "    print(\"this is show method\")\n",
    "    \n",
    "def show(a,b):\n",
    "    print(\"thos is method with two argument\")"
   ]
  },
  {
   "cell_type": "code",
   "execution_count": 2,
   "id": "f40d5587",
   "metadata": {},
   "outputs": [
    {
     "ename": "TypeError",
     "evalue": "show() missing 2 required positional arguments: 'a' and 'b'",
     "output_type": "error",
     "traceback": [
      "\u001b[1;31m---------------------------------------------------------------------------\u001b[0m",
      "\u001b[1;31mTypeError\u001b[0m                                 Traceback (most recent call last)",
      "Cell \u001b[1;32mIn[2], line 1\u001b[0m\n\u001b[1;32m----> 1\u001b[0m show()\n",
      "\u001b[1;31mTypeError\u001b[0m: show() missing 2 required positional arguments: 'a' and 'b'"
     ]
    }
   ],
   "source": [
    "show()"
   ]
  },
  {
   "cell_type": "code",
   "execution_count": null,
   "id": "952b6df5",
   "metadata": {},
   "outputs": [],
   "source": []
  },
  {
   "cell_type": "markdown",
   "id": "995dde80",
   "metadata": {},
   "source": [
    "     1. operator overloading\n",
    "     \n",
    "     2. method overriding\n",
    "     \n",
    "     3. duck typing"
   ]
  },
  {
   "cell_type": "markdown",
   "id": "a7e62e0b",
   "metadata": {},
   "source": [
    "## 1. operator overloadling"
   ]
  },
  {
   "cell_type": "code",
   "execution_count": 3,
   "id": "8b409686",
   "metadata": {},
   "outputs": [
    {
     "name": "stdout",
     "output_type": "stream",
     "text": [
      "['__abs__', '__add__', '__and__', '__bool__', '__ceil__', '__class__', '__delattr__', '__dir__', '__divmod__', '__doc__', '__eq__', '__float__', '__floor__', '__floordiv__', '__format__', '__ge__', '__getattribute__', '__getnewargs__', '__getstate__', '__gt__', '__hash__', '__index__', '__init__', '__init_subclass__', '__int__', '__invert__', '__le__', '__lshift__', '__lt__', '__mod__', '__mul__', '__ne__', '__neg__', '__new__', '__or__', '__pos__', '__pow__', '__radd__', '__rand__', '__rdivmod__', '__reduce__', '__reduce_ex__', '__repr__', '__rfloordiv__', '__rlshift__', '__rmod__', '__rmul__', '__ror__', '__round__', '__rpow__', '__rrshift__', '__rshift__', '__rsub__', '__rtruediv__', '__rxor__', '__setattr__', '__sizeof__', '__str__', '__sub__', '__subclasshook__', '__truediv__', '__trunc__', '__xor__', 'as_integer_ratio', 'bit_count', 'bit_length', 'conjugate', 'denominator', 'from_bytes', 'imag', 'numerator', 'real', 'to_bytes']\n"
     ]
    }
   ],
   "source": [
    "a=10\n",
    "b=50\n",
    "print(dir(a))"
   ]
  },
  {
   "cell_type": "code",
   "execution_count": 4,
   "id": "928e69ac",
   "metadata": {},
   "outputs": [
    {
     "data": {
      "text/plain": [
       "60"
      ]
     },
     "execution_count": 4,
     "metadata": {},
     "output_type": "execute_result"
    }
   ],
   "source": [
    "a + b"
   ]
  },
  {
   "cell_type": "code",
   "execution_count": 5,
   "id": "bd81956a",
   "metadata": {},
   "outputs": [
    {
     "data": {
      "text/plain": [
       "60"
      ]
     },
     "execution_count": 5,
     "metadata": {},
     "output_type": "execute_result"
    }
   ],
   "source": [
    "a.__add__(b)"
   ]
  },
  {
   "cell_type": "code",
   "execution_count": 6,
   "id": "10ca037d",
   "metadata": {},
   "outputs": [
    {
     "data": {
      "text/plain": [
       "60"
      ]
     },
     "execution_count": 6,
     "metadata": {},
     "output_type": "execute_result"
    }
   ],
   "source": [
    "int.__add__(a,b)  # with the help of class"
   ]
  },
  {
   "cell_type": "code",
   "execution_count": 9,
   "id": "069e9732",
   "metadata": {},
   "outputs": [],
   "source": [
    "s1=\"hello\"\n",
    "s2=\" world\""
   ]
  },
  {
   "cell_type": "code",
   "execution_count": 10,
   "id": "942a258e",
   "metadata": {},
   "outputs": [
    {
     "data": {
      "text/plain": [
       "'hello world'"
      ]
     },
     "execution_count": 10,
     "metadata": {},
     "output_type": "execute_result"
    }
   ],
   "source": [
    "s1+s2"
   ]
  },
  {
   "cell_type": "code",
   "execution_count": 11,
   "id": "0447d1f4",
   "metadata": {},
   "outputs": [
    {
     "name": "stdout",
     "output_type": "stream",
     "text": [
      "['__add__', '__class__', '__contains__', '__delattr__', '__dir__', '__doc__', '__eq__', '__format__', '__ge__', '__getattribute__', '__getitem__', '__getnewargs__', '__getstate__', '__gt__', '__hash__', '__init__', '__init_subclass__', '__iter__', '__le__', '__len__', '__lt__', '__mod__', '__mul__', '__ne__', '__new__', '__reduce__', '__reduce_ex__', '__repr__', '__rmod__', '__rmul__', '__setattr__', '__sizeof__', '__str__', '__subclasshook__', 'capitalize', 'casefold', 'center', 'count', 'encode', 'endswith', 'expandtabs', 'find', 'format', 'format_map', 'index', 'isalnum', 'isalpha', 'isascii', 'isdecimal', 'isdigit', 'isidentifier', 'islower', 'isnumeric', 'isprintable', 'isspace', 'istitle', 'isupper', 'join', 'ljust', 'lower', 'lstrip', 'maketrans', 'partition', 'removeprefix', 'removesuffix', 'replace', 'rfind', 'rindex', 'rjust', 'rpartition', 'rsplit', 'rstrip', 'split', 'splitlines', 'startswith', 'strip', 'swapcase', 'title', 'translate', 'upper', 'zfill']\n"
     ]
    }
   ],
   "source": [
    "print(dir(s1))"
   ]
  },
  {
   "cell_type": "code",
   "execution_count": 12,
   "id": "2fc37a44",
   "metadata": {},
   "outputs": [
    {
     "data": {
      "text/plain": [
       "'hello world'"
      ]
     },
     "execution_count": 12,
     "metadata": {},
     "output_type": "execute_result"
    }
   ],
   "source": [
    "str.__add__(s1,s2)"
   ]
  },
  {
   "cell_type": "code",
   "execution_count": 31,
   "id": "0485e62e",
   "metadata": {},
   "outputs": [],
   "source": [
    "class student:\n",
    "    def __init__(self,name,age,*marks):\n",
    "        self.name=name\n",
    "        self.age=age\n",
    "        self.marks=marks\n",
    "        \n",
    "    def __str__(self):\n",
    "        return f\"name: {self.name}, age: {self.age}, marks: {self.marks}\"\n",
    "    \n",
    "    "
   ]
  },
  {
   "cell_type": "code",
   "execution_count": 32,
   "id": "b720935c",
   "metadata": {},
   "outputs": [],
   "source": [
    "s1=student('khushi',22,35,67,89)\n",
    "s2=student('kj',27,89,67,56)"
   ]
  },
  {
   "cell_type": "code",
   "execution_count": 33,
   "id": "b2865ffb",
   "metadata": {},
   "outputs": [
    {
     "data": {
      "text/plain": [
       "'name: khushi, age: 22, marks: (35, 67, 89)'"
      ]
     },
     "execution_count": 33,
     "metadata": {},
     "output_type": "execute_result"
    }
   ],
   "source": [
    "s1.__str__()"
   ]
  },
  {
   "cell_type": "code",
   "execution_count": 34,
   "id": "aa86b2fe",
   "metadata": {},
   "outputs": [
    {
     "data": {
      "text/plain": [
       "NotImplemented"
      ]
     },
     "execution_count": 34,
     "metadata": {},
     "output_type": "execute_result"
    }
   ],
   "source": [
    "s1.__gt__(s2)"
   ]
  },
  {
   "cell_type": "code",
   "execution_count": 36,
   "id": "cf6b60dd",
   "metadata": {},
   "outputs": [],
   "source": [
    "class student:\n",
    "    def __init__(self,name,age,*marks):\n",
    "        self.name=name\n",
    "        self.age=age\n",
    "        self.marks=marks\n",
    "        \n",
    "    def __str__(self):\n",
    "        return f\"name: {self.name}, age: {self.age}, marks: {self.marks}\"\n",
    "    \n",
    "    def __gt__(self,other):\n",
    "        if self.age>other.age:\n",
    "            return True\n",
    "        else:\n",
    "            return False"
   ]
  },
  {
   "cell_type": "code",
   "execution_count": 37,
   "id": "56c48f3f",
   "metadata": {},
   "outputs": [],
   "source": [
    "s1=student('khushi',22,35,67,89)\n",
    "s2=student('kj',27,89,67,56)"
   ]
  },
  {
   "cell_type": "code",
   "execution_count": 38,
   "id": "86fd242a",
   "metadata": {},
   "outputs": [
    {
     "data": {
      "text/plain": [
       "False"
      ]
     },
     "execution_count": 38,
     "metadata": {},
     "output_type": "execute_result"
    }
   ],
   "source": [
    "s1.__gt__(s2)"
   ]
  },
  {
   "cell_type": "code",
   "execution_count": 39,
   "id": "f25f25be",
   "metadata": {},
   "outputs": [
    {
     "name": "stdout",
     "output_type": "stream",
     "text": [
      "['__class__', '__delattr__', '__dict__', '__dir__', '__doc__', '__eq__', '__format__', '__ge__', '__getattribute__', '__getstate__', '__gt__', '__hash__', '__init__', '__init_subclass__', '__le__', '__lt__', '__module__', '__ne__', '__new__', '__reduce__', '__reduce_ex__', '__repr__', '__setattr__', '__sizeof__', '__str__', '__subclasshook__', '__weakref__']\n"
     ]
    }
   ],
   "source": [
    "print(dir(student))"
   ]
  },
  {
   "cell_type": "code",
   "execution_count": 45,
   "id": "b2e012aa",
   "metadata": {},
   "outputs": [],
   "source": [
    "class student:\n",
    "    def __init__(self,f_name,l_name,age,*marks):\n",
    "        self.f_name=f_name\n",
    "        self.l_name=l_name\n",
    "        self.age=age\n",
    "        self.marks=marks\n",
    "        \n",
    "    def __str__(self):\n",
    "        return f\"f_name: {self.f_name},l_name:{self.l_name} age: {self.age}, marks: {self.marks}\"\n",
    "    \n",
    "    def __add__(self,other):\n",
    "        print(self.f_name + other.l_name)"
   ]
  },
  {
   "cell_type": "code",
   "execution_count": 48,
   "id": "b39f3160",
   "metadata": {},
   "outputs": [],
   "source": [
    "s1=student('khushi','jangid',22,35,67,89)\n",
    "s2=student('kj',' kk',27,89,67,56)"
   ]
  },
  {
   "cell_type": "code",
   "execution_count": 49,
   "id": "e5e12e4f",
   "metadata": {},
   "outputs": [
    {
     "name": "stdout",
     "output_type": "stream",
     "text": [
      "khushi kk\n"
     ]
    }
   ],
   "source": [
    "s1.__add__(s2)"
   ]
  },
  {
   "cell_type": "code",
   "execution_count": null,
   "id": "3874cb5c",
   "metadata": {},
   "outputs": [],
   "source": []
  },
  {
   "cell_type": "markdown",
   "id": "34ff7e99",
   "metadata": {},
   "source": [
    "# __slots__"
   ]
  },
  {
   "cell_type": "code",
   "execution_count": 50,
   "id": "402e3346",
   "metadata": {},
   "outputs": [],
   "source": [
    "class student:\n",
    "    def __init__(self,name,age,*marks):\n",
    "        self.name=name\n",
    "        self.age=age\n",
    "        self.marks=marks\n",
    "        \n",
    "    def __str__(self):\n",
    "        return f\"name: {self.name}, age: {self.age}, marks: {self.marks}\"\n",
    "    \n",
    "    def __gt__(self,other):\n",
    "        if self.age>other.age:\n",
    "            return True\n",
    "        else:\n",
    "            return False"
   ]
  },
  {
   "cell_type": "code",
   "execution_count": 51,
   "id": "78ef5800",
   "metadata": {},
   "outputs": [],
   "source": [
    "s1=student('khushi',22,35,67,89)\n",
    "s2=student('kj',27,89,67,56)"
   ]
  },
  {
   "cell_type": "code",
   "execution_count": 53,
   "id": "94ad13d1",
   "metadata": {},
   "outputs": [
    {
     "data": {
      "text/plain": [
       "{'name': 'khushi', 'age': 22, 'marks': (35, 67, 89)}"
      ]
     },
     "execution_count": 53,
     "metadata": {},
     "output_type": "execute_result"
    }
   ],
   "source": [
    "s1.__dict__"
   ]
  },
  {
   "cell_type": "code",
   "execution_count": 54,
   "id": "4f53aa17",
   "metadata": {},
   "outputs": [],
   "source": [
    "ls=[11,12,13,14]"
   ]
  },
  {
   "cell_type": "code",
   "execution_count": 55,
   "id": "1f09946c",
   "metadata": {},
   "outputs": [],
   "source": [
    "for i in range(len(ls)):\n",
    "    s1.__dict__[i]=ls[i]"
   ]
  },
  {
   "cell_type": "code",
   "execution_count": 56,
   "id": "71ca0d1a",
   "metadata": {},
   "outputs": [
    {
     "data": {
      "text/plain": [
       "{'name': 'khushi',\n",
       " 'age': 22,\n",
       " 'marks': (35, 67, 89),\n",
       " 0: 11,\n",
       " 1: 12,\n",
       " 2: 13,\n",
       " 3: 14}"
      ]
     },
     "execution_count": 56,
     "metadata": {},
     "output_type": "execute_result"
    }
   ],
   "source": [
    "s1.__dict__"
   ]
  },
  {
   "cell_type": "code",
   "execution_count": 57,
   "id": "3b50c773",
   "metadata": {},
   "outputs": [],
   "source": [
    "class student:\n",
    "    \n",
    "    __slots__=['name','age','marks']\n",
    "    \n",
    "    def __init__(self,name,age,*marks):\n",
    "        self.name=name\n",
    "        self.age=age\n",
    "        self.marks=marks\n",
    "        \n",
    "    def __str__(self):\n",
    "        return f\"name: {self.name}, age: {self.age}, marks: {self.marks}\"\n",
    "    \n",
    "    def __gt__(self,other):\n",
    "        if self.age>other.age:\n",
    "            return True\n",
    "        else:\n",
    "            return False"
   ]
  },
  {
   "cell_type": "code",
   "execution_count": 58,
   "id": "d2ec65ee",
   "metadata": {},
   "outputs": [],
   "source": [
    "s1=student('khushi',22,35,67,89)\n",
    "s2=student('kj',27,89,67,56)"
   ]
  },
  {
   "cell_type": "code",
   "execution_count": 59,
   "id": "c23ef4f0",
   "metadata": {},
   "outputs": [
    {
     "data": {
      "text/plain": [
       "['name', 'age', 'marks']"
      ]
     },
     "execution_count": 59,
     "metadata": {},
     "output_type": "execute_result"
    }
   ],
   "source": [
    "s1.__slots__   # memory is not weast"
   ]
  },
  {
   "cell_type": "code",
   "execution_count": 60,
   "id": "78a73c66",
   "metadata": {},
   "outputs": [
    {
     "ename": "AttributeError",
     "evalue": "'student' object has no attribute 'new'",
     "output_type": "error",
     "traceback": [
      "\u001b[1;31m---------------------------------------------------------------------------\u001b[0m",
      "\u001b[1;31mAttributeError\u001b[0m                            Traceback (most recent call last)",
      "Cell \u001b[1;32mIn[60], line 1\u001b[0m\n\u001b[1;32m----> 1\u001b[0m s1\u001b[38;5;241m.\u001b[39mnew\u001b[38;5;241m=\u001b[39m\u001b[38;5;241m10\u001b[39m\n",
      "\u001b[1;31mAttributeError\u001b[0m: 'student' object has no attribute 'new'"
     ]
    }
   ],
   "source": [
    "s1.new=10"
   ]
  },
  {
   "cell_type": "code",
   "execution_count": 62,
   "id": "8863a2de",
   "metadata": {},
   "outputs": [],
   "source": [
    "class student:\n",
    "    \n",
    "    __slots__=['name','age','marks','__dict__']\n",
    "    \n",
    "    def __init__(self,name,age,*marks):\n",
    "        self.name=name\n",
    "        self.age=age\n",
    "        self.marks=marks\n",
    "        \n",
    "    def __str__(self):\n",
    "        return f\"name: {self.name}, age: {self.age}, marks: {self.marks}\"\n",
    "    \n",
    "    def __gt__(self,other):\n",
    "        if self.age>other.age:\n",
    "            return True\n",
    "        else:\n",
    "            return False"
   ]
  },
  {
   "cell_type": "code",
   "execution_count": 63,
   "id": "361305fe",
   "metadata": {},
   "outputs": [],
   "source": [
    "s1=student('khushi',22,35,67,89)\n",
    "s2=student('kj',27,89,67,56)"
   ]
  },
  {
   "cell_type": "code",
   "execution_count": 64,
   "id": "3c0d1f99",
   "metadata": {},
   "outputs": [
    {
     "data": {
      "text/plain": [
       "{}"
      ]
     },
     "execution_count": 64,
     "metadata": {},
     "output_type": "execute_result"
    }
   ],
   "source": [
    "s1.__dict__"
   ]
  },
  {
   "cell_type": "code",
   "execution_count": 65,
   "id": "58480801",
   "metadata": {},
   "outputs": [],
   "source": [
    "s1.new=90"
   ]
  },
  {
   "cell_type": "code",
   "execution_count": 66,
   "id": "d3b36b42",
   "metadata": {},
   "outputs": [
    {
     "data": {
      "text/plain": [
       "{'new': 90}"
      ]
     },
     "execution_count": 66,
     "metadata": {},
     "output_type": "execute_result"
    }
   ],
   "source": [
    "s1.__dict__"
   ]
  },
  {
   "cell_type": "code",
   "execution_count": 67,
   "id": "485928e7",
   "metadata": {},
   "outputs": [
    {
     "data": {
      "text/plain": [
       "['name', 'age', 'marks', '__dict__']"
      ]
     },
     "execution_count": 67,
     "metadata": {},
     "output_type": "execute_result"
    }
   ],
   "source": [
    "s1.__slots__"
   ]
  },
  {
   "cell_type": "code",
   "execution_count": 14,
   "id": "1989d498",
   "metadata": {},
   "outputs": [],
   "source": [
    "class student:\n",
    "    __slots__=['name','age','address']\n",
    "    def __init__(self,name,age,address):\n",
    "        self.name=name\n",
    "        self.age=age\n",
    "        self.address=address\n",
    "        \n",
    "class Fees(student):\n",
    "    __slots__=['fees']\n",
    "    def __init(self,name,age,address,fees):\n",
    "        super().__init__(name,age,address)\n",
    "        self.fees=fees\n",
    "    \n",
    "    @staticmethod\n",
    "    def show():\n",
    "        pass"
   ]
  },
  {
   "cell_type": "code",
   "execution_count": 21,
   "id": "3a76c900",
   "metadata": {},
   "outputs": [
    {
     "ename": "TypeError",
     "evalue": "student.__init__() takes 4 positional arguments but 5 were given",
     "output_type": "error",
     "traceback": [
      "\u001b[1;31m---------------------------------------------------------------------------\u001b[0m",
      "\u001b[1;31mTypeError\u001b[0m                                 Traceback (most recent call last)",
      "Cell \u001b[1;32mIn[21], line 1\u001b[0m\n\u001b[1;32m----> 1\u001b[0m obj\u001b[38;5;241m=\u001b[39mFees(\u001b[38;5;124m'\u001b[39m\u001b[38;5;124mkhushi\u001b[39m\u001b[38;5;124m'\u001b[39m,\u001b[38;5;241m45\u001b[39m,\u001b[38;5;124m'\u001b[39m\u001b[38;5;124malwar\u001b[39m\u001b[38;5;124m'\u001b[39m,\u001b[38;5;241m90777\u001b[39m)\n",
      "\u001b[1;31mTypeError\u001b[0m: student.__init__() takes 4 positional arguments but 5 were given"
     ]
    }
   ],
   "source": [
    "obj=Fees('khushi',45,'alwar',90777)"
   ]
  },
  {
   "cell_type": "code",
   "execution_count": 16,
   "id": "54e18b30",
   "metadata": {},
   "outputs": [],
   "source": [
    "obj.age=30"
   ]
  },
  {
   "cell_type": "markdown",
   "id": "fe470473",
   "metadata": {},
   "source": [
    "## 2. method overriding"
   ]
  },
  {
   "cell_type": "code",
   "execution_count": 23,
   "id": "be714ec4",
   "metadata": {},
   "outputs": [],
   "source": [
    "class A:\n",
    "    \n",
    "    def show(self):\n",
    "        print(\"this is a show method in class A\")\n",
    "        \n",
    "class B(A):\n",
    "    \n",
    "    def show(self):\n",
    "        print(\"this is a show method in class B\")        "
   ]
  },
  {
   "cell_type": "code",
   "execution_count": 24,
   "id": "64077c53",
   "metadata": {},
   "outputs": [],
   "source": [
    "b1=B()"
   ]
  },
  {
   "cell_type": "code",
   "execution_count": 25,
   "id": "8e7cc0f6",
   "metadata": {},
   "outputs": [
    {
     "name": "stdout",
     "output_type": "stream",
     "text": [
      "this is a show method in class B\n"
     ]
    }
   ],
   "source": [
    "b1.show()"
   ]
  },
  {
   "cell_type": "code",
   "execution_count": 30,
   "id": "d2d0493a",
   "metadata": {},
   "outputs": [],
   "source": [
    "class Father:\n",
    "    \n",
    "    def __init__(self,fname,lname,fage):\n",
    "        self.fname=fname\n",
    "        self.lname=lname\n",
    "        self.fage=fage\n",
    "        \n",
    "    def show_detail(self):\n",
    "        for key,value in self.__dict__.items():\n",
    "            print(key,'-->',value)\n",
    "    \n",
    "class child(Father):\n",
    "    \n",
    "    def __init__(self,cname,cage):\n",
    "        super().__init__(fname,lname,fage)\n",
    "        self.cname=cname\n",
    "        self.cage=cage\n",
    "        \n",
    "    def show_details(self):\n",
    "        for key,value in self.__dict__.items():\n",
    "            print(key,'-->',value)\n",
    "    "
   ]
  },
  {
   "cell_type": "code",
   "execution_count": 31,
   "id": "d4b09876",
   "metadata": {},
   "outputs": [
    {
     "ename": "TypeError",
     "evalue": "child.__init__() takes 3 positional arguments but 6 were given",
     "output_type": "error",
     "traceback": [
      "\u001b[1;31m---------------------------------------------------------------------------\u001b[0m",
      "\u001b[1;31mTypeError\u001b[0m                                 Traceback (most recent call last)",
      "Cell \u001b[1;32mIn[31], line 1\u001b[0m\n\u001b[1;32m----> 1\u001b[0m c1\u001b[38;5;241m=\u001b[39mchild(\u001b[38;5;124m'\u001b[39m\u001b[38;5;124mram\u001b[39m\u001b[38;5;124m'\u001b[39m,\u001b[38;5;124m'\u001b[39m\u001b[38;5;124msharma\u001b[39m\u001b[38;5;124m'\u001b[39m,\u001b[38;5;241m56\u001b[39m,\u001b[38;5;124m'\u001b[39m\u001b[38;5;124maman\u001b[39m\u001b[38;5;124m'\u001b[39m,\u001b[38;5;241m18\u001b[39m)\n",
      "\u001b[1;31mTypeError\u001b[0m: child.__init__() takes 3 positional arguments but 6 were given"
     ]
    }
   ],
   "source": [
    "c1=child('ram','sharma',56,'aman',18)"
   ]
  },
  {
   "cell_type": "code",
   "execution_count": null,
   "id": "6a123d90",
   "metadata": {},
   "outputs": [],
   "source": []
  },
  {
   "cell_type": "code",
   "execution_count": 26,
   "id": "53e635e2",
   "metadata": {},
   "outputs": [],
   "source": [
    "d={'name':'ram','age':90}"
   ]
  },
  {
   "cell_type": "code",
   "execution_count": 27,
   "id": "755b82d8",
   "metadata": {},
   "outputs": [
    {
     "data": {
      "text/plain": [
       "dict_items([('name', 'ram'), ('age', 90)])"
      ]
     },
     "execution_count": 27,
     "metadata": {},
     "output_type": "execute_result"
    }
   ],
   "source": [
    "d.items()"
   ]
  },
  {
   "cell_type": "markdown",
   "id": "05f90b35",
   "metadata": {},
   "source": [
    "# Access Specifiers\n",
    "\n",
    "                                   1. public\n",
    "                                   \n",
    "                                   2. protected\n",
    "                                   \n",
    "                                   3. private"
   ]
  },
  {
   "cell_type": "code",
   "execution_count": 11,
   "id": "ac7019be",
   "metadata": {},
   "outputs": [],
   "source": [
    "class Specifier:\n",
    "    pub='public attribute'\n",
    "    _pro='protected attribute'\n",
    "    __pri='private attribute'\n",
    "    \n",
    "    def show_attribute(self):\n",
    "        print(f'public:{self.pub}')\n",
    "        print(f'protected:{self._pro}')\n",
    "        print(f'private:{self.__pri}')\n",
    "        \n",
    "    def change_attribute(self):\n",
    "        self.pub=input(\"enter new public value\")\n",
    "        self._pro=input(\"enter new protected value\")\n",
    "        self.__pri=input(\"enter new private value\")\n",
    "        "
   ]
  },
  {
   "cell_type": "code",
   "execution_count": 12,
   "id": "c80d6260",
   "metadata": {},
   "outputs": [],
   "source": [
    "s1=Specifier()"
   ]
  },
  {
   "cell_type": "code",
   "execution_count": 6,
   "id": "577f38d1",
   "metadata": {},
   "outputs": [
    {
     "data": {
      "text/plain": [
       "'public attribute'"
      ]
     },
     "execution_count": 6,
     "metadata": {},
     "output_type": "execute_result"
    }
   ],
   "source": [
    "s1.pub"
   ]
  },
  {
   "cell_type": "code",
   "execution_count": 7,
   "id": "8ace6faf",
   "metadata": {},
   "outputs": [
    {
     "data": {
      "text/plain": [
       "'protected attribute'"
      ]
     },
     "execution_count": 7,
     "metadata": {},
     "output_type": "execute_result"
    }
   ],
   "source": [
    "s1._pro"
   ]
  },
  {
   "cell_type": "code",
   "execution_count": 8,
   "id": "b4c0a59c",
   "metadata": {},
   "outputs": [
    {
     "ename": "AttributeError",
     "evalue": "'Specifier' object has no attribute '__pri'",
     "output_type": "error",
     "traceback": [
      "\u001b[1;31m---------------------------------------------------------------------------\u001b[0m",
      "\u001b[1;31mAttributeError\u001b[0m                            Traceback (most recent call last)",
      "Cell \u001b[1;32mIn[8], line 1\u001b[0m\n\u001b[1;32m----> 1\u001b[0m s1\u001b[38;5;241m.\u001b[39m__pri\n",
      "\u001b[1;31mAttributeError\u001b[0m: 'Specifier' object has no attribute '__pri'"
     ]
    }
   ],
   "source": [
    "s1.__pri"
   ]
  },
  {
   "cell_type": "code",
   "execution_count": 10,
   "id": "c183a12f",
   "metadata": {},
   "outputs": [
    {
     "name": "stdout",
     "output_type": "stream",
     "text": [
      "public:public attribute\n",
      "protected:protected attribute\n",
      "private:private attribute\n"
     ]
    }
   ],
   "source": [
    "s1.show_attribute()"
   ]
  },
  {
   "cell_type": "code",
   "execution_count": 13,
   "id": "8440d391",
   "metadata": {},
   "outputs": [
    {
     "name": "stdout",
     "output_type": "stream",
     "text": [
      "enter new public valuepublic\n",
      "enter new protected valueprotected\n",
      "enter new private valueprivate\n"
     ]
    }
   ],
   "source": [
    "s1.change_attribute()"
   ]
  },
  {
   "cell_type": "code",
   "execution_count": 14,
   "id": "f1b679e1",
   "metadata": {},
   "outputs": [
    {
     "name": "stdout",
     "output_type": "stream",
     "text": [
      "public:public\n",
      "protected:protected\n",
      "private:private\n"
     ]
    }
   ],
   "source": [
    "s1.show_attribute()"
   ]
  },
  {
   "cell_type": "code",
   "execution_count": 15,
   "id": "494a030b",
   "metadata": {},
   "outputs": [
    {
     "data": {
      "text/plain": [
       "'public attribute'"
      ]
     },
     "execution_count": 15,
     "metadata": {},
     "output_type": "execute_result"
    }
   ],
   "source": [
    "Specifier.pub"
   ]
  },
  {
   "cell_type": "code",
   "execution_count": 16,
   "id": "7e64c3c3",
   "metadata": {},
   "outputs": [
    {
     "ename": "AttributeError",
     "evalue": "type object 'Specifier' has no attribute '__pri'",
     "output_type": "error",
     "traceback": [
      "\u001b[1;31m---------------------------------------------------------------------------\u001b[0m",
      "\u001b[1;31mAttributeError\u001b[0m                            Traceback (most recent call last)",
      "Cell \u001b[1;32mIn[16], line 1\u001b[0m\n\u001b[1;32m----> 1\u001b[0m Specifier\u001b[38;5;241m.\u001b[39m__pri\n",
      "\u001b[1;31mAttributeError\u001b[0m: type object 'Specifier' has no attribute '__pri'"
     ]
    }
   ],
   "source": [
    "Specifier.__pri"
   ]
  },
  {
   "cell_type": "markdown",
   "id": "23283f98",
   "metadata": {},
   "source": [
    "        name mangling:\n",
    "                        \n",
    "                        _classname__privatename"
   ]
  },
  {
   "cell_type": "code",
   "execution_count": 18,
   "id": "54189b24",
   "metadata": {},
   "outputs": [
    {
     "data": {
      "text/plain": [
       "mappingproxy({'__module__': '__main__',\n",
       "              'pub': 'public attribute',\n",
       "              '_pro': 'protected attribute',\n",
       "              '_Specifier__pri': 'private attribute',\n",
       "              'show_attribute': <function __main__.Specifier.show_attribute(self)>,\n",
       "              'change_attribute': <function __main__.Specifier.change_attribute(self)>,\n",
       "              '__dict__': <attribute '__dict__' of 'Specifier' objects>,\n",
       "              '__weakref__': <attribute '__weakref__' of 'Specifier' objects>,\n",
       "              '__doc__': None})"
      ]
     },
     "execution_count": 18,
     "metadata": {},
     "output_type": "execute_result"
    }
   ],
   "source": [
    "Specifier.__dict__"
   ]
  },
  {
   "cell_type": "code",
   "execution_count": 20,
   "id": "8c506510",
   "metadata": {},
   "outputs": [
    {
     "data": {
      "text/plain": [
       "'private attribute'"
      ]
     },
     "execution_count": 20,
     "metadata": {},
     "output_type": "execute_result"
    }
   ],
   "source": [
    "Specifier._Specifier__pri"
   ]
  },
  {
   "cell_type": "code",
   "execution_count": null,
   "id": "e33fa514",
   "metadata": {},
   "outputs": [],
   "source": []
  }
 ],
 "metadata": {
  "kernelspec": {
   "display_name": "Python 3 (ipykernel)",
   "language": "python",
   "name": "python3"
  },
  "language_info": {
   "codemirror_mode": {
    "name": "ipython",
    "version": 3
   },
   "file_extension": ".py",
   "mimetype": "text/x-python",
   "name": "python",
   "nbconvert_exporter": "python",
   "pygments_lexer": "ipython3",
   "version": "3.11.5"
  }
 },
 "nbformat": 4,
 "nbformat_minor": 5
}
