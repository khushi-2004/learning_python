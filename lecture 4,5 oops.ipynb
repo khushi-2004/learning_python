{
 "cells": [
  {
   "cell_type": "markdown",
   "id": "2c82c90a",
   "metadata": {},
   "source": [
    "## types of method\n",
    "\n",
    "            there are three type of method:\n",
    "                    1. instance method\n",
    "                    2. class method\n",
    "                    3. static method"
   ]
  },
  {
   "cell_type": "code",
   "execution_count": 13,
   "id": "c979f29c",
   "metadata": {},
   "outputs": [],
   "source": [
    "class student:\n",
    "    \n",
    "    def __init__(self,*marks):\n",
    "        self.marks=marks    # instance variable\n",
    "        print(len(self.marks))\n",
    "        \n",
    "    def avg(self):    # instance method  --> depand on instance variable\n",
    "        return sum(self.marks)/len(self.marks)"
   ]
  },
  {
   "cell_type": "code",
   "execution_count": 14,
   "id": "7a9100fc",
   "metadata": {},
   "outputs": [
    {
     "name": "stdout",
     "output_type": "stream",
     "text": [
      "4\n"
     ]
    }
   ],
   "source": [
    "s1=student(23,45,67,89)"
   ]
  },
  {
   "cell_type": "code",
   "execution_count": 15,
   "id": "7ba89665",
   "metadata": {},
   "outputs": [
    {
     "data": {
      "text/plain": [
       "56.0"
      ]
     },
     "execution_count": 15,
     "metadata": {},
     "output_type": "execute_result"
    }
   ],
   "source": [
    "s1.avg()"
   ]
  },
  {
   "cell_type": "markdown",
   "id": "6a074bb0",
   "metadata": {},
   "source": [
    "### type of instance method:\n",
    "\n",
    "            there are two type:\n",
    "                    1.accessor(getter)\n",
    "                    \n",
    "                    2. mmutator(setters)"
   ]
  },
  {
   "cell_type": "code",
   "execution_count": 22,
   "id": "f4a59924",
   "metadata": {},
   "outputs": [],
   "source": [
    "class student:\n",
    "    \n",
    "    def __init__(self,*marks):\n",
    "        self.marks=marks    # instance variable\n",
    "#         print(len(self.marks))\n",
    "        \n",
    "    def avg(self):    # instance method(getters)  --> depand on instance variable\n",
    "        return sum(self.marks)/len(self.marks)\n",
    "    \n",
    "    def get_marks(self):   # getter method\n",
    "        return self.marks\n",
    "    \n",
    "    def set_marks(self,new_marks):\n",
    "        self.marks=new_marks\n",
    "        "
   ]
  },
  {
   "cell_type": "code",
   "execution_count": 23,
   "id": "c2570c93",
   "metadata": {},
   "outputs": [],
   "source": [
    "s2=student(34,56,78,90)"
   ]
  },
  {
   "cell_type": "code",
   "execution_count": 21,
   "id": "48699212",
   "metadata": {},
   "outputs": [
    {
     "data": {
      "text/plain": [
       "(34, 56, 78, 90)"
      ]
     },
     "execution_count": 21,
     "metadata": {},
     "output_type": "execute_result"
    }
   ],
   "source": [
    "s2.get_marks()"
   ]
  },
  {
   "cell_type": "code",
   "execution_count": 24,
   "id": "d65792e8",
   "metadata": {},
   "outputs": [],
   "source": [
    "s2.set_marks(56)"
   ]
  },
  {
   "cell_type": "code",
   "execution_count": 25,
   "id": "d1dbcc35",
   "metadata": {},
   "outputs": [
    {
     "data": {
      "text/plain": [
       "56"
      ]
     },
     "execution_count": 25,
     "metadata": {},
     "output_type": "execute_result"
    }
   ],
   "source": [
    "s2.get_marks()"
   ]
  },
  {
   "cell_type": "markdown",
   "id": "21d46cf4",
   "metadata": {},
   "source": [
    "## class method"
   ]
  },
  {
   "cell_type": "code",
   "execution_count": 32,
   "id": "a3547a97",
   "metadata": {},
   "outputs": [],
   "source": [
    "class student:\n",
    "    \n",
    "    school='hello world'      # class variable\n",
    "    \n",
    "    def __init__(self,m1,m2,m3):\n",
    "        self.m1=m1         # instance variable\n",
    "        self.m2=m2        \n",
    "        self.m3=m3\n",
    "    \n",
    "    def avg(self):\n",
    "        return (self.m1+self.m2+self.m3)/3\n",
    "    \n",
    "    def change_school(self):\n",
    "        self.school='git'"
   ]
  },
  {
   "cell_type": "code",
   "execution_count": 33,
   "id": "4134e98d",
   "metadata": {},
   "outputs": [],
   "source": [
    "s1=student(34,67,90)\n",
    "s2=student(56,78,89)"
   ]
  },
  {
   "cell_type": "code",
   "execution_count": 28,
   "id": "89ee049d",
   "metadata": {},
   "outputs": [
    {
     "data": {
      "text/plain": [
       "{'m1': 34, 'm2': 67, 'm3': 90}"
      ]
     },
     "execution_count": 28,
     "metadata": {},
     "output_type": "execute_result"
    }
   ],
   "source": [
    "s1.__dict__"
   ]
  },
  {
   "cell_type": "code",
   "execution_count": 29,
   "id": "59e02cbe",
   "metadata": {},
   "outputs": [
    {
     "data": {
      "text/plain": [
       "'hello world'"
      ]
     },
     "execution_count": 29,
     "metadata": {},
     "output_type": "execute_result"
    }
   ],
   "source": [
    "s1.school"
   ]
  },
  {
   "cell_type": "code",
   "execution_count": 30,
   "id": "25c85921",
   "metadata": {},
   "outputs": [
    {
     "data": {
      "text/plain": [
       "'hello world'"
      ]
     },
     "execution_count": 30,
     "metadata": {},
     "output_type": "execute_result"
    }
   ],
   "source": [
    "s2.school"
   ]
  },
  {
   "cell_type": "code",
   "execution_count": 31,
   "id": "a940e47a",
   "metadata": {},
   "outputs": [
    {
     "data": {
      "text/plain": [
       "'hello world'"
      ]
     },
     "execution_count": 31,
     "metadata": {},
     "output_type": "execute_result"
    }
   ],
   "source": [
    "student.school"
   ]
  },
  {
   "cell_type": "code",
   "execution_count": 34,
   "id": "f59390a4",
   "metadata": {},
   "outputs": [],
   "source": [
    "s1.change_school()"
   ]
  },
  {
   "cell_type": "code",
   "execution_count": 36,
   "id": "e44a0a6e",
   "metadata": {},
   "outputs": [
    {
     "data": {
      "text/plain": [
       "'git'"
      ]
     },
     "execution_count": 36,
     "metadata": {},
     "output_type": "execute_result"
    }
   ],
   "source": [
    "s1.school"
   ]
  },
  {
   "cell_type": "code",
   "execution_count": 37,
   "id": "1b6cadf4",
   "metadata": {},
   "outputs": [
    {
     "data": {
      "text/plain": [
       "'hello world'"
      ]
     },
     "execution_count": 37,
     "metadata": {},
     "output_type": "execute_result"
    }
   ],
   "source": [
    "student.school"
   ]
  },
  {
   "cell_type": "code",
   "execution_count": 41,
   "id": "f5994977",
   "metadata": {},
   "outputs": [],
   "source": [
    "class student:\n",
    "    \n",
    "    school='hello world'      # class variable\n",
    "    \n",
    "    def __init__(self,m1,m2,m3):\n",
    "        self.m1=m1         # instance variable\n",
    "        self.m2=m2        \n",
    "        self.m3=m3\n",
    "    \n",
    "    def avg(self):\n",
    "        return (self.m1+self.m2+self.m3)/3\n",
    "    \n",
    "    @classmethod\n",
    "    def change_school(cls):\n",
    "        cls.school='git'"
   ]
  },
  {
   "cell_type": "code",
   "execution_count": 42,
   "id": "cf3e62b1",
   "metadata": {},
   "outputs": [],
   "source": [
    "s1=student(34,67,90)\n",
    "s2=student(56,78,89)"
   ]
  },
  {
   "cell_type": "code",
   "execution_count": 43,
   "id": "1a331457",
   "metadata": {},
   "outputs": [],
   "source": [
    "student.change_school()"
   ]
  },
  {
   "cell_type": "code",
   "execution_count": 44,
   "id": "4fd0bd4c",
   "metadata": {},
   "outputs": [
    {
     "data": {
      "text/plain": [
       "'git'"
      ]
     },
     "execution_count": 44,
     "metadata": {},
     "output_type": "execute_result"
    }
   ],
   "source": [
    "student.school"
   ]
  },
  {
   "cell_type": "markdown",
   "id": "4ad2cfb9",
   "metadata": {},
   "source": [
    "## static method "
   ]
  },
  {
   "cell_type": "code",
   "execution_count": 50,
   "id": "e0c713f0",
   "metadata": {},
   "outputs": [],
   "source": [
    "class student:\n",
    "    \n",
    "    school='hello world'      # class variable\n",
    "    \n",
    "    def __init__(self,m1,m2,m3):\n",
    "        self.m1=m1         # instance variable\n",
    "        self.m2=m2        \n",
    "        self.m3=m3\n",
    "    \n",
    "    def avg(self):\n",
    "        return (self.m1+self.m2+self.m3)/3\n",
    "    \n",
    "    @classmethod\n",
    "    def change_school(cls):\n",
    "        cls.school='git'\n",
    "    \n",
    "    @staticmethod\n",
    "    def show():           # static method\n",
    "        print('hello khushi')"
   ]
  },
  {
   "cell_type": "code",
   "execution_count": 51,
   "id": "28b886ca",
   "metadata": {},
   "outputs": [],
   "source": [
    "s1=student(34,67,90)\n",
    "s2=student(56,78,89)"
   ]
  },
  {
   "cell_type": "code",
   "execution_count": 52,
   "id": "6b4e8809",
   "metadata": {},
   "outputs": [
    {
     "name": "stdout",
     "output_type": "stream",
     "text": [
      "hello khushi\n"
     ]
    }
   ],
   "source": [
    "s1.show()"
   ]
  },
  {
   "cell_type": "code",
   "execution_count": 1,
   "id": "7712effb",
   "metadata": {},
   "outputs": [],
   "source": [
    "class person:\n",
    "    \n",
    "    def __init__(self,f_name,l_name,phone,*email,):\n",
    "        self.f_name=f_name\n",
    "        self.l_name=l_name\n",
    "        self.email=email\n",
    "        self.phone=phone\n",
    "        \n",
    "#     def per_detail(self):\n",
    "#         return self.f_name,self.l_name,self.phone,self.email\n",
    "    \n",
    "    def __str__(self):\n",
    "        return f\"{self.f_name},{self.l_name} --- phone number:{self.phone} --- email address(es):{self.email}\""
   ]
  },
  {
   "cell_type": "code",
   "execution_count": 2,
   "id": "fadb4729",
   "metadata": {},
   "outputs": [],
   "source": [
    "Emily=person('khushi','jangid','48706049','khushi@gmail.com')\n",
    "wesley=person('kukku','sharma','9840095','kukku@gmail.com')"
   ]
  },
  {
   "cell_type": "code",
   "execution_count": 3,
   "id": "c19565d8",
   "metadata": {},
   "outputs": [
    {
     "name": "stdout",
     "output_type": "stream",
     "text": [
      "khushi,jangid --- phone number:48706049 --- email address(es):('khushi@gmail.com',)\n"
     ]
    }
   ],
   "source": [
    "print(Emily)"
   ]
  },
  {
   "cell_type": "code",
   "execution_count": 4,
   "id": "def4f477",
   "metadata": {},
   "outputs": [
    {
     "data": {
      "text/plain": [
       "<__main__.person at 0x1ff7871fd90>"
      ]
     },
     "execution_count": 4,
     "metadata": {},
     "output_type": "execute_result"
    }
   ],
   "source": [
    "Emily"
   ]
  },
  {
   "cell_type": "code",
   "execution_count": 5,
   "id": "9a00330d",
   "metadata": {},
   "outputs": [],
   "source": [
    "class person:\n",
    "    \n",
    "    def __init__(self,f_name,l_name,phone,*email,):\n",
    "        self.f_name=f_name\n",
    "        self.l_name=l_name\n",
    "        self.email=email\n",
    "        self.phone=phone\n",
    "        \n",
    "#     def per_detail(self):\n",
    "#         return self.f_name,self.l_name,self.phone,self.email\n",
    "    \n",
    "    def __repr__(self):\n",
    "        return f\"{self.f_name},{self.l_name} --- phone number:{self.phone} --- email address(es):{self.email}\""
   ]
  },
  {
   "cell_type": "code",
   "execution_count": 7,
   "id": "228c0766",
   "metadata": {},
   "outputs": [],
   "source": [
    "Emily=person('khushi','jangid','48706049','khushi@gmail.com')"
   ]
  },
  {
   "cell_type": "code",
   "execution_count": 8,
   "id": "b6082832",
   "metadata": {},
   "outputs": [
    {
     "data": {
      "text/plain": [
       "khushi,jangid --- phone number:48706049 --- email address(es):('khushi@gmail.com',)"
      ]
     },
     "execution_count": 8,
     "metadata": {},
     "output_type": "execute_result"
    }
   ],
   "source": [
    "Emily"
   ]
  },
  {
   "cell_type": "code",
   "execution_count": null,
   "id": "3b4340fa",
   "metadata": {},
   "outputs": [],
   "source": []
  }
 ],
 "metadata": {
  "kernelspec": {
   "display_name": "Python 3 (ipykernel)",
   "language": "python",
   "name": "python3"
  },
  "language_info": {
   "codemirror_mode": {
    "name": "ipython",
    "version": 3
   },
   "file_extension": ".py",
   "mimetype": "text/x-python",
   "name": "python",
   "nbconvert_exporter": "python",
   "pygments_lexer": "ipython3",
   "version": "3.11.5"
  }
 },
 "nbformat": 4,
 "nbformat_minor": 5
}
