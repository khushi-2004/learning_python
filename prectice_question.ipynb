{
 "cells": [
  {
   "cell_type": "code",
   "execution_count": 11,
   "id": "50e0e1a5",
   "metadata": {},
   "outputs": [],
   "source": [
    "def fizzBuzz(n):\n",
    "    for i in range(1,n+1):\n",
    "        if (i%3==0 and i%5==0):\n",
    "            print(\"FizzBuzz\")\n",
    "        elif(i%3==0 and i%5!=0):\n",
    "            print(\"Fizz\")\n",
    "        elif(i%3!=0 and i%5==0):\n",
    "            print(\"Buzz\")\n",
    "        else:\n",
    "            print(i)\n",
    "    return"
   ]
  },
  {
   "cell_type": "code",
   "execution_count": 12,
   "id": "3e7739c0",
   "metadata": {},
   "outputs": [
    {
     "name": "stdout",
     "output_type": "stream",
     "text": [
      "1\n",
      "2\n",
      "Fizz\n",
      "4\n",
      "Buzz\n",
      "Fizz\n",
      "7\n",
      "8\n",
      "Fizz\n",
      "Buzz\n",
      "11\n",
      "Fizz\n",
      "13\n",
      "14\n",
      "FizzBuzz\n"
     ]
    }
   ],
   "source": [
    "fizzBuzz(15)"
   ]
  },
  {
   "cell_type": "code",
   "execution_count": 25,
   "id": "b3964ec8",
   "metadata": {},
   "outputs": [],
   "source": [
    "import math\n",
    "\n",
    "class Rectangle:\n",
    "    def __init__(self,length1,length2):\n",
    "        self.length1=length1\n",
    "        self.length2=length2\n",
    "        \n",
    "    def Area(self):\n",
    "        return (self.length1*self.length2)\n",
    "\n",
    "class Circle:\n",
    "    def __init__(self,redius):\n",
    "        self.redius=redius\n",
    "    \n",
    "    def Area(self):\n",
    "        return (math.pi*(self.redius)**2)"
   ]
  },
  {
   "cell_type": "code",
   "execution_count": 21,
   "id": "7387e459",
   "metadata": {},
   "outputs": [],
   "source": [
    "R1=Rectangle(3,4)"
   ]
  },
  {
   "cell_type": "code",
   "execution_count": 22,
   "id": "a1495544",
   "metadata": {},
   "outputs": [
    {
     "data": {
      "text/plain": [
       "12"
      ]
     },
     "execution_count": 22,
     "metadata": {},
     "output_type": "execute_result"
    }
   ],
   "source": [
    "R1.Area()"
   ]
  },
  {
   "cell_type": "code",
   "execution_count": 19,
   "id": "82e68a38",
   "metadata": {},
   "outputs": [
    {
     "name": "stdout",
     "output_type": "stream",
     "text": [
      "3.141592653589793\n"
     ]
    }
   ],
   "source": [
    "import math \n",
    "print(math.pi)"
   ]
  },
  {
   "cell_type": "code",
   "execution_count": 26,
   "id": "f0fd9301",
   "metadata": {},
   "outputs": [],
   "source": [
    "c1=Circle(2)"
   ]
  },
  {
   "cell_type": "code",
   "execution_count": 27,
   "id": "98601ff5",
   "metadata": {},
   "outputs": [
    {
     "data": {
      "text/plain": [
       "12.566370614359172"
      ]
     },
     "execution_count": 27,
     "metadata": {},
     "output_type": "execute_result"
    }
   ],
   "source": [
    "c1.Area()"
   ]
  },
  {
   "cell_type": "code",
   "execution_count": 28,
   "id": "fbb02ccf",
   "metadata": {},
   "outputs": [],
   "source": [
    "def count_dominant_cell(grid):\n",
    "    def is_dominant_cell(i,j):\n",
    "        cell_value=grid[i][j]\n",
    "        for x in range(max(0,i-1),min(len(grid)),i+2):\n",
    "            for y in range(max(0,j-1),min(len(grid),j+2)):\n",
    "                if (x,y)!=(i.j) and "
   ]
  },
  {
   "cell_type": "code",
   "execution_count": 29,
   "id": "3a793bff",
   "metadata": {},
   "outputs": [],
   "source": [
    "grid=[[1,2,3],[4,5,6],[7,8,9]]\n",
    "count_dominant_cell(grid)"
   ]
  },
  {
   "cell_type": "code",
   "execution_count": 30,
   "id": "514da336",
   "metadata": {},
   "outputs": [],
   "source": [
    "def count_dominant_cells(grid):\n",
    "    def is_valid(i, j):\n",
    "        return 0 <= i < len(grid) and 0 <= j < len(grid[0])\n",
    "\n",
    "    count = 0\n",
    "    for i in range(len(grid)):\n",
    "        for j in range(len(grid[0])):\n",
    "            cell_value = grid[i][j]\n",
    "            is_dominant = all(\n",
    "                cell_value > grid[x][y]\n",
    "                for x in range(i - 1, i + 2)\n",
    "                for y in range(j - 1, j + 2)\n",
    "                if (x != i or y != j) and is_valid(x, y)\n",
    "            )\n",
    "            if is_dominant:\n",
    "                count += 1\n",
    "\n",
    "    return count\n"
   ]
  },
  {
   "cell_type": "code",
   "execution_count": 32,
   "id": "e3f56fe4",
   "metadata": {},
   "outputs": [
    {
     "data": {
      "text/plain": [
       "1"
      ]
     },
     "execution_count": 32,
     "metadata": {},
     "output_type": "execute_result"
    }
   ],
   "source": [
    "grid=[[1,2,3],[4,5,6],[7,8,9]]\n",
    "count_dominant_cells(grid)"
   ]
  },
  {
   "cell_type": "code",
   "execution_count": 51,
   "id": "f677ee9e",
   "metadata": {},
   "outputs": [
    {
     "name": "stdout",
     "output_type": "stream",
     "text": [
      " k\n",
      " kh\n",
      " khu\n",
      " h\n",
      " hi\n",
      " hij\n",
      " hija\n",
      " g\n",
      " gi\n",
      " gid\n"
     ]
    }
   ],
   "source": [
    "str=\"khushijangid\"\n",
    "s=\" \"\n",
    "len=3\n",
    "l=list(str)\n",
    "count=1\n",
    "for i in l:\n",
    "    if count<=len:\n",
    "        s+=i\n",
    "        print(s)\n",
    "        count+=1\n",
    "    else:\n",
    "        count=0\n",
    "        s=\" \"\n",
    "        "
   ]
  },
  {
   "cell_type": "code",
   "execution_count": 52,
   "id": "3f9f33e0",
   "metadata": {},
   "outputs": [],
   "source": [
    "def wrap(string,max_width):\n",
    "    result=\"\"\n",
    "    index=0\n",
    "    \n",
    "    while index<len(string):\n",
    "        no=1\n",
    "        sub_string=\"\"\n",
    "        \n",
    "        while index<len(string) and no<=max_width:\n",
    "            sub_string+=string[index]\n",
    "            no+=1\n",
    "            index+=1\n",
    "        result=f\"{sub_string}\\n\"\n",
    "    return result"
   ]
  },
  {
   "cell_type": "code",
   "execution_count": 57,
   "id": "3dbca8d9",
   "metadata": {},
   "outputs": [
    {
     "ename": "TypeError",
     "evalue": "'int' object is not callable",
     "output_type": "error",
     "traceback": [
      "\u001b[1;31m---------------------------------------------------------------------------\u001b[0m",
      "\u001b[1;31mTypeError\u001b[0m                                 Traceback (most recent call last)",
      "Cell \u001b[1;32mIn[57], line 1\u001b[0m\n\u001b[1;32m----> 1\u001b[0m wrap(\u001b[38;5;124m\"\u001b[39m\u001b[38;5;124mkhushijangidkkkksssdd\u001b[39m\u001b[38;5;124m\"\u001b[39m,\u001b[38;5;241m4\u001b[39m)\n",
      "Cell \u001b[1;32mIn[56], line 5\u001b[0m, in \u001b[0;36mwrap\u001b[1;34m(string, max_width)\u001b[0m\n\u001b[0;32m      2\u001b[0m result \u001b[38;5;241m=\u001b[39m \u001b[38;5;124m\"\u001b[39m\u001b[38;5;124m\"\u001b[39m\n\u001b[0;32m      3\u001b[0m index \u001b[38;5;241m=\u001b[39m \u001b[38;5;241m0\u001b[39m\n\u001b[1;32m----> 5\u001b[0m \u001b[38;5;28;01mwhile\u001b[39;00m index \u001b[38;5;241m<\u001b[39m \u001b[38;5;28mlen\u001b[39m(string):\n\u001b[0;32m      6\u001b[0m     no \u001b[38;5;241m=\u001b[39m \u001b[38;5;241m1\u001b[39m\n\u001b[0;32m      7\u001b[0m     sub_str \u001b[38;5;241m=\u001b[39m \u001b[38;5;124m\"\u001b[39m\u001b[38;5;124m\"\u001b[39m\n",
      "\u001b[1;31mTypeError\u001b[0m: 'int' object is not callable"
     ]
    }
   ],
   "source": [
    "wrap(\"khushijangidkkkksssdd\",4)"
   ]
  },
  {
   "cell_type": "code",
   "execution_count": 60,
   "id": "e3564530",
   "metadata": {},
   "outputs": [],
   "source": [
    "def wrap(string, max_width):\n",
    "    result = \"\"\n",
    "    index = 0\n",
    "    string=list(string)\n",
    "    \n",
    "    while index < len(string):\n",
    "        no = 1\n",
    "        sub_str = \"\"\n",
    "        \n",
    "        while index < len(string) and no <= max_width:\n",
    "            sub_str += string[index]\n",
    "            no += 1\n",
    "            index += 1\n",
    "        result += f\"{sub_str}\\n\"\n",
    "        \n",
    "    return result"
   ]
  },
  {
   "cell_type": "code",
   "execution_count": 61,
   "id": "5fa770c3",
   "metadata": {},
   "outputs": [
    {
     "ename": "TypeError",
     "evalue": "'int' object is not callable",
     "output_type": "error",
     "traceback": [
      "\u001b[1;31m---------------------------------------------------------------------------\u001b[0m",
      "\u001b[1;31mTypeError\u001b[0m                                 Traceback (most recent call last)",
      "Cell \u001b[1;32mIn[61], line 1\u001b[0m\n\u001b[1;32m----> 1\u001b[0m wrap(\u001b[38;5;124m\"\u001b[39m\u001b[38;5;124mkhushijangidkkkksssdd\u001b[39m\u001b[38;5;124m\"\u001b[39m,\u001b[38;5;241m4\u001b[39m)\n",
      "Cell \u001b[1;32mIn[60], line 6\u001b[0m, in \u001b[0;36mwrap\u001b[1;34m(string, max_width)\u001b[0m\n\u001b[0;32m      3\u001b[0m index \u001b[38;5;241m=\u001b[39m \u001b[38;5;241m0\u001b[39m\n\u001b[0;32m      4\u001b[0m string\u001b[38;5;241m=\u001b[39m\u001b[38;5;28mlist\u001b[39m(string)\n\u001b[1;32m----> 6\u001b[0m \u001b[38;5;28;01mwhile\u001b[39;00m index \u001b[38;5;241m<\u001b[39m \u001b[38;5;28mlen\u001b[39m(string):\n\u001b[0;32m      7\u001b[0m     no \u001b[38;5;241m=\u001b[39m \u001b[38;5;241m1\u001b[39m\n\u001b[0;32m      8\u001b[0m     sub_str \u001b[38;5;241m=\u001b[39m \u001b[38;5;124m\"\u001b[39m\u001b[38;5;124m\"\u001b[39m\n",
      "\u001b[1;31mTypeError\u001b[0m: 'int' object is not callable"
     ]
    }
   ],
   "source": [
    "wrap(\"khushijangidkkkksssdd\",4)"
   ]
  },
  {
   "cell_type": "code",
   "execution_count": 73,
   "id": "8d9f29c2",
   "metadata": {},
   "outputs": [],
   "source": [
    "def wrap(string, max_width):\n",
    "    \n",
    "    a = textwrap.wrap(string, width=max_width)\n",
    "    return \"\\n\".join(a)"
   ]
  },
  {
   "cell_type": "code",
   "execution_count": 9,
   "id": "cd4c8ee5",
   "metadata": {},
   "outputs": [],
   "source": [
    "def merge(nums1, m, nums2, n):\n",
    "    l=[]\n",
    "    i=0\n",
    "    j=0\n",
    "    while(i<m and j<n):\n",
    "        if(num1[i]<num2[j]):\n",
    "            l.append(nums1[i])\n",
    "            i+=1\n",
    "        elif(nums1[i]>num2[j]):\n",
    "            l.append(nums2[j])\n",
    "            j+=1\n",
    "        else:\n",
    "            l.append(nums1[i])\n",
    "            i+=1\n",
    "            l.append(num2[j])\n",
    "            j+=1\n",
    "    while i < m:\n",
    "        l.append(nums1[i])\n",
    "        i += 1\n",
    "    while j < n:\n",
    "        l.append(nums2[j])\n",
    "        j += 1\n",
    "    print(l)"
   ]
  },
  {
   "cell_type": "code",
   "execution_count": 10,
   "id": "99272174",
   "metadata": {},
   "outputs": [
    {
     "name": "stdout",
     "output_type": "stream",
     "text": [
      "[1, 2, 2, 3, 5, 6]\n"
     ]
    }
   ],
   "source": [
    "num1=[1,2,3]\n",
    "num2=[2,5,6]\n",
    "merge(num1,3,num2,3)"
   ]
  },
  {
   "cell_type": "code",
   "execution_count": 11,
   "id": "abb35d08",
   "metadata": {},
   "outputs": [
    {
     "ename": "NameError",
     "evalue": "name 'List' is not defined",
     "output_type": "error",
     "traceback": [
      "\u001b[1;31m---------------------------------------------------------------------------\u001b[0m",
      "\u001b[1;31mNameError\u001b[0m                                 Traceback (most recent call last)",
      "Cell \u001b[1;32mIn[11], line 1\u001b[0m\n\u001b[1;32m----> 1\u001b[0m \u001b[38;5;28;01mclass\u001b[39;00m \u001b[38;5;21;01mSolution\u001b[39;00m:\n\u001b[0;32m      2\u001b[0m     \u001b[38;5;28;01mdef\u001b[39;00m \u001b[38;5;21mmerge\u001b[39m(\u001b[38;5;28mself\u001b[39m, nums1: List[\u001b[38;5;28mint\u001b[39m], m: \u001b[38;5;28mint\u001b[39m, nums2: List[\u001b[38;5;28mint\u001b[39m], n: \u001b[38;5;28mint\u001b[39m) \u001b[38;5;241m-\u001b[39m\u001b[38;5;241m>\u001b[39m \u001b[38;5;28;01mNone\u001b[39;00m:\n\u001b[0;32m      3\u001b[0m         l\u001b[38;5;241m=\u001b[39m[]\n",
      "Cell \u001b[1;32mIn[11], line 2\u001b[0m, in \u001b[0;36mSolution\u001b[1;34m()\u001b[0m\n\u001b[0;32m      1\u001b[0m \u001b[38;5;28;01mclass\u001b[39;00m \u001b[38;5;21;01mSolution\u001b[39;00m:\n\u001b[1;32m----> 2\u001b[0m     \u001b[38;5;28;01mdef\u001b[39;00m \u001b[38;5;21mmerge\u001b[39m(\u001b[38;5;28mself\u001b[39m, nums1: List[\u001b[38;5;28mint\u001b[39m], m: \u001b[38;5;28mint\u001b[39m, nums2: List[\u001b[38;5;28mint\u001b[39m], n: \u001b[38;5;28mint\u001b[39m) \u001b[38;5;241m-\u001b[39m\u001b[38;5;241m>\u001b[39m \u001b[38;5;28;01mNone\u001b[39;00m:\n\u001b[0;32m      3\u001b[0m         l\u001b[38;5;241m=\u001b[39m[]\n\u001b[0;32m      4\u001b[0m         i\u001b[38;5;241m=\u001b[39m\u001b[38;5;241m0\u001b[39m\n",
      "\u001b[1;31mNameError\u001b[0m: name 'List' is not defined"
     ]
    }
   ],
   "source": [
    "class Solution:\n",
    "    def merge(self, nums1: List[int], m: int, nums2: List[int], n: int) -> None:\n",
    "        l=[]\n",
    "        i=0\n",
    "        j=0\n",
    "        while(i<m and j<n):\n",
    "            if(self.num1[i]<self.num2[j]):\n",
    "                l.append(self.nums1[i])\n",
    "                i+=1\n",
    "            elif(nums1[i]>num2[j]):\n",
    "                l.append(self.nums2[j])\n",
    "                j+=1\n",
    "            else:\n",
    "                l.append(self.nums1[i])\n",
    "                i+=1\n",
    "                l.append(self.num2[j])\n",
    "                j+=1\n",
    "        while i < m:\n",
    "            l.append(self.nums1[i])\n",
    "            i += 1\n",
    "        while j < n:\n",
    "            l.append(self.nums2[j])\n",
    "            j += 1\n",
    "        print(l)\n",
    "            "
   ]
  },
  {
   "cell_type": "code",
   "execution_count": 21,
   "id": "52efe3db",
   "metadata": {},
   "outputs": [],
   "source": [
    "def swap_case(s):\n",
    "    l=list(s)\n",
    "    print(l)\n",
    "    l2=[]\n",
    "    for i in l:\n",
    "        if i.isupeer():\n",
    "            print(i)\n",
    "#         else:\n",
    "#             l2.append(i.lower())\n",
    "#     print(l2)"
   ]
  },
  {
   "cell_type": "code",
   "execution_count": 22,
   "id": "e685b8d0",
   "metadata": {},
   "outputs": [
    {
     "name": "stdout",
     "output_type": "stream",
     "text": [
      "['K', 'H', 'u', 's', 'h', 'i']\n"
     ]
    },
    {
     "ename": "AttributeError",
     "evalue": "'str' object has no attribute 'isupeer'",
     "output_type": "error",
     "traceback": [
      "\u001b[1;31m---------------------------------------------------------------------------\u001b[0m",
      "\u001b[1;31mAttributeError\u001b[0m                            Traceback (most recent call last)",
      "Cell \u001b[1;32mIn[22], line 1\u001b[0m\n\u001b[1;32m----> 1\u001b[0m swap_case(\u001b[38;5;124m\"\u001b[39m\u001b[38;5;124mKHushi\u001b[39m\u001b[38;5;124m\"\u001b[39m)\n",
      "Cell \u001b[1;32mIn[21], line 6\u001b[0m, in \u001b[0;36mswap_case\u001b[1;34m(s)\u001b[0m\n\u001b[0;32m      4\u001b[0m l2\u001b[38;5;241m=\u001b[39m[]\n\u001b[0;32m      5\u001b[0m \u001b[38;5;28;01mfor\u001b[39;00m i \u001b[38;5;129;01min\u001b[39;00m l:\n\u001b[1;32m----> 6\u001b[0m     \u001b[38;5;28;01mif\u001b[39;00m i\u001b[38;5;241m.\u001b[39misupeer():\n\u001b[0;32m      7\u001b[0m         \u001b[38;5;28mprint\u001b[39m(i)\n",
      "\u001b[1;31mAttributeError\u001b[0m: 'str' object has no attribute 'isupeer'"
     ]
    }
   ],
   "source": [
    "swap_case(\"KHushi\")"
   ]
  },
  {
   "cell_type": "code",
   "execution_count": 38,
   "id": "5104fd2c",
   "metadata": {},
   "outputs": [
    {
     "name": "stdout",
     "output_type": "stream",
     "text": [
      "['K', 'H', 'u', 's', 'h', 'i', 'J', 'a', 'h', 'n', 'd', 'g', 'h', 'e', 'f', 'o']\n"
     ]
    },
    {
     "ename": "NameError",
     "evalue": "name 'upper' is not defined",
     "output_type": "error",
     "traceback": [
      "\u001b[1;31m---------------------------------------------------------------------------\u001b[0m",
      "\u001b[1;31mNameError\u001b[0m                                 Traceback (most recent call last)",
      "Cell \u001b[1;32mIn[38], line 6\u001b[0m\n\u001b[0;32m      4\u001b[0m l2\u001b[38;5;241m=\u001b[39m[]\n\u001b[0;32m      5\u001b[0m \u001b[38;5;28;01mfor\u001b[39;00m i \u001b[38;5;129;01min\u001b[39;00m \u001b[38;5;28mrange\u001b[39m(\u001b[38;5;28mlen\u001b[39m(l)):\n\u001b[1;32m----> 6\u001b[0m     \u001b[38;5;28;01mif\u001b[39;00m l[i]\u001b[38;5;241m==\u001b[39mupper():\n\u001b[0;32m      7\u001b[0m         l2\u001b[38;5;241m.\u001b[39mappend(l[i])\n\u001b[0;32m      8\u001b[0m \u001b[38;5;28mprint\u001b[39m(l)\n",
      "\u001b[1;31mNameError\u001b[0m: name 'upper' is not defined"
     ]
    }
   ],
   "source": [
    "s=\"KHushiJahndghefo\"\n",
    "l=list(s)\n",
    "print(l)\n",
    "l2=[]\n",
    "for i in range(len(l)):\n",
    "    if l[i]==upper():\n",
    "        l2.append(l[i])\n",
    "print(l)"
   ]
  },
  {
   "cell_type": "code",
   "execution_count": 42,
   "id": "68dd9266",
   "metadata": {},
   "outputs": [
    {
     "name": "stdout",
     "output_type": "stream",
     "text": [
      "['K', 'H', 'u', 's', 'h', 'i', 'J', 'a', 'h', 'n', 'd', 'g', 'h', 'e', 'f', 'o']\n",
      "[]\n"
     ]
    }
   ],
   "source": [
    "s=\"KHushiJahndghefo\"\n",
    "l=list(s)\n",
    "print(l)\n",
    "l=[]\n",
    "for i in range(len(l)):\n",
    "    if l[i]==isupper():\n",
    "        l.append(l[i])\n",
    "print(l)"
   ]
  },
  {
   "cell_type": "code",
   "execution_count": null,
   "id": "accb5624",
   "metadata": {},
   "outputs": [],
   "source": []
  },
  {
   "cell_type": "code",
   "execution_count": null,
   "id": "c4142e93",
   "metadata": {},
   "outputs": [],
   "source": []
  }
 ],
 "metadata": {
  "kernelspec": {
   "display_name": "Python 3 (ipykernel)",
   "language": "python",
   "name": "python3"
  },
  "language_info": {
   "codemirror_mode": {
    "name": "ipython",
    "version": 3
   },
   "file_extension": ".py",
   "mimetype": "text/x-python",
   "name": "python",
   "nbconvert_exporter": "python",
   "pygments_lexer": "ipython3",
   "version": "3.11.5"
  }
 },
 "nbformat": 4,
 "nbformat_minor": 5
}
