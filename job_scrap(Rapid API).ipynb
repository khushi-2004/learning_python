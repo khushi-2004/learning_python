{
 "cells": [
  {
   "cell_type": "code",
   "execution_count": 3,
   "id": "7978c2d0",
   "metadata": {},
   "outputs": [],
   "source": [
    "import requests\n",
    "\n",
    "url = \"https://job-search-api1.p.rapidapi.com/v1/job-description-search\"\n",
    "\n",
    "querystring = {\"q\":\"software engineer\",\"page\":\"1\",\"country\":\"in\",\"city\":\"jaipur\"}\n",
    "\n",
    "headers = {\n",
    "    \"X-RapidAPI-Key\": \"67d0e7c5cfmsh19385555863c954p19bef1jsn9c6b16688bf4\",\n",
    "    \"X-RapidAPI-Host\": \"job-search-api1.p.rapidapi.com\"\n",
    "}\n",
    "\n",
    "response = requests.get(url, headers=headers, params=querystring)\n",
    "\n",
    "data=response.json()"
   ]
  },
  {
   "cell_type": "code",
   "execution_count": 4,
   "id": "4d7df636",
   "metadata": {},
   "outputs": [
    {
     "data": {
      "text/plain": [
       "1"
      ]
     },
     "execution_count": 4,
     "metadata": {},
     "output_type": "execute_result"
    }
   ],
   "source": [
    "len(data)"
   ]
  },
  {
   "cell_type": "code",
   "execution_count": 5,
   "id": "d0d0a255",
   "metadata": {},
   "outputs": [
    {
     "data": {
      "text/plain": [
       "dict_keys(['jobs'])"
      ]
     },
     "execution_count": 5,
     "metadata": {},
     "output_type": "execute_result"
    }
   ],
   "source": [
    "data.keys()"
   ]
  },
  {
   "cell_type": "code",
   "execution_count": 6,
   "id": "877e8e45",
   "metadata": {},
   "outputs": [
    {
     "data": {
      "text/plain": [
       "10"
      ]
     },
     "execution_count": 6,
     "metadata": {},
     "output_type": "execute_result"
    }
   ],
   "source": [
    "len(data['jobs'])"
   ]
  },
  {
   "cell_type": "code",
   "execution_count": 8,
   "id": "c9b70ce1",
   "metadata": {},
   "outputs": [
    {
     "data": {
      "text/plain": [
       "dict_keys(['id', 'application_url', 'company_name', 'employment_type', 'employment_hour_type', 'plain_text_description', 'html_description', 'publication_time', 'source', 'title', 'location', 'salary'])"
      ]
     },
     "execution_count": 8,
     "metadata": {},
     "output_type": "execute_result"
    }
   ],
   "source": [
    "data['jobs'][0].keys()"
   ]
  },
  {
   "cell_type": "code",
   "execution_count": 12,
   "id": "23e326f9",
   "metadata": {},
   "outputs": [
    {
     "name": "stdout",
     "output_type": "stream",
     "text": [
      "Software Engineer\n",
      "Software Developer\n",
      "Software Engineer\n",
      "Full Stack Engineer\n",
      "Software Associate Trainee\n",
      "Software Developer\n",
      "Hiring For Software Developer\n",
      "Software Engineer\n",
      "IT & Software\n",
      "Associate Software Developer\n"
     ]
    }
   ],
   "source": [
    "for i in range(len(data['jobs'])):\n",
    "    print(data['jobs'][i]['title'])"
   ]
  },
  {
   "cell_type": "code",
   "execution_count": null,
   "id": "027bd892",
   "metadata": {},
   "outputs": [],
   "source": []
  }
 ],
 "metadata": {
  "kernelspec": {
   "display_name": "Python 3 (ipykernel)",
   "language": "python",
   "name": "python3"
  },
  "language_info": {
   "codemirror_mode": {
    "name": "ipython",
    "version": 3
   },
   "file_extension": ".py",
   "mimetype": "text/x-python",
   "name": "python",
   "nbconvert_exporter": "python",
   "pygments_lexer": "ipython3",
   "version": "3.11.5"
  }
 },
 "nbformat": 4,
 "nbformat_minor": 5
}
