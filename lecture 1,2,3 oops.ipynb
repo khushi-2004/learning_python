{
 "cells": [
  {
   "cell_type": "markdown",
   "id": "f7aab1be",
   "metadata": {},
   "source": [
    "        oops --> object oriented programing structure\n",
    "        \n",
    "        python is pure oops\n",
    "        \n",
    "        everything is object in python\n",
    "        \n",
    "        oops --> \n",
    "                object --> physical or logical entity\n",
    "                \n",
    "                classes --> template, design and blue print of data\n",
    "                        --> colletion of object\n",
    "                        \n",
    "                abstruction\n",
    "                encapsulation\n",
    "                inheritance\n",
    "                ploymorphism\n",
    "                message passing\n",
    "                \n",
    "                \n",
    "        class and object\n",
    "                without class object is not exist\n",
    "                \n",
    "        class  --> attribute\n",
    "                   behaviour/methods\n",
    "                   \n",
    "         pridefine class:\n",
    "                         int\n",
    "                         flot\n",
    "                         complex\n",
    "                         str\n",
    "                         list\n",
    "                         tuple\n",
    "                         \n",
    "        class kyeword to define a class                 "
   ]
  },
  {
   "cell_type": "markdown",
   "id": "6dbf3eb8",
   "metadata": {},
   "source": [
    "# oops  --> object orianted programing structure"
   ]
  },
  {
   "cell_type": "markdown",
   "id": "08761cda",
   "metadata": {},
   "source": [
    "        syntax:\n",
    "                 class Class_name:\n",
    "                     \n",
    "                     attribute\n",
    "                     \n",
    "                     method"
   ]
  },
  {
   "cell_type": "markdown",
   "id": "614afa08",
   "metadata": {},
   "source": [
    "      method is class specific\n",
    "      \n",
    "      function is unique"
   ]
  },
  {
   "cell_type": "code",
   "execution_count": 1,
   "id": "b5f6934e",
   "metadata": {},
   "outputs": [],
   "source": [
    "class human:\n",
    "    \n",
    "    def walk():\n",
    "        print(\"you are walking\")\n",
    "        \n",
    "    def talk():\n",
    "        print(\"you are talking\")\n",
    "    \n",
    "    def dance():\n",
    "        print(\"you are dancing\")"
   ]
  },
  {
   "cell_type": "code",
   "execution_count": 2,
   "id": "4f97d995",
   "metadata": {},
   "outputs": [],
   "source": [
    "khushi=human()   # object creation"
   ]
  },
  {
   "cell_type": "code",
   "execution_count": 5,
   "id": "615027a1",
   "metadata": {},
   "outputs": [
    {
     "data": {
      "text/plain": [
       "<bound method human.talk of <__main__.human object at 0x000002471BAC8B10>>"
      ]
     },
     "execution_count": 5,
     "metadata": {},
     "output_type": "execute_result"
    }
   ],
   "source": [
    "khushi.talk"
   ]
  },
  {
   "cell_type": "code",
   "execution_count": 4,
   "id": "787c1248",
   "metadata": {},
   "outputs": [
    {
     "name": "stdout",
     "output_type": "stream",
     "text": [
      "<class '__main__.human'>\n"
     ]
    }
   ],
   "source": [
    "print(type(khushi))"
   ]
  },
  {
   "cell_type": "code",
   "execution_count": 6,
   "id": "b265bccc",
   "metadata": {},
   "outputs": [],
   "source": [
    "l=[1,2,3,4,5]"
   ]
  },
  {
   "cell_type": "code",
   "execution_count": 7,
   "id": "a559b31a",
   "metadata": {},
   "outputs": [
    {
     "name": "stdout",
     "output_type": "stream",
     "text": [
      "<class 'list'>\n"
     ]
    }
   ],
   "source": [
    "print(type(l))"
   ]
  },
  {
   "cell_type": "code",
   "execution_count": 8,
   "id": "8c1d4389",
   "metadata": {},
   "outputs": [
    {
     "name": "stdout",
     "output_type": "stream",
     "text": [
      "['__add__', '__class__', '__class_getitem__', '__contains__', '__delattr__', '__delitem__', '__dir__', '__doc__', '__eq__', '__format__', '__ge__', '__getattribute__', '__getitem__', '__getstate__', '__gt__', '__hash__', '__iadd__', '__imul__', '__init__', '__init_subclass__', '__iter__', '__le__', '__len__', '__lt__', '__mul__', '__ne__', '__new__', '__reduce__', '__reduce_ex__', '__repr__', '__reversed__', '__rmul__', '__setattr__', '__setitem__', '__sizeof__', '__str__', '__subclasshook__', 'append', 'clear', 'copy', 'count', 'extend', 'index', 'insert', 'pop', 'remove', 'reverse', 'sort']\n"
     ]
    }
   ],
   "source": [
    "print(dir(list))"
   ]
  },
  {
   "cell_type": "code",
   "execution_count": 9,
   "id": "16ccf9c7",
   "metadata": {},
   "outputs": [
    {
     "name": "stdout",
     "output_type": "stream",
     "text": [
      "['__class__', '__delattr__', '__dict__', '__dir__', '__doc__', '__eq__', '__format__', '__ge__', '__getattribute__', '__getstate__', '__gt__', '__hash__', '__init__', '__init_subclass__', '__le__', '__lt__', '__module__', '__ne__', '__new__', '__reduce__', '__reduce_ex__', '__repr__', '__setattr__', '__sizeof__', '__str__', '__subclasshook__', '__weakref__', 'dance', 'talk', 'walk']\n"
     ]
    }
   ],
   "source": [
    "print(dir(human))"
   ]
  },
  {
   "cell_type": "code",
   "execution_count": 19,
   "id": "a87dec0c",
   "metadata": {},
   "outputs": [],
   "source": [
    "class human:\n",
    "    \n",
    "    def walk(self):\n",
    "        print(\"you are walking\")\n",
    "        \n",
    "    def talk(self):\n",
    "        print(\"you are talking\")\n",
    "    \n",
    "    def dance(self):\n",
    "        print(\"you are dancing\")"
   ]
  },
  {
   "cell_type": "code",
   "execution_count": 20,
   "id": "65a492a5",
   "metadata": {},
   "outputs": [],
   "source": [
    "khushi=human()   # object creation"
   ]
  },
  {
   "cell_type": "code",
   "execution_count": 13,
   "id": "2c85ca1a",
   "metadata": {},
   "outputs": [
    {
     "name": "stdout",
     "output_type": "stream",
     "text": [
      "you are walking\n"
     ]
    }
   ],
   "source": [
    "human.walk()"
   ]
  },
  {
   "cell_type": "code",
   "execution_count": 14,
   "id": "5b210030",
   "metadata": {},
   "outputs": [
    {
     "name": "stdout",
     "output_type": "stream",
     "text": [
      "you are talking\n"
     ]
    }
   ],
   "source": [
    "human.talk()"
   ]
  },
  {
   "cell_type": "code",
   "execution_count": 21,
   "id": "17143dd8",
   "metadata": {},
   "outputs": [
    {
     "name": "stdout",
     "output_type": "stream",
     "text": [
      "you are walking\n"
     ]
    }
   ],
   "source": [
    "khushi.walk()"
   ]
  },
  {
   "cell_type": "code",
   "execution_count": 22,
   "id": "985b03f6",
   "metadata": {},
   "outputs": [
    {
     "data": {
      "text/plain": [
       "[1, 2, 3, 4, 5]"
      ]
     },
     "execution_count": 22,
     "metadata": {},
     "output_type": "execute_result"
    }
   ],
   "source": [
    "l"
   ]
  },
  {
   "cell_type": "code",
   "execution_count": 23,
   "id": "e81f75ac",
   "metadata": {},
   "outputs": [],
   "source": [
    "l.append(45)"
   ]
  },
  {
   "cell_type": "code",
   "execution_count": 24,
   "id": "1a72e47e",
   "metadata": {},
   "outputs": [],
   "source": [
    "list.append(l,67)"
   ]
  },
  {
   "cell_type": "code",
   "execution_count": 25,
   "id": "15c8c8b8",
   "metadata": {},
   "outputs": [
    {
     "data": {
      "text/plain": [
       "[1, 2, 3, 4, 5, 45, 67]"
      ]
     },
     "execution_count": 25,
     "metadata": {},
     "output_type": "execute_result"
    }
   ],
   "source": [
    "l"
   ]
  },
  {
   "cell_type": "code",
   "execution_count": 1,
   "id": "867ab066",
   "metadata": {},
   "outputs": [],
   "source": [
    "class human:\n",
    "    \n",
    "    def __init__(self,name,age):\n",
    "        self.name=name  # binding data with objects\n",
    "        self.age=age\n",
    "    \n",
    "    def walk(self):\n",
    "        print(\"you are walking\")\n",
    "        \n",
    "    def talk(self):\n",
    "        print(\"you are talking\")\n",
    "    \n",
    "    def dance(self):\n",
    "        print(\"you are dancing\")"
   ]
  },
  {
   "cell_type": "code",
   "execution_count": 2,
   "id": "596b2e2c",
   "metadata": {},
   "outputs": [],
   "source": [
    "obj1=human('khushi',89)\n",
    "obj2=human('kukku',90)"
   ]
  },
  {
   "cell_type": "code",
   "execution_count": 3,
   "id": "de9df2e6",
   "metadata": {},
   "outputs": [
    {
     "data": {
      "text/plain": [
       "'khushi'"
      ]
     },
     "execution_count": 3,
     "metadata": {},
     "output_type": "execute_result"
    }
   ],
   "source": [
    "obj1.name"
   ]
  },
  {
   "cell_type": "code",
   "execution_count": null,
   "id": "4d2704f8",
   "metadata": {},
   "outputs": [],
   "source": [
    "class Account:\n",
    "    def __init__(self,name,age):\n",
    "        self.name=name\n",
    "        self.age=age\n",
    "    \n",
    "    def deposit(self,amount):\n",
    "        print(f\"\")"
   ]
  },
  {
   "cell_type": "code",
   "execution_count": 49,
   "id": "08622c22",
   "metadata": {},
   "outputs": [],
   "source": [
    "class human:\n",
    "    \n",
    "    def __init__(self,name,age):   # self represent the instance of object\n",
    "        self.name=name  # binding data with objects\n",
    "        self.age=age\n",
    "    \n",
    "    def walk(self):\n",
    "        print(f'{self.name} you are walking')\n",
    "        \n",
    "    def talk(self):\n",
    "        print(\"you are talking\")\n",
    "    \n",
    "    def dance(self):\n",
    "        print(\"you are dancing\")\n",
    "        \n",
    "    def change_name(self,name):\n",
    "        self.name=name\n",
    "        \n",
    "    def get_name(self):\n",
    "        return self.name\n",
    "    \n",
    "    def detail(self):\n",
    "        return self.name,self.age"
   ]
  },
  {
   "cell_type": "code",
   "execution_count": 50,
   "id": "5311376c",
   "metadata": {},
   "outputs": [],
   "source": [
    "obj1=human('khushi',89)\n",
    "obj2=human('kukku',90)"
   ]
  },
  {
   "cell_type": "code",
   "execution_count": 40,
   "id": "72796c30",
   "metadata": {},
   "outputs": [
    {
     "name": "stdout",
     "output_type": "stream",
     "text": [
      "khushi you are walking\n"
     ]
    }
   ],
   "source": [
    "obj1.walk()"
   ]
  },
  {
   "cell_type": "code",
   "execution_count": 43,
   "id": "57bdcf28",
   "metadata": {},
   "outputs": [],
   "source": [
    "obj1.change_name('hello')"
   ]
  },
  {
   "cell_type": "code",
   "execution_count": 44,
   "id": "ff5de00a",
   "metadata": {},
   "outputs": [
    {
     "data": {
      "text/plain": [
       "'hello'"
      ]
     },
     "execution_count": 44,
     "metadata": {},
     "output_type": "execute_result"
    }
   ],
   "source": [
    "obj1.name"
   ]
  },
  {
   "cell_type": "code",
   "execution_count": 48,
   "id": "72dee48b",
   "metadata": {},
   "outputs": [
    {
     "data": {
      "text/plain": [
       "'khushi'"
      ]
     },
     "execution_count": 48,
     "metadata": {},
     "output_type": "execute_result"
    }
   ],
   "source": [
    "obj1.get_name()"
   ]
  },
  {
   "cell_type": "code",
   "execution_count": 51,
   "id": "67e82bbf",
   "metadata": {},
   "outputs": [
    {
     "data": {
      "text/plain": [
       "('khushi', 89)"
      ]
     },
     "execution_count": 51,
     "metadata": {},
     "output_type": "execute_result"
    }
   ],
   "source": [
    "obj1.detail()"
   ]
  },
  {
   "cell_type": "markdown",
   "id": "da32592e",
   "metadata": {},
   "source": [
    "### comparing object "
   ]
  },
  {
   "cell_type": "code",
   "execution_count": 52,
   "id": "443f1aea",
   "metadata": {},
   "outputs": [],
   "source": [
    "class person:\n",
    "    \n",
    "    def __init__(self,name,salary):\n",
    "        self.name=name\n",
    "        self.salary=salary\n",
    "        \n",
    "    def get_detail(self):\n",
    "        print(f'pesron name: {self.name}')\n",
    "        print(f'pesron salary: {self.salary}')  \n",
    "        \n",
    "    "
   ]
  },
  {
   "cell_type": "code",
   "execution_count": 53,
   "id": "02d278ab",
   "metadata": {},
   "outputs": [],
   "source": [
    "p1=person('khushi',456543)\n",
    "p2=person('kukku',984059)"
   ]
  },
  {
   "cell_type": "code",
   "execution_count": 54,
   "id": "ef8f959b",
   "metadata": {},
   "outputs": [
    {
     "name": "stdout",
     "output_type": "stream",
     "text": [
      "pesron name: khushi\n",
      "pesron salary: 456543\n"
     ]
    }
   ],
   "source": [
    "p1.get_detail()"
   ]
  },
  {
   "cell_type": "code",
   "execution_count": 55,
   "id": "dae63fba",
   "metadata": {},
   "outputs": [
    {
     "ename": "AttributeError",
     "evalue": "'person' object has no attribute 'compare'",
     "output_type": "error",
     "traceback": [
      "\u001b[1;31m---------------------------------------------------------------------------\u001b[0m",
      "\u001b[1;31mAttributeError\u001b[0m                            Traceback (most recent call last)",
      "Cell \u001b[1;32mIn[55], line 1\u001b[0m\n\u001b[1;32m----> 1\u001b[0m p1\u001b[38;5;241m.\u001b[39mcompare(p2)\n",
      "\u001b[1;31mAttributeError\u001b[0m: 'person' object has no attribute 'compare'"
     ]
    }
   ],
   "source": [
    "p1.compare(p2)"
   ]
  },
  {
   "cell_type": "markdown",
   "id": "81c466fd",
   "metadata": {},
   "source": [
    "        class--> student\n",
    "        \n",
    "            method ---> 3 subject marks avg"
   ]
  },
  {
   "cell_type": "code",
   "execution_count": 68,
   "id": "bf345ecb",
   "metadata": {},
   "outputs": [],
   "source": [
    "class student:\n",
    "    \n",
    "    def __init__(self,name,marks1,marks2,marks3):\n",
    "        self.name=name\n",
    "        self.marks1=marks1\n",
    "        self.marks2=marks2\n",
    "        self.marks3=marks3\n",
    "    \n",
    "    def marks_avg(self):\n",
    "        return f'{self.name} marks avg is {(self.marks1+self.marks2+self.marks3)/3}'"
   ]
  },
  {
   "cell_type": "code",
   "execution_count": 69,
   "id": "dc625984",
   "metadata": {},
   "outputs": [],
   "source": [
    "std1=student('khushi',34,56,78)"
   ]
  },
  {
   "cell_type": "code",
   "execution_count": 70,
   "id": "091e711c",
   "metadata": {},
   "outputs": [
    {
     "data": {
      "text/plain": [
       "'khushi marks avg is 56.0'"
      ]
     },
     "execution_count": 70,
     "metadata": {},
     "output_type": "execute_result"
    }
   ],
   "source": [
    "std1.marks_avg()"
   ]
  },
  {
   "cell_type": "code",
   "execution_count": 71,
   "id": "5e27061f",
   "metadata": {},
   "outputs": [
    {
     "data": {
      "text/plain": [
       "{'name': 'khushi', 'marks1': 34, 'marks2': 56, 'marks3': 78}"
      ]
     },
     "execution_count": 71,
     "metadata": {},
     "output_type": "execute_result"
    }
   ],
   "source": [
    "std1.__dict__"
   ]
  },
  {
   "cell_type": "code",
   "execution_count": null,
   "id": "1dd089ac",
   "metadata": {},
   "outputs": [],
   "source": []
  },
  {
   "cell_type": "code",
   "execution_count": 72,
   "id": "0db7ee9b",
   "metadata": {},
   "outputs": [],
   "source": [
    "class person:\n",
    "    \n",
    "    def __init__(self,name,salary):\n",
    "        self.name=name\n",
    "        self.salary=salary\n",
    "        \n",
    "    def get_detail(self):\n",
    "        print(f'pesron name: {self.name}')\n",
    "        print(f'pesron salary: {self.salary}')  \n",
    "        "
   ]
  },
  {
   "cell_type": "code",
   "execution_count": 73,
   "id": "bfd08a6d",
   "metadata": {},
   "outputs": [],
   "source": [
    "p1=person('khushi',456543)\n",
    "p2=person('kukku',984059)"
   ]
  },
  {
   "cell_type": "code",
   "execution_count": 74,
   "id": "4c6269c4",
   "metadata": {},
   "outputs": [
    {
     "name": "stdout",
     "output_type": "stream",
     "text": [
      "<class '__main__.person'>\n",
      "<class '__main__.person'>\n"
     ]
    }
   ],
   "source": [
    "print(type(p1))\n",
    "print(type(p2))"
   ]
  },
  {
   "cell_type": "code",
   "execution_count": 75,
   "id": "387f2173",
   "metadata": {},
   "outputs": [
    {
     "ename": "AttributeError",
     "evalue": "'person' object has no attribute 'campare'",
     "output_type": "error",
     "traceback": [
      "\u001b[1;31m---------------------------------------------------------------------------\u001b[0m",
      "\u001b[1;31mAttributeError\u001b[0m                            Traceback (most recent call last)",
      "Cell \u001b[1;32mIn[75], line 1\u001b[0m\n\u001b[1;32m----> 1\u001b[0m p1\u001b[38;5;241m.\u001b[39mcampare(p2)\n",
      "\u001b[1;31mAttributeError\u001b[0m: 'person' object has no attribute 'campare'"
     ]
    }
   ],
   "source": [
    "p1.campare(p2)"
   ]
  },
  {
   "cell_type": "code",
   "execution_count": 78,
   "id": "a6e65535",
   "metadata": {},
   "outputs": [
    {
     "data": {
      "text/plain": [
       "{2, 3, 5, 6, 7}"
      ]
     },
     "execution_count": 78,
     "metadata": {},
     "output_type": "execute_result"
    }
   ],
   "source": [
    "s"
   ]
  },
  {
   "cell_type": "code",
   "execution_count": 77,
   "id": "19c840ac",
   "metadata": {},
   "outputs": [
    {
     "ename": "AttributeError",
     "evalue": "'set' object has no attribute 'append'",
     "output_type": "error",
     "traceback": [
      "\u001b[1;31m---------------------------------------------------------------------------\u001b[0m",
      "\u001b[1;31mAttributeError\u001b[0m                            Traceback (most recent call last)",
      "Cell \u001b[1;32mIn[77], line 1\u001b[0m\n\u001b[1;32m----> 1\u001b[0m s\u001b[38;5;241m.\u001b[39mappend(\u001b[38;5;241m45\u001b[39m)\n",
      "\u001b[1;31mAttributeError\u001b[0m: 'set' object has no attribute 'append'"
     ]
    }
   ],
   "source": [
    "s.append(45)"
   ]
  },
  {
   "cell_type": "code",
   "execution_count": 1,
   "id": "c87aa757",
   "metadata": {},
   "outputs": [],
   "source": [
    "class person:\n",
    "    \n",
    "    def __init__(self,name,salary):\n",
    "        self.name=name\n",
    "        self.salary=salary\n",
    "        \n",
    "    def get_detail(self):\n",
    "        print(f'pesron name: {self.name}')\n",
    "        print(f'pesron salary: {self.salary}')  \n",
    "        \n",
    "    def compare(self,other):\n",
    "        if self.salary>other.salary:\n",
    "            return True\n",
    "        else:\n",
    "            return False"
   ]
  },
  {
   "cell_type": "code",
   "execution_count": 2,
   "id": "fd9fe880",
   "metadata": {},
   "outputs": [],
   "source": [
    "p1=person('khushi',456543)\n",
    "p2=person('kukku',984059)"
   ]
  },
  {
   "cell_type": "code",
   "execution_count": 3,
   "id": "4523644a",
   "metadata": {},
   "outputs": [
    {
     "data": {
      "text/plain": [
       "False"
      ]
     },
     "execution_count": 3,
     "metadata": {},
     "output_type": "execute_result"
    }
   ],
   "source": [
    "p1.compare(p2)"
   ]
  },
  {
   "cell_type": "code",
   "execution_count": 4,
   "id": "7f8f8931",
   "metadata": {},
   "outputs": [
    {
     "name": "stdout",
     "output_type": "stream",
     "text": [
      "p2 jyada\n"
     ]
    }
   ],
   "source": [
    "if p1.compare(p2):\n",
    "    print('p1 jyada')\n",
    "else:\n",
    "    print('p2 jyada')"
   ]
  },
  {
   "cell_type": "markdown",
   "id": "6102ba6d",
   "metadata": {},
   "source": [
    "### type of variable:\n",
    "                    two type:\n",
    "                        1. instance variable\n",
    "                                        as the object change value of instance variable will change\n",
    "                                        always define in __init__ method\n",
    "                                        \n",
    "                        2. class variable\n",
    "                                        comman for all object\n",
    "                                        inside the class and outside the __init__ method\n",
    "                      "
   ]
  },
  {
   "cell_type": "code",
   "execution_count": null,
   "id": "a4664240",
   "metadata": {},
   "outputs": [],
   "source": []
  },
  {
   "cell_type": "code",
   "execution_count": 5,
   "id": "95c7d5fd",
   "metadata": {},
   "outputs": [],
   "source": [
    "class car:\n",
    "    \n",
    "    def __init__(self,comany,mil,color):\n",
    "        self.comany=comany       #instance variable\n",
    "        self.mil=mil\n",
    "        self.color=color\n",
    "        \n",
    "    def get_car_detail(self):\n",
    "        return self.comany,self.mil,self.color\n",
    "    \n",
    "    "
   ]
  },
  {
   "cell_type": "code",
   "execution_count": 6,
   "id": "21c20665",
   "metadata": {},
   "outputs": [],
   "source": [
    "car1=car('BMW','10','red')\n",
    "car2=car('tata','8','black')"
   ]
  },
  {
   "cell_type": "code",
   "execution_count": 8,
   "id": "146ace42",
   "metadata": {},
   "outputs": [
    {
     "data": {
      "text/plain": [
       "('BMW', '10', 'red')"
      ]
     },
     "execution_count": 8,
     "metadata": {},
     "output_type": "execute_result"
    }
   ],
   "source": [
    "car1.get_car_detail()"
   ]
  },
  {
   "cell_type": "code",
   "execution_count": 9,
   "id": "32e2dd0b",
   "metadata": {},
   "outputs": [],
   "source": [
    "car1.comany='tata'"
   ]
  },
  {
   "cell_type": "code",
   "execution_count": 11,
   "id": "40a623bc",
   "metadata": {},
   "outputs": [
    {
     "data": {
      "text/plain": [
       "('tata', '10', 'red')"
      ]
     },
     "execution_count": 11,
     "metadata": {},
     "output_type": "execute_result"
    }
   ],
   "source": [
    "car1.get_car_detail()"
   ]
  },
  {
   "cell_type": "code",
   "execution_count": 1,
   "id": "783519fe",
   "metadata": {},
   "outputs": [],
   "source": [
    "class car:\n",
    "    \n",
    "    wheels=4   # class variable\n",
    "    \n",
    "    def __init__(self,comany,mil,color):\n",
    "        self.comany=comany       #instance variable\n",
    "        self.mil=mil\n",
    "        self.color=color\n",
    "        \n",
    "    def get_car_detail(self):\n",
    "        return self.comany,self.mil,self.color\n"
   ]
  },
  {
   "cell_type": "code",
   "execution_count": 2,
   "id": "20167755",
   "metadata": {},
   "outputs": [],
   "source": [
    "car1=car('BMW','10','red')\n",
    "car2=car('tata','8','black')"
   ]
  },
  {
   "cell_type": "code",
   "execution_count": 3,
   "id": "e9072dea",
   "metadata": {},
   "outputs": [
    {
     "data": {
      "text/plain": [
       "4"
      ]
     },
     "execution_count": 3,
     "metadata": {},
     "output_type": "execute_result"
    }
   ],
   "source": [
    "car1.wheels"
   ]
  },
  {
   "cell_type": "code",
   "execution_count": 4,
   "id": "120241a8",
   "metadata": {},
   "outputs": [
    {
     "data": {
      "text/plain": [
       "4"
      ]
     },
     "execution_count": 4,
     "metadata": {},
     "output_type": "execute_result"
    }
   ],
   "source": [
    "car2.wheels"
   ]
  },
  {
   "cell_type": "code",
   "execution_count": 5,
   "id": "c41c65b1",
   "metadata": {},
   "outputs": [],
   "source": [
    "car1.wheels=5"
   ]
  },
  {
   "cell_type": "code",
   "execution_count": 6,
   "id": "74a0edbe",
   "metadata": {},
   "outputs": [
    {
     "data": {
      "text/plain": [
       "5"
      ]
     },
     "execution_count": 6,
     "metadata": {},
     "output_type": "execute_result"
    }
   ],
   "source": [
    "car1.wheels"
   ]
  },
  {
   "cell_type": "code",
   "execution_count": 7,
   "id": "858a5805",
   "metadata": {},
   "outputs": [
    {
     "data": {
      "text/plain": [
       "4"
      ]
     },
     "execution_count": 7,
     "metadata": {},
     "output_type": "execute_result"
    }
   ],
   "source": [
    "car2.wheels"
   ]
  },
  {
   "cell_type": "code",
   "execution_count": 9,
   "id": "06046bfa",
   "metadata": {},
   "outputs": [],
   "source": [
    "car.wheels=5"
   ]
  },
  {
   "cell_type": "code",
   "execution_count": 10,
   "id": "0291d2a4",
   "metadata": {},
   "outputs": [
    {
     "data": {
      "text/plain": [
       "5"
      ]
     },
     "execution_count": 10,
     "metadata": {},
     "output_type": "execute_result"
    }
   ],
   "source": [
    "car2.wheels"
   ]
  },
  {
   "cell_type": "code",
   "execution_count": 11,
   "id": "b17bb749",
   "metadata": {},
   "outputs": [
    {
     "data": {
      "text/plain": [
       "('BMW', '10', 'red')"
      ]
     },
     "execution_count": 11,
     "metadata": {},
     "output_type": "execute_result"
    }
   ],
   "source": [
    "car1.get_car_detail()"
   ]
  },
  {
   "cell_type": "code",
   "execution_count": 14,
   "id": "d1aae1d5",
   "metadata": {},
   "outputs": [
    {
     "data": {
      "text/plain": [
       "{'comany': 'BMW', 'mil': '10', 'color': 'red', 'wheels': 5}"
      ]
     },
     "execution_count": 14,
     "metadata": {},
     "output_type": "execute_result"
    }
   ],
   "source": [
    "car1.__dict__"
   ]
  },
  {
   "cell_type": "code",
   "execution_count": 15,
   "id": "04bf8388",
   "metadata": {},
   "outputs": [
    {
     "data": {
      "text/plain": [
       "{'comany': 'tata', 'mil': '8', 'color': 'black'}"
      ]
     },
     "execution_count": 15,
     "metadata": {},
     "output_type": "execute_result"
    }
   ],
   "source": [
    "car2.__dict__"
   ]
  },
  {
   "cell_type": "code",
   "execution_count": null,
   "id": "f07d1d38",
   "metadata": {},
   "outputs": [],
   "source": []
  },
  {
   "cell_type": "code",
   "execution_count": null,
   "id": "adf7a57f",
   "metadata": {},
   "outputs": [],
   "source": [
    "Input: nums = [2,7,11,15], target = 9\n",
    "Output: [0,1]\n",
    "Explanation: Because nums[0] + nums[1] == 9, we return [0, 1]."
   ]
  },
  {
   "cell_type": "code",
   "execution_count": 65,
   "id": "1241e0df",
   "metadata": {},
   "outputs": [],
   "source": [
    "class Solution(object):\n",
    "    def twoSum(self, nums, target):\n",
    "        \"\"\"\n",
    "        :type nums: List[int]\n",
    "        :type target: int\n",
    "        :rtype: List[int]\n",
    "        \"\"\"\n",
    "        for i in range(len(nums)):\n",
    "            for j in range(i+1,len(nums)):\n",
    "                if i!=j and nums[i]+nums[i+1]==target:\n",
    "                    return [i,j]\n",
    "        "
   ]
  },
  {
   "cell_type": "code",
   "execution_count": 66,
   "id": "59564db6",
   "metadata": {},
   "outputs": [],
   "source": [
    "s1=Solution()"
   ]
  },
  {
   "cell_type": "code",
   "execution_count": 67,
   "id": "86082e5f",
   "metadata": {},
   "outputs": [],
   "source": [
    "nums = [2,7,11,15]\n",
    "target = 9"
   ]
  },
  {
   "cell_type": "code",
   "execution_count": 68,
   "id": "799a6c83",
   "metadata": {},
   "outputs": [
    {
     "data": {
      "text/plain": [
       "[0, 1]"
      ]
     },
     "execution_count": 68,
     "metadata": {},
     "output_type": "execute_result"
    }
   ],
   "source": [
    "s1.twoSum(nums,target)"
   ]
  },
  {
   "cell_type": "code",
   "execution_count": null,
   "id": "a482a288",
   "metadata": {},
   "outputs": [],
   "source": [
    "Input: l1 = [2,4,3], l2 = [5,6,4]\n",
    "Output: [7,0,8]\n",
    "Explanation: 342 + 465 = 807."
   ]
  },
  {
   "cell_type": "code",
   "execution_count": 16,
   "id": "9b95a32a",
   "metadata": {},
   "outputs": [],
   "source": [
    "l1 = [2,4,3]\n",
    "l2 = [5,6,4]"
   ]
  },
  {
   "cell_type": "code",
   "execution_count": 17,
   "id": "df63ccf6",
   "metadata": {},
   "outputs": [
    {
     "ename": "AttributeError",
     "evalue": "'list' object has no attribute 'split'",
     "output_type": "error",
     "traceback": [
      "\u001b[1;31m---------------------------------------------------------------------------\u001b[0m",
      "\u001b[1;31mAttributeError\u001b[0m                            Traceback (most recent call last)",
      "Cell \u001b[1;32mIn[17], line 1\u001b[0m\n\u001b[1;32m----> 1\u001b[0m l1\u001b[38;5;241m.\u001b[39msplit(\u001b[38;5;124m'\u001b[39m\u001b[38;5;124m,\u001b[39m\u001b[38;5;124m'\u001b[39m)\n",
      "\u001b[1;31mAttributeError\u001b[0m: 'list' object has no attribute 'split'"
     ]
    }
   ],
   "source": []
  },
  {
   "cell_type": "code",
   "execution_count": null,
   "id": "1491be60",
   "metadata": {},
   "outputs": [],
   "source": [
    "class Solution(object):\n",
    "    def addTwoNumbers(self, l1, l2):\n",
    "        \"\"\"\n",
    "        :type l1: ListNode\n",
    "        :type l2: ListNode\n",
    "        :rtype: ListNode\n",
    "        \"\"\"\n",
    "        \n",
    "                "
   ]
  }
 ],
 "metadata": {
  "kernelspec": {
   "display_name": "Python 3 (ipykernel)",
   "language": "python",
   "name": "python3"
  },
  "language_info": {
   "codemirror_mode": {
    "name": "ipython",
    "version": 3
   },
   "file_extension": ".py",
   "mimetype": "text/x-python",
   "name": "python",
   "nbconvert_exporter": "python",
   "pygments_lexer": "ipython3",
   "version": "3.11.5"
  }
 },
 "nbformat": 4,
 "nbformat_minor": 5
}
