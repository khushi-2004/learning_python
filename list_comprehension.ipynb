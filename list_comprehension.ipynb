{
 "cells": [
  {
   "cell_type": "code",
   "execution_count": 2,
   "id": "4b147b91",
   "metadata": {},
   "outputs": [
    {
     "name": "stdout",
     "output_type": "stream",
     "text": [
      "['append', 'clear', 'copy', 'count', 'extend', 'index', 'insert', 'pop', 'remove', 'reverse', 'sort']\n"
     ]
    }
   ],
   "source": [
    "print([i for i in dir(list) if not i.startswith('__')])"
   ]
  },
  {
   "cell_type": "markdown",
   "id": "823b003a",
   "metadata": {},
   "source": [
    "        syntax:\n",
    "                    [expression for var in iterable if condition]"
   ]
  },
  {
   "cell_type": "code",
   "execution_count": 3,
   "id": "4eed0d86",
   "metadata": {},
   "outputs": [],
   "source": [
    "l=[i for i in range(5)]"
   ]
  },
  {
   "cell_type": "code",
   "execution_count": 4,
   "id": "89273cb7",
   "metadata": {},
   "outputs": [
    {
     "data": {
      "text/plain": [
       "[0, 1, 2, 3, 4]"
      ]
     },
     "execution_count": 4,
     "metadata": {},
     "output_type": "execute_result"
    }
   ],
   "source": [
    "l"
   ]
  },
  {
   "cell_type": "code",
   "execution_count": 2,
   "id": "9fc6a013",
   "metadata": {},
   "outputs": [],
   "source": [
    "ls=['2','3','4','6']"
   ]
  },
  {
   "cell_type": "code",
   "execution_count": 3,
   "id": "18d4cb83",
   "metadata": {},
   "outputs": [],
   "source": [
    "l=[int(i) for i in ls]"
   ]
  },
  {
   "cell_type": "code",
   "execution_count": 4,
   "id": "99f5c295",
   "metadata": {},
   "outputs": [
    {
     "data": {
      "text/plain": [
       "[2, 3, 4, 6]"
      ]
     },
     "execution_count": 4,
     "metadata": {},
     "output_type": "execute_result"
    }
   ],
   "source": [
    "l"
   ]
  },
  {
   "cell_type": "code",
   "execution_count": 8,
   "id": "39a47cee",
   "metadata": {},
   "outputs": [
    {
     "data": {
      "text/plain": [
       "[33, 34]"
      ]
     },
     "execution_count": 8,
     "metadata": {},
     "output_type": "execute_result"
    }
   ],
   "source": [
    "[i+j for i in [11,12,13] for j in [22,24] if i+j<35]"
   ]
  },
  {
   "cell_type": "code",
   "execution_count": 9,
   "id": "66956829",
   "metadata": {},
   "outputs": [
    {
     "data": {
      "text/plain": [
       "[4, 9, 16, 36]"
      ]
     },
     "execution_count": 9,
     "metadata": {},
     "output_type": "execute_result"
    }
   ],
   "source": [
    "[i**2 for i in l]"
   ]
  },
  {
   "cell_type": "code",
   "execution_count": 10,
   "id": "c8c22ce2",
   "metadata": {},
   "outputs": [
    {
     "data": {
      "text/plain": [
       "[12, 13, 14, 22, 23, 24, 32, 33, 34]"
      ]
     },
     "execution_count": 10,
     "metadata": {},
     "output_type": "execute_result"
    }
   ],
   "source": [
    "[i+j for i in [10,20,30] for j in [2,3,4]]"
   ]
  },
  {
   "cell_type": "code",
   "execution_count": 1,
   "id": "1c6f6de5",
   "metadata": {},
   "outputs": [
    {
     "data": {
      "text/plain": [
       "[12, 13, 14, 22, 23]"
      ]
     },
     "execution_count": 1,
     "metadata": {},
     "output_type": "execute_result"
    }
   ],
   "source": [
    "[i+j for i in [10,20,30] for j in [2,3,4] if i+j<24]"
   ]
  },
  {
   "cell_type": "code",
   "execution_count": 2,
   "id": "270a76f0",
   "metadata": {},
   "outputs": [
    {
     "data": {
      "text/plain": [
       "[(1, 1), (2, 4), (3, 9), (4, 16), (5, 25), (6, 36), (7, 49)]"
      ]
     },
     "execution_count": 2,
     "metadata": {},
     "output_type": "execute_result"
    }
   ],
   "source": [
    "[(i,i**2) for i in [1,2,3,4,5,6,7]]"
   ]
  },
  {
   "cell_type": "code",
   "execution_count": 4,
   "id": "8ef6e1da",
   "metadata": {},
   "outputs": [
    {
     "data": {
      "text/plain": [
       "[[10, 100],\n",
       " [22, 484],\n",
       " [34, 1156],\n",
       " [46, 2116],\n",
       " [58, 3364],\n",
       " [70, 4900],\n",
       " [82, 6724],\n",
       " [94, 8836]]"
      ]
     },
     "execution_count": 4,
     "metadata": {},
     "output_type": "execute_result"
    }
   ],
   "source": [
    "[[i,i**2] for i in range(10,100,12)]"
   ]
  },
  {
   "cell_type": "code",
   "execution_count": 8,
   "id": "5f79e066",
   "metadata": {},
   "outputs": [
    {
     "data": {
      "text/plain": [
       "[(0, 0, 1), (0, 1, 0), (0, 1, 1), (1, 0, 0), (1, 0, 1), (1, 1, 0), (1, 1, 1)]"
      ]
     },
     "execution_count": 8,
     "metadata": {},
     "output_type": "execute_result"
    }
   ],
   "source": [
    "[(i,j,k) for i in range(2) for j in range(2) for k in range(2) if i+j+k>=1]"
   ]
  },
  {
   "cell_type": "code",
   "execution_count": null,
   "id": "f41eb380",
   "metadata": {},
   "outputs": [],
   "source": []
  },
  {
   "cell_type": "code",
   "execution_count": 9,
   "id": "16199fc3",
   "metadata": {},
   "outputs": [
    {
     "name": "stdout",
     "output_type": "stream",
     "text": [
      "['append', 'clear', 'copy', 'count', 'extend', 'index', 'insert', 'pop', 'remove', 'reverse', 'sort']\n"
     ]
    }
   ],
   "source": [
    "print([i for i in dir(list) if not i.startswith('__')])"
   ]
  },
  {
   "cell_type": "code",
   "execution_count": 16,
   "id": "4688f092",
   "metadata": {},
   "outputs": [
    {
     "name": "stdout",
     "output_type": "stream",
     "text": [
      "['__add__', '__class__', '__class_getitem__', '__contains__', '__delattr__', '__delitem__', '__dir__', '__doc__', '__eq__', '__format__', '__ge__', '__getattribute__', '__getitem__', '__getstate__', '__gt__', '__hash__', '__iadd__', '__imul__', '__init__', '__init_subclass__', '__iter__', '__le__', '__len__', '__lt__', '__mul__', '__ne__', '__new__', '__reduce__', '__reduce_ex__', '__repr__', '__reversed__', '__rmul__', '__setattr__', '__setitem__', '__sizeof__', '__str__', '__subclasshook__']\n"
     ]
    }
   ],
   "source": [
    "print([i for i in dir(list) if i.startswith('__')])"
   ]
  },
  {
   "cell_type": "code",
   "execution_count": 17,
   "id": "11f7f5de",
   "metadata": {},
   "outputs": [
    {
     "name": "stdout",
     "output_type": "stream",
     "text": [
      "['append', 'clear', 'copy', 'count', 'extend', 'index', 'insert', 'pop', 'remove', 'reverse', 'sort']\n"
     ]
    }
   ],
   "source": [
    "print([i for i in dir(list) if not i.startswith('__')])"
   ]
  },
  {
   "cell_type": "code",
   "execution_count": 18,
   "id": "5ff4cec1",
   "metadata": {},
   "outputs": [
    {
     "name": "stdout",
     "output_type": "stream",
     "text": [
      "k\n",
      "kh\n",
      "\n",
      "gff\n",
      "dd\n"
     ]
    },
    {
     "data": {
      "text/plain": [
       "['k', 'kh', '', 'gff', 'dd']"
      ]
     },
     "execution_count": 18,
     "metadata": {},
     "output_type": "execute_result"
    }
   ],
   "source": [
    "[input() for i in range(5)]"
   ]
  },
  {
   "cell_type": "code",
   "execution_count": 9,
   "id": "3f19a156",
   "metadata": {},
   "outputs": [
    {
     "name": "stdout",
     "output_type": "stream",
     "text": [
      "['append', 'clear', 'copy', 'count', 'extend', 'index', 'insert', 'pop', 'remove', 'reverse', 'sort']\n"
     ]
    }
   ],
   "source": [
    "print([i for i in dir(list) if not i.startswith('__')])"
   ]
  },
  {
   "cell_type": "code",
   "execution_count": 21,
   "id": "e62a966f",
   "metadata": {},
   "outputs": [
    {
     "data": {
      "text/plain": [
       "[[0, 1, 2, 3, 4],\n",
       " [0, 1, 2, 3, 4],\n",
       " [0, 1, 2, 3, 4],\n",
       " [0, 1, 2, 3, 4],\n",
       " [0, 1, 2, 3, 4]]"
      ]
     },
     "execution_count": 21,
     "metadata": {},
     "output_type": "execute_result"
    }
   ],
   "source": [
    "[[j for j in range(5)] for i in range(5)]"
   ]
  },
  {
   "cell_type": "code",
   "execution_count": 3,
   "id": "c637616f",
   "metadata": {},
   "outputs": [
    {
     "name": "stdout",
     "output_type": "stream",
     "text": [
      "['append', 'clear', 'copy', 'count', 'extend', 'index', 'insert', 'pop', 'remove', 'reverse', 'sort']\n"
     ]
    }
   ],
   "source": [
    "print([i for i in dir(list) if not i.startswith('__')])"
   ]
  },
  {
   "cell_type": "code",
   "execution_count": 5,
   "id": "8e086914",
   "metadata": {},
   "outputs": [
    {
     "name": "stdout",
     "output_type": "stream",
     "text": [
      "['count', 'index']\n"
     ]
    }
   ],
   "source": [
    "print([i for i in dir(tuple) if not i.startswith('__')])"
   ]
  },
  {
   "cell_type": "code",
   "execution_count": 12,
   "id": "df19a2f2",
   "metadata": {},
   "outputs": [
    {
     "name": "stdout",
     "output_type": "stream",
     "text": [
      "0.8333333333333333\n"
     ]
    }
   ],
   "source": [
    "sum=0\n",
    "for k in range(1,3):\n",
    "    prod=1\n",
    "    for i in range(1,k+1):\n",
    "        prod=prod*i\n",
    "    # print(prod)\n",
    "    prod1=1\n",
    "    for j in range(1,k+2):\n",
    "        prod1=prod1*j\n",
    "    # print(prod1)\n",
    "    sum=sum+prod/prod1\n",
    "print(sum)\n"
   ]
  },
  {
   "cell_type": "code",
   "execution_count": 13,
   "id": "0e302672",
   "metadata": {},
   "outputs": [],
   "source": [
    "def fact(n):\n",
    "    prod=1\n",
    "    for i in range(1,n+1):\n",
    "        prod=prod*i\n",
    "    return prod\n"
   ]
  },
  {
   "cell_type": "code",
   "execution_count": 14,
   "id": "a362e2d5",
   "metadata": {},
   "outputs": [
    {
     "data": {
      "text/plain": [
       "24"
      ]
     },
     "execution_count": 14,
     "metadata": {},
     "output_type": "execute_result"
    }
   ],
   "source": [
    "fact(4)"
   ]
  },
  {
   "cell_type": "code",
   "execution_count": 2,
   "id": "e0c827d2",
   "metadata": {},
   "outputs": [],
   "source": [
    "# Definition for singly-linked list.\n",
    "# class ListNode:\n",
    "#     def __init__(self, val=0, next=None):\n",
    "#         self.val = val\n",
    "#         self.next = next\n",
    "class Solution:\n",
    "    def isPalindrome(self, head):\n",
    "        prev=None\n",
    "        curr=head\n",
    "        while curr is not None:\n",
    "            next_node=curr.next\n",
    "            curr.next=prev\n",
    "            prev=curr\n",
    "            curr=next_node\n",
    "        return prev"
   ]
  },
  {
   "cell_type": "code",
   "execution_count": 1,
   "id": "2f72be24",
   "metadata": {},
   "outputs": [
    {
     "data": {
      "text/plain": [
       "34.57"
      ]
     },
     "execution_count": 1,
     "metadata": {},
     "output_type": "execute_result"
    }
   ],
   "source": [
    "round(34.5678,2)"
   ]
  },
  {
   "cell_type": "code",
   "execution_count": 2,
   "id": "503e92f8",
   "metadata": {},
   "outputs": [
    {
     "name": "stdout",
     "output_type": "stream",
     "text": [
      "23.456700\n"
     ]
    }
   ],
   "source": [
    "a=23.4567\n",
    "print('%2f' %a)"
   ]
  },
  {
   "cell_type": "code",
   "execution_count": 5,
   "id": "713aadd9",
   "metadata": {},
   "outputs": [
    {
     "name": "stdout",
     "output_type": "stream",
     "text": [
      "5.00\n"
     ]
    }
   ],
   "source": [
    "print(format(5.00000,'.2f'))"
   ]
  },
  {
   "cell_type": "code",
   "execution_count": null,
   "id": "f62e30ec",
   "metadata": {},
   "outputs": [],
   "source": [
    "arr = []\n",
    "for x in range(N):\n",
    "    str = input()\n",
    "    operation = str.split(' ')\n",
    "    command = operation[0]\n",
    "\n",
    "    if command == \"insert\":\n",
    "            arr.insert(int(operation[1]), int(operation[2]))\n",
    "    elif command == \"print\":\n",
    "            print(arr)\n",
    "    elif command == \"remove\":\n",
    "            arr.remove(int(operation[1]))\n",
    "    elif command == \"append\":\n",
    "            arr.append(int(operation[1]))\n",
    "    elif command == \"sort\":\n",
    "            arr.sort()\n",
    "    elif command == \"pop\":\n",
    "            arr.pop()\n",
    "    elif command == \"reverse\":\n",
    "            arr.reverse()"
   ]
  }
 ],
 "metadata": {
  "kernelspec": {
   "display_name": "Python 3 (ipykernel)",
   "language": "python",
   "name": "python3"
  },
  "language_info": {
   "codemirror_mode": {
    "name": "ipython",
    "version": 3
   },
   "file_extension": ".py",
   "mimetype": "text/x-python",
   "name": "python",
   "nbconvert_exporter": "python",
   "pygments_lexer": "ipython3",
   "version": "3.11.5"
  }
 },
 "nbformat": 4,
 "nbformat_minor": 5
}
