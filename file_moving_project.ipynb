{
 "cells": [
  {
   "cell_type": "markdown",
   "id": "a29a0b3b",
   "metadata": {},
   "source": [
    "# standard libraries:\n",
    "                                \n",
    "                                os,shutil,psutil,subprocess,sys etc"
   ]
  },
  {
   "cell_type": "markdown",
   "id": "a9858b17",
   "metadata": {},
   "source": [
    "        input ---> source path\n",
    "        \n",
    "        input2 ---> destination file"
   ]
  },
  {
   "cell_type": "code",
   "execution_count": 1,
   "id": "85bffdf7",
   "metadata": {},
   "outputs": [],
   "source": [
    "import os\n",
    "import shutil"
   ]
  },
  {
   "cell_type": "code",
   "execution_count": 2,
   "id": "4ccda769",
   "metadata": {},
   "outputs": [
    {
     "name": "stdout",
     "output_type": "stream",
     "text": [
      "['COPY_BUFSIZE', 'Error', 'ExecError', 'ReadError', 'RegistryError', 'SameFileError', 'SpecialFileError', '_ARCHIVE_FORMATS', '_BZ2_SUPPORTED', '_GiveupOnFastCopy', '_HAS_FCOPYFILE', '_LZMA_SUPPORTED', '_UNPACK_FORMATS', '_USE_CP_SENDFILE', '_WINDOWS', '_WIN_DEFAULT_PATHEXT', '_ZLIB_SUPPORTED', '__all__', '__builtins__', '__cached__', '__doc__', '__file__', '__loader__', '__name__', '__package__', '__spec__', '_access_check', '_basename', '_check_unpack_options', '_copyfileobj_readinto', '_copytree', '_copyxattr', '_destinsrc', '_ensure_directory', '_fastcopy_fcopyfile', '_fastcopy_sendfile', '_find_unpack_format', '_get_gid', '_get_uid', '_is_immutable', '_islink', '_make_tarball', '_make_zipfile', '_ntuple_diskusage', '_rmtree_isdir', '_rmtree_islink', '_rmtree_safe_fd', '_rmtree_unsafe', '_samefile', '_stat', '_unpack_tarfile', '_unpack_zipfile', '_use_fd_functions', 'chown', 'collections', 'copy', 'copy2', 'copyfile', 'copyfileobj', 'copymode', 'copystat', 'copytree', 'disk_usage', 'errno', 'fnmatch', 'get_archive_formats', 'get_terminal_size', 'get_unpack_formats', 'ignore_patterns', 'make_archive', 'move', 'nt', 'os', 'posix', 'register_archive_format', 'register_unpack_format', 'rmtree', 'stat', 'sys', 'unpack_archive', 'unregister_archive_format', 'unregister_unpack_format', 'which']\n"
     ]
    }
   ],
   "source": [
    "print(dir(shutil))"
   ]
  },
  {
   "cell_type": "code",
   "execution_count": 3,
   "id": "618d0499",
   "metadata": {},
   "outputs": [
    {
     "name": "stdout",
     "output_type": "stream",
     "text": [
      "enter source path: C:\\Users\\DELL\\OneDrive\\Desktop\n",
      "enter destination path: C:\\Users\\DELL\\OneDrive\\Desktop\\new1\n"
     ]
    }
   ],
   "source": [
    "source_path=input(\"enter source path: \")\n",
    "dest_path=input(\"enter destination path: \")"
   ]
  },
  {
   "cell_type": "code",
   "execution_count": 4,
   "id": "b52f00d5",
   "metadata": {},
   "outputs": [
    {
     "data": {
      "text/plain": [
       "'C:\\\\Users\\\\DELL\\\\OneDrive\\\\Desktop'"
      ]
     },
     "execution_count": 4,
     "metadata": {},
     "output_type": "execute_result"
    }
   ],
   "source": [
    "source_path"
   ]
  },
  {
   "cell_type": "code",
   "execution_count": 5,
   "id": "ed7a14fc",
   "metadata": {},
   "outputs": [
    {
     "data": {
      "text/plain": [
       "'C:\\\\Users\\\\DELL\\\\OneDrive\\\\Desktop\\\\new1'"
      ]
     },
     "execution_count": 5,
     "metadata": {},
     "output_type": "execute_result"
    }
   ],
   "source": [
    "dest_path"
   ]
  },
  {
   "cell_type": "code",
   "execution_count": 6,
   "id": "4154a22a",
   "metadata": {},
   "outputs": [
    {
     "data": {
      "text/plain": [
       "['Desktop - Shortcut.lnk',\n",
       " 'desktop.ini',\n",
       " 'fsquirt - Shortcut.lnk',\n",
       " 'hello.txt.txt',\n",
       " 'image.jpg.jpg',\n",
       " 'khushi',\n",
       " 'khushi.txt.txt',\n",
       " 'Microsoft Edge.lnk',\n",
       " 'Music - Shortcut.lnk',\n",
       " 'new',\n",
       " 'new1',\n",
       " 'Sonma Typing-Expert.lnk',\n",
       " 'tmdb_5000_credits.csv',\n",
       " 'tmdb_5000_movies.csv',\n",
       " 'Visual Studio Code.lnk']"
      ]
     },
     "execution_count": 6,
     "metadata": {},
     "output_type": "execute_result"
    }
   ],
   "source": [
    "os.listdir(source_path)"
   ]
  },
  {
   "cell_type": "code",
   "execution_count": 10,
   "id": "f3bd1a25",
   "metadata": {},
   "outputs": [
    {
     "data": {
      "text/plain": [
       "False"
      ]
     },
     "execution_count": 10,
     "metadata": {},
     "output_type": "execute_result"
    }
   ],
   "source": [
    "os.path.exists('jfoisejl')"
   ]
  },
  {
   "cell_type": "code",
   "execution_count": 7,
   "id": "d894a621",
   "metadata": {},
   "outputs": [
    {
     "data": {
      "text/plain": [
       "True"
      ]
     },
     "execution_count": 7,
     "metadata": {},
     "output_type": "execute_result"
    }
   ],
   "source": [
    "os.path.isfile('tmdb_5000_movies.csv')   # check file h ya nhi"
   ]
  },
  {
   "cell_type": "code",
   "execution_count": null,
   "id": "07fd753a",
   "metadata": {},
   "outputs": [],
   "source": [
    "os.path.isdir()   # folder h ya nhi"
   ]
  },
  {
   "cell_type": "code",
   "execution_count": 8,
   "id": "dcba10be",
   "metadata": {},
   "outputs": [
    {
     "data": {
      "text/plain": [
       "True"
      ]
     },
     "execution_count": 8,
     "metadata": {},
     "output_type": "execute_result"
    }
   ],
   "source": [
    "os.path.isfile('C:\\\\Users\\\\DELL\\\\OneDrive\\\\Desktop\\\\khushi.txt.txt')"
   ]
  },
  {
   "cell_type": "code",
   "execution_count": 9,
   "id": "f5fd4fae",
   "metadata": {},
   "outputs": [
    {
     "data": {
      "text/plain": [
       "'C:\\\\Users\\\\DELL\\\\OneDrive\\\\Desktop\\\\new1\\\\khushi.txt.txt'"
      ]
     },
     "execution_count": 9,
     "metadata": {},
     "output_type": "execute_result"
    }
   ],
   "source": [
    "shutil.move('C:\\\\Users\\\\DELL\\\\OneDrive\\\\Desktop\\\\khushi.txt.txt','C:\\\\Users\\\\DELL\\\\OneDrive\\\\Desktop\\\\new1')"
   ]
  },
  {
   "cell_type": "markdown",
   "id": "c2aa2366",
   "metadata": {},
   "source": [
    "## move source file to destination "
   ]
  },
  {
   "cell_type": "code",
   "execution_count": null,
   "id": "bc37a59b",
   "metadata": {},
   "outputs": [],
   "source": [
    "import os\n",
    "import shutil\n",
    "\n",
    "source_path=input(\"enter source path: \")\n",
    "dest_path=input(\"enter destination path: \")\n",
    "\n",
    "try:\n",
    "    if os.path.exists(source_path) and os.path.isdir(source_path):\n",
    "        if os.path.exists(dest_path) and os.path.isdir(dest_path):\n",
    "            all_data=os.listdir(source_path)\n",
    "            print(all_data,'\\n')\n",
    "            join_path=[os.path.join(source_path,i) for i in all_data]\n",
    "            print(join_path,'\\n')\n",
    "            filtered_data=filter(lambda x:True if os.path.isfile(x) else False , join_path)\n",
    "            for i in filtered_data:\n",
    "                shutil.move(i,dest_path)\n",
    "        else:\n",
    "            print('dest_path must be directory')\n",
    "    else:\n",
    "        print('source path must be directory')\n",
    "except BaseException as e:\n",
    "    print(e)"
   ]
  },
  {
   "cell_type": "markdown",
   "id": "7ff541ee",
   "metadata": {},
   "source": [
    "## copy file source path to destination path"
   ]
  },
  {
   "cell_type": "code",
   "execution_count": null,
   "id": "46fdae64",
   "metadata": {},
   "outputs": [],
   "source": []
  }
 ],
 "metadata": {
  "kernelspec": {
   "display_name": "Python 3 (ipykernel)",
   "language": "python",
   "name": "python3"
  },
  "language_info": {
   "codemirror_mode": {
    "name": "ipython",
    "version": 3
   },
   "file_extension": ".py",
   "mimetype": "text/x-python",
   "name": "python",
   "nbconvert_exporter": "python",
   "pygments_lexer": "ipython3",
   "version": "3.11.5"
  }
 },
 "nbformat": 4,
 "nbformat_minor": 5
}
